{
  "cells": [
    {
      "cell_type": "markdown",
      "metadata": {},
      "source": [
        "# **CNN Image Classification for Car Classification**\n",
        "\n",
        "In today's digital age, visual data is abundant, and extracting meaningful information from images is crucial for various applications. One such application is the classification of cars based on their images, which holds significant importance in industries ranging from automotive manufacturing to traffic management.\n",
        "\n",
        "In this notebook, we'll use Convolutional Neural Networks (CNNs) to tackle the task of classifying cars into different categories based on their images. CNNs have emerged as powerful tools for image recognition tasks, thanks to their ability to automatically learn relevant features from raw pixel data.\n",
        "\n",
        "## Dataset\n",
        "\n",
        "We'll be using a [dataset](https://www.kaggle.com/datasets/eimadevyni/car-model-variants-and-images-dataset) containing a diverse collection of car images, each belonging to a specific make, model, or category. This dataset provides us with a rich source of visual information for training and evaluating our CNN-based classification model.\n",
        "\n",
        "## Objective\n",
        "\n",
        "Our primary objective is to develop an accurate CNN model capable of classifying cars into distinct classes (luxury or massmarket) based solely on their visual features. By harnessing the power of deep learning, we aim to automate the process of car classification and enable precise identification of different car types from images.\n",
        "\n",
        "## Methodology\n",
        "\n",
        "Our approach to CNN-based car classification involves the following key steps:\n",
        "\n",
        "1. **Feature Engineering and Image Preprocessing**: We'll perform feature engineering on the daraset and will preprocess the car images by resizing, normalizing, and augmenting them to ensure uniformity and improve model generalization.\n",
        "\n",
        "2. **Model Architecture**: We'll design a CNN architecture tailored specifically for car classification. This architecture will comprise multiple convolutional layers followed by pooling layers, enabling the model to extract hierarchical features from the input images.\n",
        "\n",
        "3. **Model Training**: Using the preprocessed image data, we'll train our CNN model on a labeled dataset of car images. During training, the model will learn to associate visual patterns with corresponding car classes through backpropagation and gradient descent.\n",
        "\n",
        "4. **Evaluation and Fine-Tuning**: We'll evaluate the performance of our trained model on a separate validation dataset, measuring metrics such as accuracy, precision, recall, and F1-score. Additionally, we may fine-tune the model parameters using hyperparameter tuning.\n",
        "\n",
        "By the end of this notebook, you'll gain a comprehensive understanding of how CNNs can be used for image classification tasks, particularly in the context of categorizing cars based on their visual attributes. Let's embark on this journey to unlock the potential of CNN image classification for car classification tasks!\n",
        "\n",
        "Let's get started!"
      ]
    },
    {
      "cell_type": "markdown",
      "metadata": {
        "id": "wv49huhPA6YQ"
      },
      "source": [
        "# Import Libraries"
      ]
    },
    {
      "cell_type": "code",
      "execution_count": 1,
      "metadata": {
        "id": "26mtver_PH2h"
      },
      "outputs": [],
      "source": [
        "from tensorflow.keras.wrappers.scikit_learn import KerasClassifier\n",
        "import tensorflow as tf\n",
        "import sklearn\n",
        "import numpy as np\n",
        "import pandas as pd\n",
        "import matplotlib.pyplot as plt\n",
        "import seaborn as sns"
      ]
    },
    {
      "cell_type": "markdown",
      "metadata": {
        "id": "FxsIJpcBA-2E"
      },
      "source": [
        "# Import Data\n",
        "- I'll be importing the data using the Kaggle API\n",
        "- The data will be stored in the /content/ folder on Google Colab\n",
        "- The data consistd of three items:\n",
        "  - Test folder\n",
        "  - Train folder\n",
        "  - CSV file containing the dataset"
      ]
    },
    {
      "cell_type": "code",
      "execution_count": 3,
      "metadata": {
        "colab": {
          "base_uri": "https://localhost:8080/",
          "height": 73
        },
        "id": "8N1Iwh0aELiU",
        "outputId": "9634b5d2-2557-452c-eee1-d9304d660921"
      },
      "outputs": [
        {
          "data": {
            "text/html": [
              "\n",
              "     <input type=\"file\" id=\"files-48ea4f63-aeb7-4754-bf6b-294f5df1ac0e\" name=\"files[]\" multiple disabled\n",
              "        style=\"border:none\" />\n",
              "     <output id=\"result-48ea4f63-aeb7-4754-bf6b-294f5df1ac0e\">\n",
              "      Upload widget is only available when the cell has been executed in the\n",
              "      current browser session. Please rerun this cell to enable.\n",
              "      </output>\n",
              "      <script>// Copyright 2017 Google LLC\n",
              "//\n",
              "// Licensed under the Apache License, Version 2.0 (the \"License\");\n",
              "// you may not use this file except in compliance with the License.\n",
              "// You may obtain a copy of the License at\n",
              "//\n",
              "//      http://www.apache.org/licenses/LICENSE-2.0\n",
              "//\n",
              "// Unless required by applicable law or agreed to in writing, software\n",
              "// distributed under the License is distributed on an \"AS IS\" BASIS,\n",
              "// WITHOUT WARRANTIES OR CONDITIONS OF ANY KIND, either express or implied.\n",
              "// See the License for the specific language governing permissions and\n",
              "// limitations under the License.\n",
              "\n",
              "/**\n",
              " * @fileoverview Helpers for google.colab Python module.\n",
              " */\n",
              "(function(scope) {\n",
              "function span(text, styleAttributes = {}) {\n",
              "  const element = document.createElement('span');\n",
              "  element.textContent = text;\n",
              "  for (const key of Object.keys(styleAttributes)) {\n",
              "    element.style[key] = styleAttributes[key];\n",
              "  }\n",
              "  return element;\n",
              "}\n",
              "\n",
              "// Max number of bytes which will be uploaded at a time.\n",
              "const MAX_PAYLOAD_SIZE = 100 * 1024;\n",
              "\n",
              "function _uploadFiles(inputId, outputId) {\n",
              "  const steps = uploadFilesStep(inputId, outputId);\n",
              "  const outputElement = document.getElementById(outputId);\n",
              "  // Cache steps on the outputElement to make it available for the next call\n",
              "  // to uploadFilesContinue from Python.\n",
              "  outputElement.steps = steps;\n",
              "\n",
              "  return _uploadFilesContinue(outputId);\n",
              "}\n",
              "\n",
              "// This is roughly an async generator (not supported in the browser yet),\n",
              "// where there are multiple asynchronous steps and the Python side is going\n",
              "// to poll for completion of each step.\n",
              "// This uses a Promise to block the python side on completion of each step,\n",
              "// then passes the result of the previous step as the input to the next step.\n",
              "function _uploadFilesContinue(outputId) {\n",
              "  const outputElement = document.getElementById(outputId);\n",
              "  const steps = outputElement.steps;\n",
              "\n",
              "  const next = steps.next(outputElement.lastPromiseValue);\n",
              "  return Promise.resolve(next.value.promise).then((value) => {\n",
              "    // Cache the last promise value to make it available to the next\n",
              "    // step of the generator.\n",
              "    outputElement.lastPromiseValue = value;\n",
              "    return next.value.response;\n",
              "  });\n",
              "}\n",
              "\n",
              "/**\n",
              " * Generator function which is called between each async step of the upload\n",
              " * process.\n",
              " * @param {string} inputId Element ID of the input file picker element.\n",
              " * @param {string} outputId Element ID of the output display.\n",
              " * @return {!Iterable<!Object>} Iterable of next steps.\n",
              " */\n",
              "function* uploadFilesStep(inputId, outputId) {\n",
              "  const inputElement = document.getElementById(inputId);\n",
              "  inputElement.disabled = false;\n",
              "\n",
              "  const outputElement = document.getElementById(outputId);\n",
              "  outputElement.innerHTML = '';\n",
              "\n",
              "  const pickedPromise = new Promise((resolve) => {\n",
              "    inputElement.addEventListener('change', (e) => {\n",
              "      resolve(e.target.files);\n",
              "    });\n",
              "  });\n",
              "\n",
              "  const cancel = document.createElement('button');\n",
              "  inputElement.parentElement.appendChild(cancel);\n",
              "  cancel.textContent = 'Cancel upload';\n",
              "  const cancelPromise = new Promise((resolve) => {\n",
              "    cancel.onclick = () => {\n",
              "      resolve(null);\n",
              "    };\n",
              "  });\n",
              "\n",
              "  // Wait for the user to pick the files.\n",
              "  const files = yield {\n",
              "    promise: Promise.race([pickedPromise, cancelPromise]),\n",
              "    response: {\n",
              "      action: 'starting',\n",
              "    }\n",
              "  };\n",
              "\n",
              "  cancel.remove();\n",
              "\n",
              "  // Disable the input element since further picks are not allowed.\n",
              "  inputElement.disabled = true;\n",
              "\n",
              "  if (!files) {\n",
              "    return {\n",
              "      response: {\n",
              "        action: 'complete',\n",
              "      }\n",
              "    };\n",
              "  }\n",
              "\n",
              "  for (const file of files) {\n",
              "    const li = document.createElement('li');\n",
              "    li.append(span(file.name, {fontWeight: 'bold'}));\n",
              "    li.append(span(\n",
              "        `(${file.type || 'n/a'}) - ${file.size} bytes, ` +\n",
              "        `last modified: ${\n",
              "            file.lastModifiedDate ? file.lastModifiedDate.toLocaleDateString() :\n",
              "                                    'n/a'} - `));\n",
              "    const percent = span('0% done');\n",
              "    li.appendChild(percent);\n",
              "\n",
              "    outputElement.appendChild(li);\n",
              "\n",
              "    const fileDataPromise = new Promise((resolve) => {\n",
              "      const reader = new FileReader();\n",
              "      reader.onload = (e) => {\n",
              "        resolve(e.target.result);\n",
              "      };\n",
              "      reader.readAsArrayBuffer(file);\n",
              "    });\n",
              "    // Wait for the data to be ready.\n",
              "    let fileData = yield {\n",
              "      promise: fileDataPromise,\n",
              "      response: {\n",
              "        action: 'continue',\n",
              "      }\n",
              "    };\n",
              "\n",
              "    // Use a chunked sending to avoid message size limits. See b/62115660.\n",
              "    let position = 0;\n",
              "    do {\n",
              "      const length = Math.min(fileData.byteLength - position, MAX_PAYLOAD_SIZE);\n",
              "      const chunk = new Uint8Array(fileData, position, length);\n",
              "      position += length;\n",
              "\n",
              "      const base64 = btoa(String.fromCharCode.apply(null, chunk));\n",
              "      yield {\n",
              "        response: {\n",
              "          action: 'append',\n",
              "          file: file.name,\n",
              "          data: base64,\n",
              "        },\n",
              "      };\n",
              "\n",
              "      let percentDone = fileData.byteLength === 0 ?\n",
              "          100 :\n",
              "          Math.round((position / fileData.byteLength) * 100);\n",
              "      percent.textContent = `${percentDone}% done`;\n",
              "\n",
              "    } while (position < fileData.byteLength);\n",
              "  }\n",
              "\n",
              "  // All done.\n",
              "  yield {\n",
              "    response: {\n",
              "      action: 'complete',\n",
              "    }\n",
              "  };\n",
              "}\n",
              "\n",
              "scope.google = scope.google || {};\n",
              "scope.google.colab = scope.google.colab || {};\n",
              "scope.google.colab._files = {\n",
              "  _uploadFiles,\n",
              "  _uploadFilesContinue,\n",
              "};\n",
              "})(self);\n",
              "</script> "
            ],
            "text/plain": [
              "<IPython.core.display.HTML object>"
            ]
          },
          "metadata": {},
          "output_type": "display_data"
        },
        {
          "name": "stdout",
          "output_type": "stream",
          "text": [
            "Saving kaggle.json to kaggle.json\n"
          ]
        }
      ],
      "source": [
        "from google.colab import files\n",
        "# Uploading Kaggle API token JSON file\n",
        "uploaded = files.upload()\n",
        "\n",
        "# Moving the Kaggle API credentials file to the appropriate location\n",
        "!mkdir -p ~/.kaggle\n",
        "!mv kaggle.json ~/.kaggle/\n",
        "!chmod 600 ~/.kaggle/kaggle.json\n",
        "\n",
        "import kaggle\n",
        "# Specifying the dataset to download\n",
        "dataset_name = 'eimadevyni/car-model-variants-and-images-dataset' #can be found in url\n",
        "\n",
        "# Setting the directory for downloading the dataset\n",
        "download_dir = '/content/'\n",
        "\n",
        "# Downloading the dataset\n",
        "kaggle.api.dataset_download_files(dataset_name, path=download_dir,unzip=True)\n",
        "\n"
      ]
    },
    {
      "cell_type": "markdown",
      "metadata": {
        "id": "9KelHRYrBJaj"
      },
      "source": [
        "Viewing the DataFrame:"
      ]
    },
    {
      "cell_type": "markdown",
      "metadata": {
        "id": "GQpOr5-wBVeL"
      },
      "source": [
        "## 1. Read the CSV File\n",
        "I'll be reading the data from the included CSV file into a DataFrame:"
      ]
    },
    {
      "cell_type": "code",
      "execution_count": 4,
      "metadata": {
        "id": "_vZXiTPCGqh_"
      },
      "outputs": [],
      "source": [
        "import pandas as pd\n",
        "data = pd.read_csv(r\"/content/data_full.csv\")"
      ]
    },
    {
      "cell_type": "markdown",
      "metadata": {
        "id": "Y_T1k99OqMdV"
      },
      "source": [
        "### Viewing the dataframe"
      ]
    },
    {
      "cell_type": "code",
      "execution_count": 5,
      "metadata": {
        "colab": {
          "base_uri": "https://localhost:8080/",
          "height": 568
        },
        "id": "i8OVJHSeHDf6",
        "outputId": "1139accb-9939-410b-8412-828623ca9686"
      },
      "outputs": [
        {
          "data": {
            "text/html": [
              "\n",
              "  <div id=\"df-03529030-7c2b-48a6-aa63-411ca29318ed\" class=\"colab-df-container\">\n",
              "    <div>\n",
              "<style scoped>\n",
              "    .dataframe tbody tr th:only-of-type {\n",
              "        vertical-align: middle;\n",
              "    }\n",
              "\n",
              "    .dataframe tbody tr th {\n",
              "        vertical-align: top;\n",
              "    }\n",
              "\n",
              "    .dataframe thead th {\n",
              "        text-align: right;\n",
              "    }\n",
              "</style>\n",
              "<table border=\"1\" class=\"dataframe\">\n",
              "  <thead>\n",
              "    <tr style=\"text-align: right;\">\n",
              "      <th></th>\n",
              "      <th>brand</th>\n",
              "      <th>model</th>\n",
              "      <th>production_years</th>\n",
              "      <th>from_year</th>\n",
              "      <th>to_year</th>\n",
              "      <th>body_style</th>\n",
              "      <th>segment</th>\n",
              "      <th>title</th>\n",
              "      <th>description</th>\n",
              "      <th>engine_specs_title</th>\n",
              "      <th>...</th>\n",
              "      <th>city</th>\n",
              "      <th>ground_clearance</th>\n",
              "      <th>gross_weight_limit</th>\n",
              "      <th>brand_url</th>\n",
              "      <th>brand_logo_url</th>\n",
              "      <th>model_url</th>\n",
              "      <th>image_urls</th>\n",
              "      <th>image_file_names</th>\n",
              "      <th>dir_path</th>\n",
              "      <th>total_images</th>\n",
              "    </tr>\n",
              "  </thead>\n",
              "  <tbody>\n",
              "    <tr>\n",
              "      <th>0</th>\n",
              "      <td>AC</td>\n",
              "      <td>AC  428 Convertible</td>\n",
              "      <td>1966, 1967, 1968, 1969, 1970, 1971</td>\n",
              "      <td>1966</td>\n",
              "      <td>1971</td>\n",
              "      <td>Convertible (spider/spyder, cabrio/cabriolet, ...</td>\n",
              "      <td>Coupe Cabrio</td>\n",
              "      <td>AC  428 Convertible 19661971</td>\n",
              "      <td>In 1966, AC cut a deal with the Italian coachb...</td>\n",
              "      <td>7.0L V8 3AT (350 HP)</td>\n",
              "      <td>...</td>\n",
              "      <td>NaN</td>\n",
              "      <td>6 in (152 mm)</td>\n",
              "      <td>NaN</td>\n",
              "      <td>https://www.autoevolution.com/ac/</td>\n",
              "      <td>https://s1.cdn.autoevolution.com/images/produc...</td>\n",
              "      <td>https://www.autoevolution.com/cars/ac-428-conv...</td>\n",
              "      <td>https://s1.cdn.autoevolution.com/images/galler...</td>\n",
              "      <td>['ac-428-convertible-1966-7054_1.jpg', 'ac-428...</td>\n",
              "      <td>images/AC/AC__428_Convertible/19661971</td>\n",
              "      <td>24</td>\n",
              "    </tr>\n",
              "    <tr>\n",
              "      <th>1</th>\n",
              "      <td>ACURA</td>\n",
              "      <td>ACURA MDX</td>\n",
              "      <td>2021, 2022, 2023</td>\n",
              "      <td>2001</td>\n",
              "      <td>2024</td>\n",
              "      <td>SUV (Sports Utility Vehicle)</td>\n",
              "      <td>Medium SUV</td>\n",
              "      <td>ACURA MDX 2021Present</td>\n",
              "      <td>Reaching the 4th generation, the MDX became th...</td>\n",
              "      <td>3.5L V6 10AT (290 HP)</td>\n",
              "      <td>...</td>\n",
              "      <td>19 mpg US (12.4 L/100Km)</td>\n",
              "      <td>7.3 in (185 mm)</td>\n",
              "      <td>NaN</td>\n",
              "      <td>https://www.autoevolution.com/acura/</td>\n",
              "      <td>https://s1.cdn.autoevolution.com/images/produc...</td>\n",
              "      <td>https://www.autoevolution.com/cars/acura-mdx-2...</td>\n",
              "      <td>https://s1.cdn.autoevolution.com/images/galler...</td>\n",
              "      <td>['acura-mdx-2021-6991_15.jpg', 'acura-mdx-2021...</td>\n",
              "      <td>images/ACURA/ACURA_MDX/2021Present</td>\n",
              "      <td>33</td>\n",
              "    </tr>\n",
              "    <tr>\n",
              "      <th>2</th>\n",
              "      <td>ACURA</td>\n",
              "      <td>ACURA MDX ASpec</td>\n",
              "      <td>2018, 2019, 2020, 2021, 2022, 2023</td>\n",
              "      <td>2001</td>\n",
              "      <td>2024</td>\n",
              "      <td>SUV (Sports Utility Vehicle)</td>\n",
              "      <td>Medium SUV</td>\n",
              "      <td>ACURA MDX ASpec 2018Present</td>\n",
              "      <td>Acura unveiled the 2019 MDX model in late 2018...</td>\n",
              "      <td>3.5L V6 9AT AWD (290 HP)</td>\n",
              "      <td>...</td>\n",
              "      <td>18 mpg US (13.1 L/100Km)</td>\n",
              "      <td>7.3 in (185 mm)</td>\n",
              "      <td>NaN</td>\n",
              "      <td>https://www.autoevolution.com/acura/</td>\n",
              "      <td>https://s1.cdn.autoevolution.com/images/produc...</td>\n",
              "      <td>https://www.autoevolution.com/cars/acura-mdx-a...</td>\n",
              "      <td>https://s1.cdn.autoevolution.com/images/galler...</td>\n",
              "      <td>['ACURA-MDX-A-Spec-6304_1.jpg', 'ACURA-MDX-A-S...</td>\n",
              "      <td>images/ACURA/ACURA_MDX_ASpec/2018Present</td>\n",
              "      <td>48</td>\n",
              "    </tr>\n",
              "    <tr>\n",
              "      <th>3</th>\n",
              "      <td>ACURA</td>\n",
              "      <td>ACURA MDX</td>\n",
              "      <td>2013, 2014, 2015, 2016</td>\n",
              "      <td>2001</td>\n",
              "      <td>2024</td>\n",
              "      <td>SUV (Sports Utility Vehicle)</td>\n",
              "      <td>Medium SUV</td>\n",
              "      <td>ACURA MDX 20132016</td>\n",
              "      <td>The 2014 Acura MDX is built on an entirely new...</td>\n",
              "      <td>3.5L V6 6AT (294 HP)</td>\n",
              "      <td>...</td>\n",
              "      <td>20 mpg US (11.8 L/100Km)</td>\n",
              "      <td>NaN</td>\n",
              "      <td>NaN</td>\n",
              "      <td>https://www.autoevolution.com/acura/</td>\n",
              "      <td>https://s1.cdn.autoevolution.com/images/produc...</td>\n",
              "      <td>https://www.autoevolution.com/cars/acura-mdx-2...</td>\n",
              "      <td>https://s1.cdn.autoevolution.com/images/galler...</td>\n",
              "      <td>['ACURA-MDX-4836_1.jpg', 'ACURA-MDX-4836_2.jpg...</td>\n",
              "      <td>images/ACURA/ACURA_MDX/20132016</td>\n",
              "      <td>37</td>\n",
              "    </tr>\n",
              "    <tr>\n",
              "      <th>4</th>\n",
              "      <td>ACURA</td>\n",
              "      <td>ACURA MDX</td>\n",
              "      <td>2010, 2011, 2012, 2013</td>\n",
              "      <td>2001</td>\n",
              "      <td>2024</td>\n",
              "      <td>SUV (Sports Utility Vehicle)</td>\n",
              "      <td>Medium SUV</td>\n",
              "      <td>ACURA MDX 20102013</td>\n",
              "      <td>The Acura MDX was already a technologically ad...</td>\n",
              "      <td>3.7L V6 AWD 6AT (300 HP)</td>\n",
              "      <td>...</td>\n",
              "      <td>16 mpg US (14.7 L/100Km)</td>\n",
              "      <td>8.2 in (208 mm)</td>\n",
              "      <td>5790 lbs (2626 kg)</td>\n",
              "      <td>https://www.autoevolution.com/acura/</td>\n",
              "      <td>https://s1.cdn.autoevolution.com/images/produc...</td>\n",
              "      <td>https://www.autoevolution.com/cars/acura-mdx-2...</td>\n",
              "      <td>https://s1.cdn.autoevolution.com/images/galler...</td>\n",
              "      <td>['ACURAMDX-4382_1.jpg', 'ACURAMDX-4382_2.jpg',...</td>\n",
              "      <td>images/ACURA/ACURA_MDX/20102013</td>\n",
              "      <td>41</td>\n",
              "    </tr>\n",
              "  </tbody>\n",
              "</table>\n",
              "<p>5 rows × 44 columns</p>\n",
              "</div>\n",
              "    <div class=\"colab-df-buttons\">\n",
              "\n",
              "  <div class=\"colab-df-container\">\n",
              "    <button class=\"colab-df-convert\" onclick=\"convertToInteractive('df-03529030-7c2b-48a6-aa63-411ca29318ed')\"\n",
              "            title=\"Convert this dataframe to an interactive table.\"\n",
              "            style=\"display:none;\">\n",
              "\n",
              "  <svg xmlns=\"http://www.w3.org/2000/svg\" height=\"24px\" viewBox=\"0 -960 960 960\">\n",
              "    <path d=\"M120-120v-720h720v720H120Zm60-500h600v-160H180v160Zm220 220h160v-160H400v160Zm0 220h160v-160H400v160ZM180-400h160v-160H180v160Zm440 0h160v-160H620v160ZM180-180h160v-160H180v160Zm440 0h160v-160H620v160Z\"/>\n",
              "  </svg>\n",
              "    </button>\n",
              "\n",
              "  <style>\n",
              "    .colab-df-container {\n",
              "      display:flex;\n",
              "      gap: 12px;\n",
              "    }\n",
              "\n",
              "    .colab-df-convert {\n",
              "      background-color: #E8F0FE;\n",
              "      border: none;\n",
              "      border-radius: 50%;\n",
              "      cursor: pointer;\n",
              "      display: none;\n",
              "      fill: #1967D2;\n",
              "      height: 32px;\n",
              "      padding: 0 0 0 0;\n",
              "      width: 32px;\n",
              "    }\n",
              "\n",
              "    .colab-df-convert:hover {\n",
              "      background-color: #E2EBFA;\n",
              "      box-shadow: 0px 1px 2px rgba(60, 64, 67, 0.3), 0px 1px 3px 1px rgba(60, 64, 67, 0.15);\n",
              "      fill: #174EA6;\n",
              "    }\n",
              "\n",
              "    .colab-df-buttons div {\n",
              "      margin-bottom: 4px;\n",
              "    }\n",
              "\n",
              "    [theme=dark] .colab-df-convert {\n",
              "      background-color: #3B4455;\n",
              "      fill: #D2E3FC;\n",
              "    }\n",
              "\n",
              "    [theme=dark] .colab-df-convert:hover {\n",
              "      background-color: #434B5C;\n",
              "      box-shadow: 0px 1px 3px 1px rgba(0, 0, 0, 0.15);\n",
              "      filter: drop-shadow(0px 1px 2px rgba(0, 0, 0, 0.3));\n",
              "      fill: #FFFFFF;\n",
              "    }\n",
              "  </style>\n",
              "\n",
              "    <script>\n",
              "      const buttonEl =\n",
              "        document.querySelector('#df-03529030-7c2b-48a6-aa63-411ca29318ed button.colab-df-convert');\n",
              "      buttonEl.style.display =\n",
              "        google.colab.kernel.accessAllowed ? 'block' : 'none';\n",
              "\n",
              "      async function convertToInteractive(key) {\n",
              "        const element = document.querySelector('#df-03529030-7c2b-48a6-aa63-411ca29318ed');\n",
              "        const dataTable =\n",
              "          await google.colab.kernel.invokeFunction('convertToInteractive',\n",
              "                                                    [key], {});\n",
              "        if (!dataTable) return;\n",
              "\n",
              "        const docLinkHtml = 'Like what you see? Visit the ' +\n",
              "          '<a target=\"_blank\" href=https://colab.research.google.com/notebooks/data_table.ipynb>data table notebook</a>'\n",
              "          + ' to learn more about interactive tables.';\n",
              "        element.innerHTML = '';\n",
              "        dataTable['output_type'] = 'display_data';\n",
              "        await google.colab.output.renderOutput(dataTable, element);\n",
              "        const docLink = document.createElement('div');\n",
              "        docLink.innerHTML = docLinkHtml;\n",
              "        element.appendChild(docLink);\n",
              "      }\n",
              "    </script>\n",
              "  </div>\n",
              "\n",
              "\n",
              "<div id=\"df-1ab13ecb-66cc-4ab7-b785-1577d2772825\">\n",
              "  <button class=\"colab-df-quickchart\" onclick=\"quickchart('df-1ab13ecb-66cc-4ab7-b785-1577d2772825')\"\n",
              "            title=\"Suggest charts\"\n",
              "            style=\"display:none;\">\n",
              "\n",
              "<svg xmlns=\"http://www.w3.org/2000/svg\" height=\"24px\"viewBox=\"0 0 24 24\"\n",
              "     width=\"24px\">\n",
              "    <g>\n",
              "        <path d=\"M19 3H5c-1.1 0-2 .9-2 2v14c0 1.1.9 2 2 2h14c1.1 0 2-.9 2-2V5c0-1.1-.9-2-2-2zM9 17H7v-7h2v7zm4 0h-2V7h2v10zm4 0h-2v-4h2v4z\"/>\n",
              "    </g>\n",
              "</svg>\n",
              "  </button>\n",
              "\n",
              "<style>\n",
              "  .colab-df-quickchart {\n",
              "      --bg-color: #E8F0FE;\n",
              "      --fill-color: #1967D2;\n",
              "      --hover-bg-color: #E2EBFA;\n",
              "      --hover-fill-color: #174EA6;\n",
              "      --disabled-fill-color: #AAA;\n",
              "      --disabled-bg-color: #DDD;\n",
              "  }\n",
              "\n",
              "  [theme=dark] .colab-df-quickchart {\n",
              "      --bg-color: #3B4455;\n",
              "      --fill-color: #D2E3FC;\n",
              "      --hover-bg-color: #434B5C;\n",
              "      --hover-fill-color: #FFFFFF;\n",
              "      --disabled-bg-color: #3B4455;\n",
              "      --disabled-fill-color: #666;\n",
              "  }\n",
              "\n",
              "  .colab-df-quickchart {\n",
              "    background-color: var(--bg-color);\n",
              "    border: none;\n",
              "    border-radius: 50%;\n",
              "    cursor: pointer;\n",
              "    display: none;\n",
              "    fill: var(--fill-color);\n",
              "    height: 32px;\n",
              "    padding: 0;\n",
              "    width: 32px;\n",
              "  }\n",
              "\n",
              "  .colab-df-quickchart:hover {\n",
              "    background-color: var(--hover-bg-color);\n",
              "    box-shadow: 0 1px 2px rgba(60, 64, 67, 0.3), 0 1px 3px 1px rgba(60, 64, 67, 0.15);\n",
              "    fill: var(--button-hover-fill-color);\n",
              "  }\n",
              "\n",
              "  .colab-df-quickchart-complete:disabled,\n",
              "  .colab-df-quickchart-complete:disabled:hover {\n",
              "    background-color: var(--disabled-bg-color);\n",
              "    fill: var(--disabled-fill-color);\n",
              "    box-shadow: none;\n",
              "  }\n",
              "\n",
              "  .colab-df-spinner {\n",
              "    border: 2px solid var(--fill-color);\n",
              "    border-color: transparent;\n",
              "    border-bottom-color: var(--fill-color);\n",
              "    animation:\n",
              "      spin 1s steps(1) infinite;\n",
              "  }\n",
              "\n",
              "  @keyframes spin {\n",
              "    0% {\n",
              "      border-color: transparent;\n",
              "      border-bottom-color: var(--fill-color);\n",
              "      border-left-color: var(--fill-color);\n",
              "    }\n",
              "    20% {\n",
              "      border-color: transparent;\n",
              "      border-left-color: var(--fill-color);\n",
              "      border-top-color: var(--fill-color);\n",
              "    }\n",
              "    30% {\n",
              "      border-color: transparent;\n",
              "      border-left-color: var(--fill-color);\n",
              "      border-top-color: var(--fill-color);\n",
              "      border-right-color: var(--fill-color);\n",
              "    }\n",
              "    40% {\n",
              "      border-color: transparent;\n",
              "      border-right-color: var(--fill-color);\n",
              "      border-top-color: var(--fill-color);\n",
              "    }\n",
              "    60% {\n",
              "      border-color: transparent;\n",
              "      border-right-color: var(--fill-color);\n",
              "    }\n",
              "    80% {\n",
              "      border-color: transparent;\n",
              "      border-right-color: var(--fill-color);\n",
              "      border-bottom-color: var(--fill-color);\n",
              "    }\n",
              "    90% {\n",
              "      border-color: transparent;\n",
              "      border-bottom-color: var(--fill-color);\n",
              "    }\n",
              "  }\n",
              "</style>\n",
              "\n",
              "  <script>\n",
              "    async function quickchart(key) {\n",
              "      const quickchartButtonEl =\n",
              "        document.querySelector('#' + key + ' button');\n",
              "      quickchartButtonEl.disabled = true;  // To prevent multiple clicks.\n",
              "      quickchartButtonEl.classList.add('colab-df-spinner');\n",
              "      try {\n",
              "        const charts = await google.colab.kernel.invokeFunction(\n",
              "            'suggestCharts', [key], {});\n",
              "      } catch (error) {\n",
              "        console.error('Error during call to suggestCharts:', error);\n",
              "      }\n",
              "      quickchartButtonEl.classList.remove('colab-df-spinner');\n",
              "      quickchartButtonEl.classList.add('colab-df-quickchart-complete');\n",
              "    }\n",
              "    (() => {\n",
              "      let quickchartButtonEl =\n",
              "        document.querySelector('#df-1ab13ecb-66cc-4ab7-b785-1577d2772825 button');\n",
              "      quickchartButtonEl.style.display =\n",
              "        google.colab.kernel.accessAllowed ? 'block' : 'none';\n",
              "    })();\n",
              "  </script>\n",
              "</div>\n",
              "    </div>\n",
              "  </div>\n"
            ],
            "text/plain": [
              "   brand                model                    production_years  from_year  \\\n",
              "0     AC  AC  428 Convertible  1966, 1967, 1968, 1969, 1970, 1971       1966   \n",
              "1  ACURA            ACURA MDX                    2021, 2022, 2023       2001   \n",
              "2  ACURA      ACURA MDX ASpec  2018, 2019, 2020, 2021, 2022, 2023       2001   \n",
              "3  ACURA            ACURA MDX              2013, 2014, 2015, 2016       2001   \n",
              "4  ACURA            ACURA MDX              2010, 2011, 2012, 2013       2001   \n",
              "\n",
              "   to_year                                         body_style       segment  \\\n",
              "0     1971  Convertible (spider/spyder, cabrio/cabriolet, ...  Coupe Cabrio   \n",
              "1     2024                       SUV (Sports Utility Vehicle)    Medium SUV   \n",
              "2     2024                       SUV (Sports Utility Vehicle)    Medium SUV   \n",
              "3     2024                       SUV (Sports Utility Vehicle)    Medium SUV   \n",
              "4     2024                       SUV (Sports Utility Vehicle)    Medium SUV   \n",
              "\n",
              "                          title  \\\n",
              "0  AC  428 Convertible 19661971   \n",
              "1         ACURA MDX 2021Present   \n",
              "2   ACURA MDX ASpec 2018Present   \n",
              "3            ACURA MDX 20132016   \n",
              "4            ACURA MDX 20102013   \n",
              "\n",
              "                                         description  \\\n",
              "0  In 1966, AC cut a deal with the Italian coachb...   \n",
              "1  Reaching the 4th generation, the MDX became th...   \n",
              "2  Acura unveiled the 2019 MDX model in late 2018...   \n",
              "3  The 2014 Acura MDX is built on an entirely new...   \n",
              "4  The Acura MDX was already a technologically ad...   \n",
              "\n",
              "         engine_specs_title  ...                      city ground_clearance  \\\n",
              "0      7.0L V8 3AT (350 HP)  ...                       NaN    6 in (152 mm)   \n",
              "1     3.5L V6 10AT (290 HP)  ...  19 mpg US (12.4 L/100Km)  7.3 in (185 mm)   \n",
              "2  3.5L V6 9AT AWD (290 HP)  ...  18 mpg US (13.1 L/100Km)  7.3 in (185 mm)   \n",
              "3      3.5L V6 6AT (294 HP)  ...  20 mpg US (11.8 L/100Km)              NaN   \n",
              "4  3.7L V6 AWD 6AT (300 HP)  ...  16 mpg US (14.7 L/100Km)  8.2 in (208 mm)   \n",
              "\n",
              "   gross_weight_limit                             brand_url  \\\n",
              "0                 NaN     https://www.autoevolution.com/ac/   \n",
              "1                 NaN  https://www.autoevolution.com/acura/   \n",
              "2                 NaN  https://www.autoevolution.com/acura/   \n",
              "3                 NaN  https://www.autoevolution.com/acura/   \n",
              "4  5790 lbs (2626 kg)  https://www.autoevolution.com/acura/   \n",
              "\n",
              "                                      brand_logo_url  \\\n",
              "0  https://s1.cdn.autoevolution.com/images/produc...   \n",
              "1  https://s1.cdn.autoevolution.com/images/produc...   \n",
              "2  https://s1.cdn.autoevolution.com/images/produc...   \n",
              "3  https://s1.cdn.autoevolution.com/images/produc...   \n",
              "4  https://s1.cdn.autoevolution.com/images/produc...   \n",
              "\n",
              "                                           model_url  \\\n",
              "0  https://www.autoevolution.com/cars/ac-428-conv...   \n",
              "1  https://www.autoevolution.com/cars/acura-mdx-2...   \n",
              "2  https://www.autoevolution.com/cars/acura-mdx-a...   \n",
              "3  https://www.autoevolution.com/cars/acura-mdx-2...   \n",
              "4  https://www.autoevolution.com/cars/acura-mdx-2...   \n",
              "\n",
              "                                          image_urls  \\\n",
              "0  https://s1.cdn.autoevolution.com/images/galler...   \n",
              "1  https://s1.cdn.autoevolution.com/images/galler...   \n",
              "2  https://s1.cdn.autoevolution.com/images/galler...   \n",
              "3  https://s1.cdn.autoevolution.com/images/galler...   \n",
              "4  https://s1.cdn.autoevolution.com/images/galler...   \n",
              "\n",
              "                                    image_file_names  \\\n",
              "0  ['ac-428-convertible-1966-7054_1.jpg', 'ac-428...   \n",
              "1  ['acura-mdx-2021-6991_15.jpg', 'acura-mdx-2021...   \n",
              "2  ['ACURA-MDX-A-Spec-6304_1.jpg', 'ACURA-MDX-A-S...   \n",
              "3  ['ACURA-MDX-4836_1.jpg', 'ACURA-MDX-4836_2.jpg...   \n",
              "4  ['ACURAMDX-4382_1.jpg', 'ACURAMDX-4382_2.jpg',...   \n",
              "\n",
              "                                   dir_path total_images  \n",
              "0    images/AC/AC__428_Convertible/19661971           24  \n",
              "1        images/ACURA/ACURA_MDX/2021Present           33  \n",
              "2  images/ACURA/ACURA_MDX_ASpec/2018Present           48  \n",
              "3           images/ACURA/ACURA_MDX/20132016           37  \n",
              "4           images/ACURA/ACURA_MDX/20102013           41  \n",
              "\n",
              "[5 rows x 44 columns]"
            ]
          },
          "execution_count": 5,
          "metadata": {},
          "output_type": "execute_result"
        }
      ],
      "source": [
        "data.head()"
      ]
    },
    {
      "cell_type": "code",
      "execution_count": 6,
      "metadata": {
        "id": "CTI1_SFohlTH"
      },
      "outputs": [],
      "source": [
        "data2=data.copy()"
      ]
    },
    {
      "cell_type": "markdown",
      "metadata": {
        "id": "xFIsyKbCU4t_"
      },
      "source": [
        "Viewing the columns:"
      ]
    },
    {
      "cell_type": "code",
      "execution_count": 7,
      "metadata": {
        "colab": {
          "base_uri": "https://localhost:8080/"
        },
        "id": "JeojwWZ4Jlc9",
        "outputId": "e8628fad-9895-41b7-f733-a718664b7106"
      },
      "outputs": [
        {
          "data": {
            "text/plain": [
              "Index(['brand', 'model', 'production_years', 'from_year', 'to_year',\n",
              "       'body_style', 'segment', 'title', 'description', 'engine_specs_title',\n",
              "       'cylinders', 'displacement', 'power', 'torque', 'fuel_system', 'fuel',\n",
              "       'fuel_capacity', 'top_speed', 'drive_type', 'gearbox', 'front', 'rear',\n",
              "       'tire_size', 'length', 'width', 'height', 'front_rear_track',\n",
              "       'wheelbase', 'cargo_volume', 'unladen_weight', 'highway', 'combined',\n",
              "       'acceleration', 'aerodynamics', 'city', 'ground_clearance',\n",
              "       'gross_weight_limit', 'brand_url', 'brand_logo_url', 'model_url',\n",
              "       'image_urls', 'image_file_names', 'dir_path', 'total_images'],\n",
              "      dtype='object')"
            ]
          },
          "execution_count": 7,
          "metadata": {},
          "output_type": "execute_result"
        }
      ],
      "source": [
        "data.columns"
      ]
    },
    {
      "cell_type": "markdown",
      "metadata": {
        "id": "4Aw33MVQqce0"
      },
      "source": [
        "The DataFrame has 40 features"
      ]
    },
    {
      "cell_type": "markdown",
      "metadata": {
        "id": "E09FSInWqtA5"
      },
      "source": [
        "### Dropping Unnecessary Features\n",
        "In the Data, I'm only interested in the brand names, image file name and the url location of the image, so I'll drop the other columns:"
      ]
    },
    {
      "cell_type": "code",
      "execution_count": 8,
      "metadata": {
        "id": "21u-sdK2J0p-"
      },
      "outputs": [],
      "source": [
        "data.drop(['model', 'production_years', 'from_year', 'to_year',\n",
        "       'body_style', 'segment', 'title', 'description', 'engine_specs_title',\n",
        "       'cylinders', 'displacement', 'power', 'torque', 'fuel_system', 'fuel',\n",
        "       'fuel_capacity', 'top_speed', 'drive_type', 'gearbox', 'front', 'rear',\n",
        "       'tire_size', 'length', 'width', 'height', 'front_rear_track',\n",
        "       'wheelbase', 'cargo_volume', 'unladen_weight', 'highway', 'combined',\n",
        "       'acceleration', 'aerodynamics', 'city', 'ground_clearance',\n",
        "       'gross_weight_limit', 'brand_url', 'brand_logo_url', 'model_url',\n",
        "       'image_urls', 'dir_path', 'total_images'], axis=1, inplace=True)"
      ]
    },
    {
      "cell_type": "code",
      "execution_count": 9,
      "metadata": {
        "colab": {
          "base_uri": "https://localhost:8080/",
          "height": 206
        },
        "id": "5X9LgjdEKayU",
        "outputId": "3ad18652-d19f-4e77-ca04-36ece3e1721b"
      },
      "outputs": [
        {
          "data": {
            "text/html": [
              "\n",
              "  <div id=\"df-144c1762-2333-4d70-b48c-69c7a0278a9f\" class=\"colab-df-container\">\n",
              "    <div>\n",
              "<style scoped>\n",
              "    .dataframe tbody tr th:only-of-type {\n",
              "        vertical-align: middle;\n",
              "    }\n",
              "\n",
              "    .dataframe tbody tr th {\n",
              "        vertical-align: top;\n",
              "    }\n",
              "\n",
              "    .dataframe thead th {\n",
              "        text-align: right;\n",
              "    }\n",
              "</style>\n",
              "<table border=\"1\" class=\"dataframe\">\n",
              "  <thead>\n",
              "    <tr style=\"text-align: right;\">\n",
              "      <th></th>\n",
              "      <th>brand</th>\n",
              "      <th>image_file_names</th>\n",
              "    </tr>\n",
              "  </thead>\n",
              "  <tbody>\n",
              "    <tr>\n",
              "      <th>0</th>\n",
              "      <td>AC</td>\n",
              "      <td>['ac-428-convertible-1966-7054_1.jpg', 'ac-428...</td>\n",
              "    </tr>\n",
              "    <tr>\n",
              "      <th>1</th>\n",
              "      <td>ACURA</td>\n",
              "      <td>['acura-mdx-2021-6991_15.jpg', 'acura-mdx-2021...</td>\n",
              "    </tr>\n",
              "    <tr>\n",
              "      <th>2</th>\n",
              "      <td>ACURA</td>\n",
              "      <td>['ACURA-MDX-A-Spec-6304_1.jpg', 'ACURA-MDX-A-S...</td>\n",
              "    </tr>\n",
              "    <tr>\n",
              "      <th>3</th>\n",
              "      <td>ACURA</td>\n",
              "      <td>['ACURA-MDX-4836_1.jpg', 'ACURA-MDX-4836_2.jpg...</td>\n",
              "    </tr>\n",
              "    <tr>\n",
              "      <th>4</th>\n",
              "      <td>ACURA</td>\n",
              "      <td>['ACURAMDX-4382_1.jpg', 'ACURAMDX-4382_2.jpg',...</td>\n",
              "    </tr>\n",
              "  </tbody>\n",
              "</table>\n",
              "</div>\n",
              "    <div class=\"colab-df-buttons\">\n",
              "\n",
              "  <div class=\"colab-df-container\">\n",
              "    <button class=\"colab-df-convert\" onclick=\"convertToInteractive('df-144c1762-2333-4d70-b48c-69c7a0278a9f')\"\n",
              "            title=\"Convert this dataframe to an interactive table.\"\n",
              "            style=\"display:none;\">\n",
              "\n",
              "  <svg xmlns=\"http://www.w3.org/2000/svg\" height=\"24px\" viewBox=\"0 -960 960 960\">\n",
              "    <path d=\"M120-120v-720h720v720H120Zm60-500h600v-160H180v160Zm220 220h160v-160H400v160Zm0 220h160v-160H400v160ZM180-400h160v-160H180v160Zm440 0h160v-160H620v160ZM180-180h160v-160H180v160Zm440 0h160v-160H620v160Z\"/>\n",
              "  </svg>\n",
              "    </button>\n",
              "\n",
              "  <style>\n",
              "    .colab-df-container {\n",
              "      display:flex;\n",
              "      gap: 12px;\n",
              "    }\n",
              "\n",
              "    .colab-df-convert {\n",
              "      background-color: #E8F0FE;\n",
              "      border: none;\n",
              "      border-radius: 50%;\n",
              "      cursor: pointer;\n",
              "      display: none;\n",
              "      fill: #1967D2;\n",
              "      height: 32px;\n",
              "      padding: 0 0 0 0;\n",
              "      width: 32px;\n",
              "    }\n",
              "\n",
              "    .colab-df-convert:hover {\n",
              "      background-color: #E2EBFA;\n",
              "      box-shadow: 0px 1px 2px rgba(60, 64, 67, 0.3), 0px 1px 3px 1px rgba(60, 64, 67, 0.15);\n",
              "      fill: #174EA6;\n",
              "    }\n",
              "\n",
              "    .colab-df-buttons div {\n",
              "      margin-bottom: 4px;\n",
              "    }\n",
              "\n",
              "    [theme=dark] .colab-df-convert {\n",
              "      background-color: #3B4455;\n",
              "      fill: #D2E3FC;\n",
              "    }\n",
              "\n",
              "    [theme=dark] .colab-df-convert:hover {\n",
              "      background-color: #434B5C;\n",
              "      box-shadow: 0px 1px 3px 1px rgba(0, 0, 0, 0.15);\n",
              "      filter: drop-shadow(0px 1px 2px rgba(0, 0, 0, 0.3));\n",
              "      fill: #FFFFFF;\n",
              "    }\n",
              "  </style>\n",
              "\n",
              "    <script>\n",
              "      const buttonEl =\n",
              "        document.querySelector('#df-144c1762-2333-4d70-b48c-69c7a0278a9f button.colab-df-convert');\n",
              "      buttonEl.style.display =\n",
              "        google.colab.kernel.accessAllowed ? 'block' : 'none';\n",
              "\n",
              "      async function convertToInteractive(key) {\n",
              "        const element = document.querySelector('#df-144c1762-2333-4d70-b48c-69c7a0278a9f');\n",
              "        const dataTable =\n",
              "          await google.colab.kernel.invokeFunction('convertToInteractive',\n",
              "                                                    [key], {});\n",
              "        if (!dataTable) return;\n",
              "\n",
              "        const docLinkHtml = 'Like what you see? Visit the ' +\n",
              "          '<a target=\"_blank\" href=https://colab.research.google.com/notebooks/data_table.ipynb>data table notebook</a>'\n",
              "          + ' to learn more about interactive tables.';\n",
              "        element.innerHTML = '';\n",
              "        dataTable['output_type'] = 'display_data';\n",
              "        await google.colab.output.renderOutput(dataTable, element);\n",
              "        const docLink = document.createElement('div');\n",
              "        docLink.innerHTML = docLinkHtml;\n",
              "        element.appendChild(docLink);\n",
              "      }\n",
              "    </script>\n",
              "  </div>\n",
              "\n",
              "\n",
              "<div id=\"df-3877517b-017f-40ff-ae0f-d7c88f212e69\">\n",
              "  <button class=\"colab-df-quickchart\" onclick=\"quickchart('df-3877517b-017f-40ff-ae0f-d7c88f212e69')\"\n",
              "            title=\"Suggest charts\"\n",
              "            style=\"display:none;\">\n",
              "\n",
              "<svg xmlns=\"http://www.w3.org/2000/svg\" height=\"24px\"viewBox=\"0 0 24 24\"\n",
              "     width=\"24px\">\n",
              "    <g>\n",
              "        <path d=\"M19 3H5c-1.1 0-2 .9-2 2v14c0 1.1.9 2 2 2h14c1.1 0 2-.9 2-2V5c0-1.1-.9-2-2-2zM9 17H7v-7h2v7zm4 0h-2V7h2v10zm4 0h-2v-4h2v4z\"/>\n",
              "    </g>\n",
              "</svg>\n",
              "  </button>\n",
              "\n",
              "<style>\n",
              "  .colab-df-quickchart {\n",
              "      --bg-color: #E8F0FE;\n",
              "      --fill-color: #1967D2;\n",
              "      --hover-bg-color: #E2EBFA;\n",
              "      --hover-fill-color: #174EA6;\n",
              "      --disabled-fill-color: #AAA;\n",
              "      --disabled-bg-color: #DDD;\n",
              "  }\n",
              "\n",
              "  [theme=dark] .colab-df-quickchart {\n",
              "      --bg-color: #3B4455;\n",
              "      --fill-color: #D2E3FC;\n",
              "      --hover-bg-color: #434B5C;\n",
              "      --hover-fill-color: #FFFFFF;\n",
              "      --disabled-bg-color: #3B4455;\n",
              "      --disabled-fill-color: #666;\n",
              "  }\n",
              "\n",
              "  .colab-df-quickchart {\n",
              "    background-color: var(--bg-color);\n",
              "    border: none;\n",
              "    border-radius: 50%;\n",
              "    cursor: pointer;\n",
              "    display: none;\n",
              "    fill: var(--fill-color);\n",
              "    height: 32px;\n",
              "    padding: 0;\n",
              "    width: 32px;\n",
              "  }\n",
              "\n",
              "  .colab-df-quickchart:hover {\n",
              "    background-color: var(--hover-bg-color);\n",
              "    box-shadow: 0 1px 2px rgba(60, 64, 67, 0.3), 0 1px 3px 1px rgba(60, 64, 67, 0.15);\n",
              "    fill: var(--button-hover-fill-color);\n",
              "  }\n",
              "\n",
              "  .colab-df-quickchart-complete:disabled,\n",
              "  .colab-df-quickchart-complete:disabled:hover {\n",
              "    background-color: var(--disabled-bg-color);\n",
              "    fill: var(--disabled-fill-color);\n",
              "    box-shadow: none;\n",
              "  }\n",
              "\n",
              "  .colab-df-spinner {\n",
              "    border: 2px solid var(--fill-color);\n",
              "    border-color: transparent;\n",
              "    border-bottom-color: var(--fill-color);\n",
              "    animation:\n",
              "      spin 1s steps(1) infinite;\n",
              "  }\n",
              "\n",
              "  @keyframes spin {\n",
              "    0% {\n",
              "      border-color: transparent;\n",
              "      border-bottom-color: var(--fill-color);\n",
              "      border-left-color: var(--fill-color);\n",
              "    }\n",
              "    20% {\n",
              "      border-color: transparent;\n",
              "      border-left-color: var(--fill-color);\n",
              "      border-top-color: var(--fill-color);\n",
              "    }\n",
              "    30% {\n",
              "      border-color: transparent;\n",
              "      border-left-color: var(--fill-color);\n",
              "      border-top-color: var(--fill-color);\n",
              "      border-right-color: var(--fill-color);\n",
              "    }\n",
              "    40% {\n",
              "      border-color: transparent;\n",
              "      border-right-color: var(--fill-color);\n",
              "      border-top-color: var(--fill-color);\n",
              "    }\n",
              "    60% {\n",
              "      border-color: transparent;\n",
              "      border-right-color: var(--fill-color);\n",
              "    }\n",
              "    80% {\n",
              "      border-color: transparent;\n",
              "      border-right-color: var(--fill-color);\n",
              "      border-bottom-color: var(--fill-color);\n",
              "    }\n",
              "    90% {\n",
              "      border-color: transparent;\n",
              "      border-bottom-color: var(--fill-color);\n",
              "    }\n",
              "  }\n",
              "</style>\n",
              "\n",
              "  <script>\n",
              "    async function quickchart(key) {\n",
              "      const quickchartButtonEl =\n",
              "        document.querySelector('#' + key + ' button');\n",
              "      quickchartButtonEl.disabled = true;  // To prevent multiple clicks.\n",
              "      quickchartButtonEl.classList.add('colab-df-spinner');\n",
              "      try {\n",
              "        const charts = await google.colab.kernel.invokeFunction(\n",
              "            'suggestCharts', [key], {});\n",
              "      } catch (error) {\n",
              "        console.error('Error during call to suggestCharts:', error);\n",
              "      }\n",
              "      quickchartButtonEl.classList.remove('colab-df-spinner');\n",
              "      quickchartButtonEl.classList.add('colab-df-quickchart-complete');\n",
              "    }\n",
              "    (() => {\n",
              "      let quickchartButtonEl =\n",
              "        document.querySelector('#df-3877517b-017f-40ff-ae0f-d7c88f212e69 button');\n",
              "      quickchartButtonEl.style.display =\n",
              "        google.colab.kernel.accessAllowed ? 'block' : 'none';\n",
              "    })();\n",
              "  </script>\n",
              "</div>\n",
              "    </div>\n",
              "  </div>\n"
            ],
            "text/plain": [
              "   brand                                   image_file_names\n",
              "0     AC  ['ac-428-convertible-1966-7054_1.jpg', 'ac-428...\n",
              "1  ACURA  ['acura-mdx-2021-6991_15.jpg', 'acura-mdx-2021...\n",
              "2  ACURA  ['ACURA-MDX-A-Spec-6304_1.jpg', 'ACURA-MDX-A-S...\n",
              "3  ACURA  ['ACURA-MDX-4836_1.jpg', 'ACURA-MDX-4836_2.jpg...\n",
              "4  ACURA  ['ACURAMDX-4382_1.jpg', 'ACURAMDX-4382_2.jpg',..."
            ]
          },
          "execution_count": 9,
          "metadata": {},
          "output_type": "execute_result"
        }
      ],
      "source": [
        "data.head()"
      ]
    },
    {
      "cell_type": "markdown",
      "metadata": {
        "id": "bkx62xw1r3yU"
      },
      "source": [
        "There are now two columns."
      ]
    },
    {
      "cell_type": "markdown",
      "metadata": {
        "id": "vJUtUPuCsGRm"
      },
      "source": [
        "### Editing image_file_names column\n",
        "The image_file_name column is in the form of a string representation of lists\n",
        "- I will be converting so that each image is in its own row\n",
        "- I will first remove the square brackets and quotation marks\n",
        "- I will then split the data into separate rows with the corresponding brand"
      ]
    },
    {
      "cell_type": "markdown",
      "metadata": {
        "id": "PbM1GZF9tMxm"
      },
      "source": [
        "##### **Removing Brackets and Quotation Marks**\n",
        "\n",
        "\n"
      ]
    },
    {
      "cell_type": "code",
      "execution_count": 10,
      "metadata": {
        "colab": {
          "base_uri": "https://localhost:8080/",
          "height": 206
        },
        "id": "On5olza6VSkg",
        "outputId": "45940b13-86cb-4586-883d-b79b2a320cdc"
      },
      "outputs": [
        {
          "data": {
            "text/html": [
              "\n",
              "  <div id=\"df-30b7af6e-e155-4237-8718-c6dfbc8b346e\" class=\"colab-df-container\">\n",
              "    <div>\n",
              "<style scoped>\n",
              "    .dataframe tbody tr th:only-of-type {\n",
              "        vertical-align: middle;\n",
              "    }\n",
              "\n",
              "    .dataframe tbody tr th {\n",
              "        vertical-align: top;\n",
              "    }\n",
              "\n",
              "    .dataframe thead th {\n",
              "        text-align: right;\n",
              "    }\n",
              "</style>\n",
              "<table border=\"1\" class=\"dataframe\">\n",
              "  <thead>\n",
              "    <tr style=\"text-align: right;\">\n",
              "      <th></th>\n",
              "      <th>image_file_names</th>\n",
              "      <th>image_file_names_no_brac</th>\n",
              "    </tr>\n",
              "  </thead>\n",
              "  <tbody>\n",
              "    <tr>\n",
              "      <th>0</th>\n",
              "      <td>[ac-428-convertible-1966-7054_1.jpg, ac-428-co...</td>\n",
              "      <td>ac-428-convertible-1966-7054_1.jpg, ac-428-con...</td>\n",
              "    </tr>\n",
              "    <tr>\n",
              "      <th>1</th>\n",
              "      <td>[acura-mdx-2021-6991_15.jpg, acura-mdx-2021-69...</td>\n",
              "      <td>acura-mdx-2021-6991_15.jpg, acura-mdx-2021-699...</td>\n",
              "    </tr>\n",
              "    <tr>\n",
              "      <th>2</th>\n",
              "      <td>[ACURA-MDX-A-Spec-6304_1.jpg, ACURA-MDX-A-Spec...</td>\n",
              "      <td>ACURA-MDX-A-Spec-6304_1.jpg, ACURA-MDX-A-Spec-...</td>\n",
              "    </tr>\n",
              "    <tr>\n",
              "      <th>3</th>\n",
              "      <td>[ACURA-MDX-4836_1.jpg, ACURA-MDX-4836_2.jpg, A...</td>\n",
              "      <td>ACURA-MDX-4836_1.jpg, ACURA-MDX-4836_2.jpg, AC...</td>\n",
              "    </tr>\n",
              "    <tr>\n",
              "      <th>4</th>\n",
              "      <td>[ACURAMDX-4382_1.jpg, ACURAMDX-4382_2.jpg, ACU...</td>\n",
              "      <td>ACURAMDX-4382_1.jpg, ACURAMDX-4382_2.jpg, ACUR...</td>\n",
              "    </tr>\n",
              "  </tbody>\n",
              "</table>\n",
              "</div>\n",
              "    <div class=\"colab-df-buttons\">\n",
              "\n",
              "  <div class=\"colab-df-container\">\n",
              "    <button class=\"colab-df-convert\" onclick=\"convertToInteractive('df-30b7af6e-e155-4237-8718-c6dfbc8b346e')\"\n",
              "            title=\"Convert this dataframe to an interactive table.\"\n",
              "            style=\"display:none;\">\n",
              "\n",
              "  <svg xmlns=\"http://www.w3.org/2000/svg\" height=\"24px\" viewBox=\"0 -960 960 960\">\n",
              "    <path d=\"M120-120v-720h720v720H120Zm60-500h600v-160H180v160Zm220 220h160v-160H400v160Zm0 220h160v-160H400v160ZM180-400h160v-160H180v160Zm440 0h160v-160H620v160ZM180-180h160v-160H180v160Zm440 0h160v-160H620v160Z\"/>\n",
              "  </svg>\n",
              "    </button>\n",
              "\n",
              "  <style>\n",
              "    .colab-df-container {\n",
              "      display:flex;\n",
              "      gap: 12px;\n",
              "    }\n",
              "\n",
              "    .colab-df-convert {\n",
              "      background-color: #E8F0FE;\n",
              "      border: none;\n",
              "      border-radius: 50%;\n",
              "      cursor: pointer;\n",
              "      display: none;\n",
              "      fill: #1967D2;\n",
              "      height: 32px;\n",
              "      padding: 0 0 0 0;\n",
              "      width: 32px;\n",
              "    }\n",
              "\n",
              "    .colab-df-convert:hover {\n",
              "      background-color: #E2EBFA;\n",
              "      box-shadow: 0px 1px 2px rgba(60, 64, 67, 0.3), 0px 1px 3px 1px rgba(60, 64, 67, 0.15);\n",
              "      fill: #174EA6;\n",
              "    }\n",
              "\n",
              "    .colab-df-buttons div {\n",
              "      margin-bottom: 4px;\n",
              "    }\n",
              "\n",
              "    [theme=dark] .colab-df-convert {\n",
              "      background-color: #3B4455;\n",
              "      fill: #D2E3FC;\n",
              "    }\n",
              "\n",
              "    [theme=dark] .colab-df-convert:hover {\n",
              "      background-color: #434B5C;\n",
              "      box-shadow: 0px 1px 3px 1px rgba(0, 0, 0, 0.15);\n",
              "      filter: drop-shadow(0px 1px 2px rgba(0, 0, 0, 0.3));\n",
              "      fill: #FFFFFF;\n",
              "    }\n",
              "  </style>\n",
              "\n",
              "    <script>\n",
              "      const buttonEl =\n",
              "        document.querySelector('#df-30b7af6e-e155-4237-8718-c6dfbc8b346e button.colab-df-convert');\n",
              "      buttonEl.style.display =\n",
              "        google.colab.kernel.accessAllowed ? 'block' : 'none';\n",
              "\n",
              "      async function convertToInteractive(key) {\n",
              "        const element = document.querySelector('#df-30b7af6e-e155-4237-8718-c6dfbc8b346e');\n",
              "        const dataTable =\n",
              "          await google.colab.kernel.invokeFunction('convertToInteractive',\n",
              "                                                    [key], {});\n",
              "        if (!dataTable) return;\n",
              "\n",
              "        const docLinkHtml = 'Like what you see? Visit the ' +\n",
              "          '<a target=\"_blank\" href=https://colab.research.google.com/notebooks/data_table.ipynb>data table notebook</a>'\n",
              "          + ' to learn more about interactive tables.';\n",
              "        element.innerHTML = '';\n",
              "        dataTable['output_type'] = 'display_data';\n",
              "        await google.colab.output.renderOutput(dataTable, element);\n",
              "        const docLink = document.createElement('div');\n",
              "        docLink.innerHTML = docLinkHtml;\n",
              "        element.appendChild(docLink);\n",
              "      }\n",
              "    </script>\n",
              "  </div>\n",
              "\n",
              "\n",
              "<div id=\"df-f8b73b7e-83ce-4a20-926f-9f82136cfb0c\">\n",
              "  <button class=\"colab-df-quickchart\" onclick=\"quickchart('df-f8b73b7e-83ce-4a20-926f-9f82136cfb0c')\"\n",
              "            title=\"Suggest charts\"\n",
              "            style=\"display:none;\">\n",
              "\n",
              "<svg xmlns=\"http://www.w3.org/2000/svg\" height=\"24px\"viewBox=\"0 0 24 24\"\n",
              "     width=\"24px\">\n",
              "    <g>\n",
              "        <path d=\"M19 3H5c-1.1 0-2 .9-2 2v14c0 1.1.9 2 2 2h14c1.1 0 2-.9 2-2V5c0-1.1-.9-2-2-2zM9 17H7v-7h2v7zm4 0h-2V7h2v10zm4 0h-2v-4h2v4z\"/>\n",
              "    </g>\n",
              "</svg>\n",
              "  </button>\n",
              "\n",
              "<style>\n",
              "  .colab-df-quickchart {\n",
              "      --bg-color: #E8F0FE;\n",
              "      --fill-color: #1967D2;\n",
              "      --hover-bg-color: #E2EBFA;\n",
              "      --hover-fill-color: #174EA6;\n",
              "      --disabled-fill-color: #AAA;\n",
              "      --disabled-bg-color: #DDD;\n",
              "  }\n",
              "\n",
              "  [theme=dark] .colab-df-quickchart {\n",
              "      --bg-color: #3B4455;\n",
              "      --fill-color: #D2E3FC;\n",
              "      --hover-bg-color: #434B5C;\n",
              "      --hover-fill-color: #FFFFFF;\n",
              "      --disabled-bg-color: #3B4455;\n",
              "      --disabled-fill-color: #666;\n",
              "  }\n",
              "\n",
              "  .colab-df-quickchart {\n",
              "    background-color: var(--bg-color);\n",
              "    border: none;\n",
              "    border-radius: 50%;\n",
              "    cursor: pointer;\n",
              "    display: none;\n",
              "    fill: var(--fill-color);\n",
              "    height: 32px;\n",
              "    padding: 0;\n",
              "    width: 32px;\n",
              "  }\n",
              "\n",
              "  .colab-df-quickchart:hover {\n",
              "    background-color: var(--hover-bg-color);\n",
              "    box-shadow: 0 1px 2px rgba(60, 64, 67, 0.3), 0 1px 3px 1px rgba(60, 64, 67, 0.15);\n",
              "    fill: var(--button-hover-fill-color);\n",
              "  }\n",
              "\n",
              "  .colab-df-quickchart-complete:disabled,\n",
              "  .colab-df-quickchart-complete:disabled:hover {\n",
              "    background-color: var(--disabled-bg-color);\n",
              "    fill: var(--disabled-fill-color);\n",
              "    box-shadow: none;\n",
              "  }\n",
              "\n",
              "  .colab-df-spinner {\n",
              "    border: 2px solid var(--fill-color);\n",
              "    border-color: transparent;\n",
              "    border-bottom-color: var(--fill-color);\n",
              "    animation:\n",
              "      spin 1s steps(1) infinite;\n",
              "  }\n",
              "\n",
              "  @keyframes spin {\n",
              "    0% {\n",
              "      border-color: transparent;\n",
              "      border-bottom-color: var(--fill-color);\n",
              "      border-left-color: var(--fill-color);\n",
              "    }\n",
              "    20% {\n",
              "      border-color: transparent;\n",
              "      border-left-color: var(--fill-color);\n",
              "      border-top-color: var(--fill-color);\n",
              "    }\n",
              "    30% {\n",
              "      border-color: transparent;\n",
              "      border-left-color: var(--fill-color);\n",
              "      border-top-color: var(--fill-color);\n",
              "      border-right-color: var(--fill-color);\n",
              "    }\n",
              "    40% {\n",
              "      border-color: transparent;\n",
              "      border-right-color: var(--fill-color);\n",
              "      border-top-color: var(--fill-color);\n",
              "    }\n",
              "    60% {\n",
              "      border-color: transparent;\n",
              "      border-right-color: var(--fill-color);\n",
              "    }\n",
              "    80% {\n",
              "      border-color: transparent;\n",
              "      border-right-color: var(--fill-color);\n",
              "      border-bottom-color: var(--fill-color);\n",
              "    }\n",
              "    90% {\n",
              "      border-color: transparent;\n",
              "      border-bottom-color: var(--fill-color);\n",
              "    }\n",
              "  }\n",
              "</style>\n",
              "\n",
              "  <script>\n",
              "    async function quickchart(key) {\n",
              "      const quickchartButtonEl =\n",
              "        document.querySelector('#' + key + ' button');\n",
              "      quickchartButtonEl.disabled = true;  // To prevent multiple clicks.\n",
              "      quickchartButtonEl.classList.add('colab-df-spinner');\n",
              "      try {\n",
              "        const charts = await google.colab.kernel.invokeFunction(\n",
              "            'suggestCharts', [key], {});\n",
              "      } catch (error) {\n",
              "        console.error('Error during call to suggestCharts:', error);\n",
              "      }\n",
              "      quickchartButtonEl.classList.remove('colab-df-spinner');\n",
              "      quickchartButtonEl.classList.add('colab-df-quickchart-complete');\n",
              "    }\n",
              "    (() => {\n",
              "      let quickchartButtonEl =\n",
              "        document.querySelector('#df-f8b73b7e-83ce-4a20-926f-9f82136cfb0c button');\n",
              "      quickchartButtonEl.style.display =\n",
              "        google.colab.kernel.accessAllowed ? 'block' : 'none';\n",
              "    })();\n",
              "  </script>\n",
              "</div>\n",
              "    </div>\n",
              "  </div>\n"
            ],
            "text/plain": [
              "                                    image_file_names  \\\n",
              "0  [ac-428-convertible-1966-7054_1.jpg, ac-428-co...   \n",
              "1  [acura-mdx-2021-6991_15.jpg, acura-mdx-2021-69...   \n",
              "2  [ACURA-MDX-A-Spec-6304_1.jpg, ACURA-MDX-A-Spec...   \n",
              "3  [ACURA-MDX-4836_1.jpg, ACURA-MDX-4836_2.jpg, A...   \n",
              "4  [ACURAMDX-4382_1.jpg, ACURAMDX-4382_2.jpg, ACU...   \n",
              "\n",
              "                            image_file_names_no_brac  \n",
              "0  ac-428-convertible-1966-7054_1.jpg, ac-428-con...  \n",
              "1  acura-mdx-2021-6991_15.jpg, acura-mdx-2021-699...  \n",
              "2  ACURA-MDX-A-Spec-6304_1.jpg, ACURA-MDX-A-Spec-...  \n",
              "3  ACURA-MDX-4836_1.jpg, ACURA-MDX-4836_2.jpg, AC...  \n",
              "4  ACURAMDX-4382_1.jpg, ACURAMDX-4382_2.jpg, ACUR...  "
            ]
          },
          "execution_count": 10,
          "metadata": {},
          "output_type": "execute_result"
        }
      ],
      "source": [
        "import ast\n",
        "\n",
        "#creating a new DataFrame\n",
        "data_new= pd.DataFrame()\n",
        "\n",
        "# Converting the string representation of lists to actual lists using ast.literal_eval\n",
        "data_new['image_file_names'] = data['image_file_names'].apply(ast.literal_eval)\n",
        "\n",
        "# Removing square brackets and quotation marks\n",
        "data_new['image_file_names_no_brac'] = data_new['image_file_names'].apply(lambda x: ', '.join(x))\n",
        "\n",
        "data_new.head()"
      ]
    },
    {
      "cell_type": "markdown",
      "metadata": {
        "id": "31QO2ObSVTEd"
      },
      "source": [
        "Dropping the image_file_names column"
      ]
    },
    {
      "cell_type": "code",
      "execution_count": 11,
      "metadata": {
        "id": "UP7XwkqLWdNQ"
      },
      "outputs": [],
      "source": [
        "data_new.drop('image_file_names', axis=1, inplace=True)\n"
      ]
    },
    {
      "cell_type": "markdown",
      "metadata": {
        "id": "YJMSeBuKVZQJ"
      },
      "source": [
        "Adding in the brand names from the 'data2' DataFrame:"
      ]
    },
    {
      "cell_type": "code",
      "execution_count": 13,
      "metadata": {
        "id": "D9PfFDujW8GU"
      },
      "outputs": [],
      "source": [
        "data_new['brand'] = data['brand']\n",
        "data_new['image_link'] =data2['dir_path']"
      ]
    },
    {
      "cell_type": "code",
      "execution_count": 14,
      "metadata": {
        "colab": {
          "base_uri": "https://localhost:8080/",
          "height": 206
        },
        "id": "E3Ap778GWoGx",
        "outputId": "1c0f2114-03c4-45ff-cb2f-b7978548c484"
      },
      "outputs": [
        {
          "data": {
            "text/html": [
              "\n",
              "  <div id=\"df-aedb8ebc-977d-47e8-950b-25fa7bf0ae30\" class=\"colab-df-container\">\n",
              "    <div>\n",
              "<style scoped>\n",
              "    .dataframe tbody tr th:only-of-type {\n",
              "        vertical-align: middle;\n",
              "    }\n",
              "\n",
              "    .dataframe tbody tr th {\n",
              "        vertical-align: top;\n",
              "    }\n",
              "\n",
              "    .dataframe thead th {\n",
              "        text-align: right;\n",
              "    }\n",
              "</style>\n",
              "<table border=\"1\" class=\"dataframe\">\n",
              "  <thead>\n",
              "    <tr style=\"text-align: right;\">\n",
              "      <th></th>\n",
              "      <th>image_file_names_no_brac</th>\n",
              "      <th>brand</th>\n",
              "      <th>image_link</th>\n",
              "    </tr>\n",
              "  </thead>\n",
              "  <tbody>\n",
              "    <tr>\n",
              "      <th>0</th>\n",
              "      <td>ac-428-convertible-1966-7054_1.jpg, ac-428-con...</td>\n",
              "      <td>AC</td>\n",
              "      <td>images/AC/AC__428_Convertible/19661971</td>\n",
              "    </tr>\n",
              "    <tr>\n",
              "      <th>1</th>\n",
              "      <td>acura-mdx-2021-6991_15.jpg, acura-mdx-2021-699...</td>\n",
              "      <td>ACURA</td>\n",
              "      <td>images/ACURA/ACURA_MDX/2021Present</td>\n",
              "    </tr>\n",
              "    <tr>\n",
              "      <th>2</th>\n",
              "      <td>ACURA-MDX-A-Spec-6304_1.jpg, ACURA-MDX-A-Spec-...</td>\n",
              "      <td>ACURA</td>\n",
              "      <td>images/ACURA/ACURA_MDX_ASpec/2018Present</td>\n",
              "    </tr>\n",
              "    <tr>\n",
              "      <th>3</th>\n",
              "      <td>ACURA-MDX-4836_1.jpg, ACURA-MDX-4836_2.jpg, AC...</td>\n",
              "      <td>ACURA</td>\n",
              "      <td>images/ACURA/ACURA_MDX/20132016</td>\n",
              "    </tr>\n",
              "    <tr>\n",
              "      <th>4</th>\n",
              "      <td>ACURAMDX-4382_1.jpg, ACURAMDX-4382_2.jpg, ACUR...</td>\n",
              "      <td>ACURA</td>\n",
              "      <td>images/ACURA/ACURA_MDX/20102013</td>\n",
              "    </tr>\n",
              "  </tbody>\n",
              "</table>\n",
              "</div>\n",
              "    <div class=\"colab-df-buttons\">\n",
              "\n",
              "  <div class=\"colab-df-container\">\n",
              "    <button class=\"colab-df-convert\" onclick=\"convertToInteractive('df-aedb8ebc-977d-47e8-950b-25fa7bf0ae30')\"\n",
              "            title=\"Convert this dataframe to an interactive table.\"\n",
              "            style=\"display:none;\">\n",
              "\n",
              "  <svg xmlns=\"http://www.w3.org/2000/svg\" height=\"24px\" viewBox=\"0 -960 960 960\">\n",
              "    <path d=\"M120-120v-720h720v720H120Zm60-500h600v-160H180v160Zm220 220h160v-160H400v160Zm0 220h160v-160H400v160ZM180-400h160v-160H180v160Zm440 0h160v-160H620v160ZM180-180h160v-160H180v160Zm440 0h160v-160H620v160Z\"/>\n",
              "  </svg>\n",
              "    </button>\n",
              "\n",
              "  <style>\n",
              "    .colab-df-container {\n",
              "      display:flex;\n",
              "      gap: 12px;\n",
              "    }\n",
              "\n",
              "    .colab-df-convert {\n",
              "      background-color: #E8F0FE;\n",
              "      border: none;\n",
              "      border-radius: 50%;\n",
              "      cursor: pointer;\n",
              "      display: none;\n",
              "      fill: #1967D2;\n",
              "      height: 32px;\n",
              "      padding: 0 0 0 0;\n",
              "      width: 32px;\n",
              "    }\n",
              "\n",
              "    .colab-df-convert:hover {\n",
              "      background-color: #E2EBFA;\n",
              "      box-shadow: 0px 1px 2px rgba(60, 64, 67, 0.3), 0px 1px 3px 1px rgba(60, 64, 67, 0.15);\n",
              "      fill: #174EA6;\n",
              "    }\n",
              "\n",
              "    .colab-df-buttons div {\n",
              "      margin-bottom: 4px;\n",
              "    }\n",
              "\n",
              "    [theme=dark] .colab-df-convert {\n",
              "      background-color: #3B4455;\n",
              "      fill: #D2E3FC;\n",
              "    }\n",
              "\n",
              "    [theme=dark] .colab-df-convert:hover {\n",
              "      background-color: #434B5C;\n",
              "      box-shadow: 0px 1px 3px 1px rgba(0, 0, 0, 0.15);\n",
              "      filter: drop-shadow(0px 1px 2px rgba(0, 0, 0, 0.3));\n",
              "      fill: #FFFFFF;\n",
              "    }\n",
              "  </style>\n",
              "\n",
              "    <script>\n",
              "      const buttonEl =\n",
              "        document.querySelector('#df-aedb8ebc-977d-47e8-950b-25fa7bf0ae30 button.colab-df-convert');\n",
              "      buttonEl.style.display =\n",
              "        google.colab.kernel.accessAllowed ? 'block' : 'none';\n",
              "\n",
              "      async function convertToInteractive(key) {\n",
              "        const element = document.querySelector('#df-aedb8ebc-977d-47e8-950b-25fa7bf0ae30');\n",
              "        const dataTable =\n",
              "          await google.colab.kernel.invokeFunction('convertToInteractive',\n",
              "                                                    [key], {});\n",
              "        if (!dataTable) return;\n",
              "\n",
              "        const docLinkHtml = 'Like what you see? Visit the ' +\n",
              "          '<a target=\"_blank\" href=https://colab.research.google.com/notebooks/data_table.ipynb>data table notebook</a>'\n",
              "          + ' to learn more about interactive tables.';\n",
              "        element.innerHTML = '';\n",
              "        dataTable['output_type'] = 'display_data';\n",
              "        await google.colab.output.renderOutput(dataTable, element);\n",
              "        const docLink = document.createElement('div');\n",
              "        docLink.innerHTML = docLinkHtml;\n",
              "        element.appendChild(docLink);\n",
              "      }\n",
              "    </script>\n",
              "  </div>\n",
              "\n",
              "\n",
              "<div id=\"df-8c74ab3b-dc4d-427d-910d-487358f06f00\">\n",
              "  <button class=\"colab-df-quickchart\" onclick=\"quickchart('df-8c74ab3b-dc4d-427d-910d-487358f06f00')\"\n",
              "            title=\"Suggest charts\"\n",
              "            style=\"display:none;\">\n",
              "\n",
              "<svg xmlns=\"http://www.w3.org/2000/svg\" height=\"24px\"viewBox=\"0 0 24 24\"\n",
              "     width=\"24px\">\n",
              "    <g>\n",
              "        <path d=\"M19 3H5c-1.1 0-2 .9-2 2v14c0 1.1.9 2 2 2h14c1.1 0 2-.9 2-2V5c0-1.1-.9-2-2-2zM9 17H7v-7h2v7zm4 0h-2V7h2v10zm4 0h-2v-4h2v4z\"/>\n",
              "    </g>\n",
              "</svg>\n",
              "  </button>\n",
              "\n",
              "<style>\n",
              "  .colab-df-quickchart {\n",
              "      --bg-color: #E8F0FE;\n",
              "      --fill-color: #1967D2;\n",
              "      --hover-bg-color: #E2EBFA;\n",
              "      --hover-fill-color: #174EA6;\n",
              "      --disabled-fill-color: #AAA;\n",
              "      --disabled-bg-color: #DDD;\n",
              "  }\n",
              "\n",
              "  [theme=dark] .colab-df-quickchart {\n",
              "      --bg-color: #3B4455;\n",
              "      --fill-color: #D2E3FC;\n",
              "      --hover-bg-color: #434B5C;\n",
              "      --hover-fill-color: #FFFFFF;\n",
              "      --disabled-bg-color: #3B4455;\n",
              "      --disabled-fill-color: #666;\n",
              "  }\n",
              "\n",
              "  .colab-df-quickchart {\n",
              "    background-color: var(--bg-color);\n",
              "    border: none;\n",
              "    border-radius: 50%;\n",
              "    cursor: pointer;\n",
              "    display: none;\n",
              "    fill: var(--fill-color);\n",
              "    height: 32px;\n",
              "    padding: 0;\n",
              "    width: 32px;\n",
              "  }\n",
              "\n",
              "  .colab-df-quickchart:hover {\n",
              "    background-color: var(--hover-bg-color);\n",
              "    box-shadow: 0 1px 2px rgba(60, 64, 67, 0.3), 0 1px 3px 1px rgba(60, 64, 67, 0.15);\n",
              "    fill: var(--button-hover-fill-color);\n",
              "  }\n",
              "\n",
              "  .colab-df-quickchart-complete:disabled,\n",
              "  .colab-df-quickchart-complete:disabled:hover {\n",
              "    background-color: var(--disabled-bg-color);\n",
              "    fill: var(--disabled-fill-color);\n",
              "    box-shadow: none;\n",
              "  }\n",
              "\n",
              "  .colab-df-spinner {\n",
              "    border: 2px solid var(--fill-color);\n",
              "    border-color: transparent;\n",
              "    border-bottom-color: var(--fill-color);\n",
              "    animation:\n",
              "      spin 1s steps(1) infinite;\n",
              "  }\n",
              "\n",
              "  @keyframes spin {\n",
              "    0% {\n",
              "      border-color: transparent;\n",
              "      border-bottom-color: var(--fill-color);\n",
              "      border-left-color: var(--fill-color);\n",
              "    }\n",
              "    20% {\n",
              "      border-color: transparent;\n",
              "      border-left-color: var(--fill-color);\n",
              "      border-top-color: var(--fill-color);\n",
              "    }\n",
              "    30% {\n",
              "      border-color: transparent;\n",
              "      border-left-color: var(--fill-color);\n",
              "      border-top-color: var(--fill-color);\n",
              "      border-right-color: var(--fill-color);\n",
              "    }\n",
              "    40% {\n",
              "      border-color: transparent;\n",
              "      border-right-color: var(--fill-color);\n",
              "      border-top-color: var(--fill-color);\n",
              "    }\n",
              "    60% {\n",
              "      border-color: transparent;\n",
              "      border-right-color: var(--fill-color);\n",
              "    }\n",
              "    80% {\n",
              "      border-color: transparent;\n",
              "      border-right-color: var(--fill-color);\n",
              "      border-bottom-color: var(--fill-color);\n",
              "    }\n",
              "    90% {\n",
              "      border-color: transparent;\n",
              "      border-bottom-color: var(--fill-color);\n",
              "    }\n",
              "  }\n",
              "</style>\n",
              "\n",
              "  <script>\n",
              "    async function quickchart(key) {\n",
              "      const quickchartButtonEl =\n",
              "        document.querySelector('#' + key + ' button');\n",
              "      quickchartButtonEl.disabled = true;  // To prevent multiple clicks.\n",
              "      quickchartButtonEl.classList.add('colab-df-spinner');\n",
              "      try {\n",
              "        const charts = await google.colab.kernel.invokeFunction(\n",
              "            'suggestCharts', [key], {});\n",
              "      } catch (error) {\n",
              "        console.error('Error during call to suggestCharts:', error);\n",
              "      }\n",
              "      quickchartButtonEl.classList.remove('colab-df-spinner');\n",
              "      quickchartButtonEl.classList.add('colab-df-quickchart-complete');\n",
              "    }\n",
              "    (() => {\n",
              "      let quickchartButtonEl =\n",
              "        document.querySelector('#df-8c74ab3b-dc4d-427d-910d-487358f06f00 button');\n",
              "      quickchartButtonEl.style.display =\n",
              "        google.colab.kernel.accessAllowed ? 'block' : 'none';\n",
              "    })();\n",
              "  </script>\n",
              "</div>\n",
              "    </div>\n",
              "  </div>\n"
            ],
            "text/plain": [
              "                            image_file_names_no_brac  brand  \\\n",
              "0  ac-428-convertible-1966-7054_1.jpg, ac-428-con...     AC   \n",
              "1  acura-mdx-2021-6991_15.jpg, acura-mdx-2021-699...  ACURA   \n",
              "2  ACURA-MDX-A-Spec-6304_1.jpg, ACURA-MDX-A-Spec-...  ACURA   \n",
              "3  ACURA-MDX-4836_1.jpg, ACURA-MDX-4836_2.jpg, AC...  ACURA   \n",
              "4  ACURAMDX-4382_1.jpg, ACURAMDX-4382_2.jpg, ACUR...  ACURA   \n",
              "\n",
              "                                 image_link  \n",
              "0    images/AC/AC__428_Convertible/19661971  \n",
              "1        images/ACURA/ACURA_MDX/2021Present  \n",
              "2  images/ACURA/ACURA_MDX_ASpec/2018Present  \n",
              "3           images/ACURA/ACURA_MDX/20132016  \n",
              "4           images/ACURA/ACURA_MDX/20102013  "
            ]
          },
          "execution_count": 14,
          "metadata": {},
          "output_type": "execute_result"
        }
      ],
      "source": [
        "data_new.head()"
      ]
    },
    {
      "cell_type": "markdown",
      "metadata": {
        "id": "vu7M5ZFztUah"
      },
      "source": [
        "##### **Splitting the Values into Separate Rows**"
      ]
    },
    {
      "cell_type": "markdown",
      "metadata": {
        "id": "tibQh3Lws-ec"
      },
      "source": [
        "I will then split the data into separate rows with the corresponding brand"
      ]
    },
    {
      "cell_type": "code",
      "execution_count": 15,
      "metadata": {
        "colab": {
          "base_uri": "https://localhost:8080/",
          "height": 206
        },
        "id": "LlZZ1sStWI0_",
        "outputId": "32b4a878-5144-4abf-cccb-7c3fb2f66541"
      },
      "outputs": [
        {
          "data": {
            "text/html": [
              "\n",
              "  <div id=\"df-45d5e6f6-0185-44dc-8307-b8536317780a\" class=\"colab-df-container\">\n",
              "    <div>\n",
              "<style scoped>\n",
              "    .dataframe tbody tr th:only-of-type {\n",
              "        vertical-align: middle;\n",
              "    }\n",
              "\n",
              "    .dataframe tbody tr th {\n",
              "        vertical-align: top;\n",
              "    }\n",
              "\n",
              "    .dataframe thead th {\n",
              "        text-align: right;\n",
              "    }\n",
              "</style>\n",
              "<table border=\"1\" class=\"dataframe\">\n",
              "  <thead>\n",
              "    <tr style=\"text-align: right;\">\n",
              "      <th></th>\n",
              "      <th>image_file_names_no_brac</th>\n",
              "      <th>brand</th>\n",
              "      <th>image_link</th>\n",
              "    </tr>\n",
              "  </thead>\n",
              "  <tbody>\n",
              "    <tr>\n",
              "      <th>0</th>\n",
              "      <td>ac-428-convertible-1966-7054_1.jpg</td>\n",
              "      <td>AC</td>\n",
              "      <td>images/AC/AC__428_Convertible/19661971</td>\n",
              "    </tr>\n",
              "    <tr>\n",
              "      <th>0</th>\n",
              "      <td>ac-428-convertible-1966-7054_2.jpg</td>\n",
              "      <td>AC</td>\n",
              "      <td>images/AC/AC__428_Convertible/19661971</td>\n",
              "    </tr>\n",
              "    <tr>\n",
              "      <th>0</th>\n",
              "      <td>ac-428-convertible-1966-7054_3.jpg</td>\n",
              "      <td>AC</td>\n",
              "      <td>images/AC/AC__428_Convertible/19661971</td>\n",
              "    </tr>\n",
              "    <tr>\n",
              "      <th>0</th>\n",
              "      <td>ac-428-convertible-1966-7054_4.jpg</td>\n",
              "      <td>AC</td>\n",
              "      <td>images/AC/AC__428_Convertible/19661971</td>\n",
              "    </tr>\n",
              "    <tr>\n",
              "      <th>0</th>\n",
              "      <td>ac-428-convertible-1966-7054_5.jpg</td>\n",
              "      <td>AC</td>\n",
              "      <td>images/AC/AC__428_Convertible/19661971</td>\n",
              "    </tr>\n",
              "  </tbody>\n",
              "</table>\n",
              "</div>\n",
              "    <div class=\"colab-df-buttons\">\n",
              "\n",
              "  <div class=\"colab-df-container\">\n",
              "    <button class=\"colab-df-convert\" onclick=\"convertToInteractive('df-45d5e6f6-0185-44dc-8307-b8536317780a')\"\n",
              "            title=\"Convert this dataframe to an interactive table.\"\n",
              "            style=\"display:none;\">\n",
              "\n",
              "  <svg xmlns=\"http://www.w3.org/2000/svg\" height=\"24px\" viewBox=\"0 -960 960 960\">\n",
              "    <path d=\"M120-120v-720h720v720H120Zm60-500h600v-160H180v160Zm220 220h160v-160H400v160Zm0 220h160v-160H400v160ZM180-400h160v-160H180v160Zm440 0h160v-160H620v160ZM180-180h160v-160H180v160Zm440 0h160v-160H620v160Z\"/>\n",
              "  </svg>\n",
              "    </button>\n",
              "\n",
              "  <style>\n",
              "    .colab-df-container {\n",
              "      display:flex;\n",
              "      gap: 12px;\n",
              "    }\n",
              "\n",
              "    .colab-df-convert {\n",
              "      background-color: #E8F0FE;\n",
              "      border: none;\n",
              "      border-radius: 50%;\n",
              "      cursor: pointer;\n",
              "      display: none;\n",
              "      fill: #1967D2;\n",
              "      height: 32px;\n",
              "      padding: 0 0 0 0;\n",
              "      width: 32px;\n",
              "    }\n",
              "\n",
              "    .colab-df-convert:hover {\n",
              "      background-color: #E2EBFA;\n",
              "      box-shadow: 0px 1px 2px rgba(60, 64, 67, 0.3), 0px 1px 3px 1px rgba(60, 64, 67, 0.15);\n",
              "      fill: #174EA6;\n",
              "    }\n",
              "\n",
              "    .colab-df-buttons div {\n",
              "      margin-bottom: 4px;\n",
              "    }\n",
              "\n",
              "    [theme=dark] .colab-df-convert {\n",
              "      background-color: #3B4455;\n",
              "      fill: #D2E3FC;\n",
              "    }\n",
              "\n",
              "    [theme=dark] .colab-df-convert:hover {\n",
              "      background-color: #434B5C;\n",
              "      box-shadow: 0px 1px 3px 1px rgba(0, 0, 0, 0.15);\n",
              "      filter: drop-shadow(0px 1px 2px rgba(0, 0, 0, 0.3));\n",
              "      fill: #FFFFFF;\n",
              "    }\n",
              "  </style>\n",
              "\n",
              "    <script>\n",
              "      const buttonEl =\n",
              "        document.querySelector('#df-45d5e6f6-0185-44dc-8307-b8536317780a button.colab-df-convert');\n",
              "      buttonEl.style.display =\n",
              "        google.colab.kernel.accessAllowed ? 'block' : 'none';\n",
              "\n",
              "      async function convertToInteractive(key) {\n",
              "        const element = document.querySelector('#df-45d5e6f6-0185-44dc-8307-b8536317780a');\n",
              "        const dataTable =\n",
              "          await google.colab.kernel.invokeFunction('convertToInteractive',\n",
              "                                                    [key], {});\n",
              "        if (!dataTable) return;\n",
              "\n",
              "        const docLinkHtml = 'Like what you see? Visit the ' +\n",
              "          '<a target=\"_blank\" href=https://colab.research.google.com/notebooks/data_table.ipynb>data table notebook</a>'\n",
              "          + ' to learn more about interactive tables.';\n",
              "        element.innerHTML = '';\n",
              "        dataTable['output_type'] = 'display_data';\n",
              "        await google.colab.output.renderOutput(dataTable, element);\n",
              "        const docLink = document.createElement('div');\n",
              "        docLink.innerHTML = docLinkHtml;\n",
              "        element.appendChild(docLink);\n",
              "      }\n",
              "    </script>\n",
              "  </div>\n",
              "\n",
              "\n",
              "<div id=\"df-25ff77f7-f866-4f9e-98ac-4fd370075eef\">\n",
              "  <button class=\"colab-df-quickchart\" onclick=\"quickchart('df-25ff77f7-f866-4f9e-98ac-4fd370075eef')\"\n",
              "            title=\"Suggest charts\"\n",
              "            style=\"display:none;\">\n",
              "\n",
              "<svg xmlns=\"http://www.w3.org/2000/svg\" height=\"24px\"viewBox=\"0 0 24 24\"\n",
              "     width=\"24px\">\n",
              "    <g>\n",
              "        <path d=\"M19 3H5c-1.1 0-2 .9-2 2v14c0 1.1.9 2 2 2h14c1.1 0 2-.9 2-2V5c0-1.1-.9-2-2-2zM9 17H7v-7h2v7zm4 0h-2V7h2v10zm4 0h-2v-4h2v4z\"/>\n",
              "    </g>\n",
              "</svg>\n",
              "  </button>\n",
              "\n",
              "<style>\n",
              "  .colab-df-quickchart {\n",
              "      --bg-color: #E8F0FE;\n",
              "      --fill-color: #1967D2;\n",
              "      --hover-bg-color: #E2EBFA;\n",
              "      --hover-fill-color: #174EA6;\n",
              "      --disabled-fill-color: #AAA;\n",
              "      --disabled-bg-color: #DDD;\n",
              "  }\n",
              "\n",
              "  [theme=dark] .colab-df-quickchart {\n",
              "      --bg-color: #3B4455;\n",
              "      --fill-color: #D2E3FC;\n",
              "      --hover-bg-color: #434B5C;\n",
              "      --hover-fill-color: #FFFFFF;\n",
              "      --disabled-bg-color: #3B4455;\n",
              "      --disabled-fill-color: #666;\n",
              "  }\n",
              "\n",
              "  .colab-df-quickchart {\n",
              "    background-color: var(--bg-color);\n",
              "    border: none;\n",
              "    border-radius: 50%;\n",
              "    cursor: pointer;\n",
              "    display: none;\n",
              "    fill: var(--fill-color);\n",
              "    height: 32px;\n",
              "    padding: 0;\n",
              "    width: 32px;\n",
              "  }\n",
              "\n",
              "  .colab-df-quickchart:hover {\n",
              "    background-color: var(--hover-bg-color);\n",
              "    box-shadow: 0 1px 2px rgba(60, 64, 67, 0.3), 0 1px 3px 1px rgba(60, 64, 67, 0.15);\n",
              "    fill: var(--button-hover-fill-color);\n",
              "  }\n",
              "\n",
              "  .colab-df-quickchart-complete:disabled,\n",
              "  .colab-df-quickchart-complete:disabled:hover {\n",
              "    background-color: var(--disabled-bg-color);\n",
              "    fill: var(--disabled-fill-color);\n",
              "    box-shadow: none;\n",
              "  }\n",
              "\n",
              "  .colab-df-spinner {\n",
              "    border: 2px solid var(--fill-color);\n",
              "    border-color: transparent;\n",
              "    border-bottom-color: var(--fill-color);\n",
              "    animation:\n",
              "      spin 1s steps(1) infinite;\n",
              "  }\n",
              "\n",
              "  @keyframes spin {\n",
              "    0% {\n",
              "      border-color: transparent;\n",
              "      border-bottom-color: var(--fill-color);\n",
              "      border-left-color: var(--fill-color);\n",
              "    }\n",
              "    20% {\n",
              "      border-color: transparent;\n",
              "      border-left-color: var(--fill-color);\n",
              "      border-top-color: var(--fill-color);\n",
              "    }\n",
              "    30% {\n",
              "      border-color: transparent;\n",
              "      border-left-color: var(--fill-color);\n",
              "      border-top-color: var(--fill-color);\n",
              "      border-right-color: var(--fill-color);\n",
              "    }\n",
              "    40% {\n",
              "      border-color: transparent;\n",
              "      border-right-color: var(--fill-color);\n",
              "      border-top-color: var(--fill-color);\n",
              "    }\n",
              "    60% {\n",
              "      border-color: transparent;\n",
              "      border-right-color: var(--fill-color);\n",
              "    }\n",
              "    80% {\n",
              "      border-color: transparent;\n",
              "      border-right-color: var(--fill-color);\n",
              "      border-bottom-color: var(--fill-color);\n",
              "    }\n",
              "    90% {\n",
              "      border-color: transparent;\n",
              "      border-bottom-color: var(--fill-color);\n",
              "    }\n",
              "  }\n",
              "</style>\n",
              "\n",
              "  <script>\n",
              "    async function quickchart(key) {\n",
              "      const quickchartButtonEl =\n",
              "        document.querySelector('#' + key + ' button');\n",
              "      quickchartButtonEl.disabled = true;  // To prevent multiple clicks.\n",
              "      quickchartButtonEl.classList.add('colab-df-spinner');\n",
              "      try {\n",
              "        const charts = await google.colab.kernel.invokeFunction(\n",
              "            'suggestCharts', [key], {});\n",
              "      } catch (error) {\n",
              "        console.error('Error during call to suggestCharts:', error);\n",
              "      }\n",
              "      quickchartButtonEl.classList.remove('colab-df-spinner');\n",
              "      quickchartButtonEl.classList.add('colab-df-quickchart-complete');\n",
              "    }\n",
              "    (() => {\n",
              "      let quickchartButtonEl =\n",
              "        document.querySelector('#df-25ff77f7-f866-4f9e-98ac-4fd370075eef button');\n",
              "      quickchartButtonEl.style.display =\n",
              "        google.colab.kernel.accessAllowed ? 'block' : 'none';\n",
              "    })();\n",
              "  </script>\n",
              "</div>\n",
              "    </div>\n",
              "  </div>\n"
            ],
            "text/plain": [
              "             image_file_names_no_brac brand  \\\n",
              "0  ac-428-convertible-1966-7054_1.jpg    AC   \n",
              "0  ac-428-convertible-1966-7054_2.jpg    AC   \n",
              "0  ac-428-convertible-1966-7054_3.jpg    AC   \n",
              "0  ac-428-convertible-1966-7054_4.jpg    AC   \n",
              "0  ac-428-convertible-1966-7054_5.jpg    AC   \n",
              "\n",
              "                               image_link  \n",
              "0  images/AC/AC__428_Convertible/19661971  \n",
              "0  images/AC/AC__428_Convertible/19661971  \n",
              "0  images/AC/AC__428_Convertible/19661971  \n",
              "0  images/AC/AC__428_Convertible/19661971  \n",
              "0  images/AC/AC__428_Convertible/19661971  "
            ]
          },
          "execution_count": 15,
          "metadata": {},
          "output_type": "execute_result"
        }
      ],
      "source": [
        "# Splitting the comma-separated values into separate rows and associating with the corresponding brand\n",
        "data_new = data_new.assign(image_file_names_no_brac=data_new['image_file_names_no_brac'].str.split(', ')).explode('image_file_names_no_brac')\n",
        "data_new.head()\n"
      ]
    },
    {
      "cell_type": "code",
      "execution_count": 16,
      "metadata": {
        "colab": {
          "base_uri": "https://localhost:8080/"
        },
        "id": "hKw3QpLvXDW6",
        "outputId": "ac7337be-3ee2-4aea-dfe8-e6de74ebf2f3"
      },
      "outputs": [
        {
          "data": {
            "text/plain": [
              "(194727, 3)"
            ]
          },
          "execution_count": 16,
          "metadata": {},
          "output_type": "execute_result"
        }
      ],
      "source": [
        "data_new.shape"
      ]
    },
    {
      "cell_type": "markdown",
      "metadata": {
        "id": "UcJPqyLutmEu"
      },
      "source": [
        "There are now 194,727 rows"
      ]
    },
    {
      "cell_type": "markdown",
      "metadata": {
        "id": "G9KBXE5OtsXS"
      },
      "source": [
        "Renaming the column:"
      ]
    },
    {
      "cell_type": "code",
      "execution_count": 17,
      "metadata": {
        "id": "xKfOHC3wNvAD"
      },
      "outputs": [],
      "source": [
        "data_new.rename(columns={'image_file_names_no_brac': 'image_filename'}, inplace=True)"
      ]
    },
    {
      "cell_type": "code",
      "execution_count": 18,
      "metadata": {
        "colab": {
          "base_uri": "https://localhost:8080/",
          "height": 206
        },
        "id": "Oda7eCpXOA7b",
        "outputId": "fa665f51-ca64-4139-c1b4-e691c7552640"
      },
      "outputs": [
        {
          "data": {
            "text/html": [
              "\n",
              "  <div id=\"df-3a5e284d-736b-4e05-b897-3d314dfbbbcc\" class=\"colab-df-container\">\n",
              "    <div>\n",
              "<style scoped>\n",
              "    .dataframe tbody tr th:only-of-type {\n",
              "        vertical-align: middle;\n",
              "    }\n",
              "\n",
              "    .dataframe tbody tr th {\n",
              "        vertical-align: top;\n",
              "    }\n",
              "\n",
              "    .dataframe thead th {\n",
              "        text-align: right;\n",
              "    }\n",
              "</style>\n",
              "<table border=\"1\" class=\"dataframe\">\n",
              "  <thead>\n",
              "    <tr style=\"text-align: right;\">\n",
              "      <th></th>\n",
              "      <th>image_filename</th>\n",
              "      <th>brand</th>\n",
              "      <th>image_link</th>\n",
              "    </tr>\n",
              "  </thead>\n",
              "  <tbody>\n",
              "    <tr>\n",
              "      <th>0</th>\n",
              "      <td>ac-428-convertible-1966-7054_1.jpg</td>\n",
              "      <td>AC</td>\n",
              "      <td>images/AC/AC__428_Convertible/19661971</td>\n",
              "    </tr>\n",
              "    <tr>\n",
              "      <th>0</th>\n",
              "      <td>ac-428-convertible-1966-7054_2.jpg</td>\n",
              "      <td>AC</td>\n",
              "      <td>images/AC/AC__428_Convertible/19661971</td>\n",
              "    </tr>\n",
              "    <tr>\n",
              "      <th>0</th>\n",
              "      <td>ac-428-convertible-1966-7054_3.jpg</td>\n",
              "      <td>AC</td>\n",
              "      <td>images/AC/AC__428_Convertible/19661971</td>\n",
              "    </tr>\n",
              "    <tr>\n",
              "      <th>0</th>\n",
              "      <td>ac-428-convertible-1966-7054_4.jpg</td>\n",
              "      <td>AC</td>\n",
              "      <td>images/AC/AC__428_Convertible/19661971</td>\n",
              "    </tr>\n",
              "    <tr>\n",
              "      <th>0</th>\n",
              "      <td>ac-428-convertible-1966-7054_5.jpg</td>\n",
              "      <td>AC</td>\n",
              "      <td>images/AC/AC__428_Convertible/19661971</td>\n",
              "    </tr>\n",
              "  </tbody>\n",
              "</table>\n",
              "</div>\n",
              "    <div class=\"colab-df-buttons\">\n",
              "\n",
              "  <div class=\"colab-df-container\">\n",
              "    <button class=\"colab-df-convert\" onclick=\"convertToInteractive('df-3a5e284d-736b-4e05-b897-3d314dfbbbcc')\"\n",
              "            title=\"Convert this dataframe to an interactive table.\"\n",
              "            style=\"display:none;\">\n",
              "\n",
              "  <svg xmlns=\"http://www.w3.org/2000/svg\" height=\"24px\" viewBox=\"0 -960 960 960\">\n",
              "    <path d=\"M120-120v-720h720v720H120Zm60-500h600v-160H180v160Zm220 220h160v-160H400v160Zm0 220h160v-160H400v160ZM180-400h160v-160H180v160Zm440 0h160v-160H620v160ZM180-180h160v-160H180v160Zm440 0h160v-160H620v160Z\"/>\n",
              "  </svg>\n",
              "    </button>\n",
              "\n",
              "  <style>\n",
              "    .colab-df-container {\n",
              "      display:flex;\n",
              "      gap: 12px;\n",
              "    }\n",
              "\n",
              "    .colab-df-convert {\n",
              "      background-color: #E8F0FE;\n",
              "      border: none;\n",
              "      border-radius: 50%;\n",
              "      cursor: pointer;\n",
              "      display: none;\n",
              "      fill: #1967D2;\n",
              "      height: 32px;\n",
              "      padding: 0 0 0 0;\n",
              "      width: 32px;\n",
              "    }\n",
              "\n",
              "    .colab-df-convert:hover {\n",
              "      background-color: #E2EBFA;\n",
              "      box-shadow: 0px 1px 2px rgba(60, 64, 67, 0.3), 0px 1px 3px 1px rgba(60, 64, 67, 0.15);\n",
              "      fill: #174EA6;\n",
              "    }\n",
              "\n",
              "    .colab-df-buttons div {\n",
              "      margin-bottom: 4px;\n",
              "    }\n",
              "\n",
              "    [theme=dark] .colab-df-convert {\n",
              "      background-color: #3B4455;\n",
              "      fill: #D2E3FC;\n",
              "    }\n",
              "\n",
              "    [theme=dark] .colab-df-convert:hover {\n",
              "      background-color: #434B5C;\n",
              "      box-shadow: 0px 1px 3px 1px rgba(0, 0, 0, 0.15);\n",
              "      filter: drop-shadow(0px 1px 2px rgba(0, 0, 0, 0.3));\n",
              "      fill: #FFFFFF;\n",
              "    }\n",
              "  </style>\n",
              "\n",
              "    <script>\n",
              "      const buttonEl =\n",
              "        document.querySelector('#df-3a5e284d-736b-4e05-b897-3d314dfbbbcc button.colab-df-convert');\n",
              "      buttonEl.style.display =\n",
              "        google.colab.kernel.accessAllowed ? 'block' : 'none';\n",
              "\n",
              "      async function convertToInteractive(key) {\n",
              "        const element = document.querySelector('#df-3a5e284d-736b-4e05-b897-3d314dfbbbcc');\n",
              "        const dataTable =\n",
              "          await google.colab.kernel.invokeFunction('convertToInteractive',\n",
              "                                                    [key], {});\n",
              "        if (!dataTable) return;\n",
              "\n",
              "        const docLinkHtml = 'Like what you see? Visit the ' +\n",
              "          '<a target=\"_blank\" href=https://colab.research.google.com/notebooks/data_table.ipynb>data table notebook</a>'\n",
              "          + ' to learn more about interactive tables.';\n",
              "        element.innerHTML = '';\n",
              "        dataTable['output_type'] = 'display_data';\n",
              "        await google.colab.output.renderOutput(dataTable, element);\n",
              "        const docLink = document.createElement('div');\n",
              "        docLink.innerHTML = docLinkHtml;\n",
              "        element.appendChild(docLink);\n",
              "      }\n",
              "    </script>\n",
              "  </div>\n",
              "\n",
              "\n",
              "<div id=\"df-4aadf4f4-8b09-4350-b908-979df9c07a86\">\n",
              "  <button class=\"colab-df-quickchart\" onclick=\"quickchart('df-4aadf4f4-8b09-4350-b908-979df9c07a86')\"\n",
              "            title=\"Suggest charts\"\n",
              "            style=\"display:none;\">\n",
              "\n",
              "<svg xmlns=\"http://www.w3.org/2000/svg\" height=\"24px\"viewBox=\"0 0 24 24\"\n",
              "     width=\"24px\">\n",
              "    <g>\n",
              "        <path d=\"M19 3H5c-1.1 0-2 .9-2 2v14c0 1.1.9 2 2 2h14c1.1 0 2-.9 2-2V5c0-1.1-.9-2-2-2zM9 17H7v-7h2v7zm4 0h-2V7h2v10zm4 0h-2v-4h2v4z\"/>\n",
              "    </g>\n",
              "</svg>\n",
              "  </button>\n",
              "\n",
              "<style>\n",
              "  .colab-df-quickchart {\n",
              "      --bg-color: #E8F0FE;\n",
              "      --fill-color: #1967D2;\n",
              "      --hover-bg-color: #E2EBFA;\n",
              "      --hover-fill-color: #174EA6;\n",
              "      --disabled-fill-color: #AAA;\n",
              "      --disabled-bg-color: #DDD;\n",
              "  }\n",
              "\n",
              "  [theme=dark] .colab-df-quickchart {\n",
              "      --bg-color: #3B4455;\n",
              "      --fill-color: #D2E3FC;\n",
              "      --hover-bg-color: #434B5C;\n",
              "      --hover-fill-color: #FFFFFF;\n",
              "      --disabled-bg-color: #3B4455;\n",
              "      --disabled-fill-color: #666;\n",
              "  }\n",
              "\n",
              "  .colab-df-quickchart {\n",
              "    background-color: var(--bg-color);\n",
              "    border: none;\n",
              "    border-radius: 50%;\n",
              "    cursor: pointer;\n",
              "    display: none;\n",
              "    fill: var(--fill-color);\n",
              "    height: 32px;\n",
              "    padding: 0;\n",
              "    width: 32px;\n",
              "  }\n",
              "\n",
              "  .colab-df-quickchart:hover {\n",
              "    background-color: var(--hover-bg-color);\n",
              "    box-shadow: 0 1px 2px rgba(60, 64, 67, 0.3), 0 1px 3px 1px rgba(60, 64, 67, 0.15);\n",
              "    fill: var(--button-hover-fill-color);\n",
              "  }\n",
              "\n",
              "  .colab-df-quickchart-complete:disabled,\n",
              "  .colab-df-quickchart-complete:disabled:hover {\n",
              "    background-color: var(--disabled-bg-color);\n",
              "    fill: var(--disabled-fill-color);\n",
              "    box-shadow: none;\n",
              "  }\n",
              "\n",
              "  .colab-df-spinner {\n",
              "    border: 2px solid var(--fill-color);\n",
              "    border-color: transparent;\n",
              "    border-bottom-color: var(--fill-color);\n",
              "    animation:\n",
              "      spin 1s steps(1) infinite;\n",
              "  }\n",
              "\n",
              "  @keyframes spin {\n",
              "    0% {\n",
              "      border-color: transparent;\n",
              "      border-bottom-color: var(--fill-color);\n",
              "      border-left-color: var(--fill-color);\n",
              "    }\n",
              "    20% {\n",
              "      border-color: transparent;\n",
              "      border-left-color: var(--fill-color);\n",
              "      border-top-color: var(--fill-color);\n",
              "    }\n",
              "    30% {\n",
              "      border-color: transparent;\n",
              "      border-left-color: var(--fill-color);\n",
              "      border-top-color: var(--fill-color);\n",
              "      border-right-color: var(--fill-color);\n",
              "    }\n",
              "    40% {\n",
              "      border-color: transparent;\n",
              "      border-right-color: var(--fill-color);\n",
              "      border-top-color: var(--fill-color);\n",
              "    }\n",
              "    60% {\n",
              "      border-color: transparent;\n",
              "      border-right-color: var(--fill-color);\n",
              "    }\n",
              "    80% {\n",
              "      border-color: transparent;\n",
              "      border-right-color: var(--fill-color);\n",
              "      border-bottom-color: var(--fill-color);\n",
              "    }\n",
              "    90% {\n",
              "      border-color: transparent;\n",
              "      border-bottom-color: var(--fill-color);\n",
              "    }\n",
              "  }\n",
              "</style>\n",
              "\n",
              "  <script>\n",
              "    async function quickchart(key) {\n",
              "      const quickchartButtonEl =\n",
              "        document.querySelector('#' + key + ' button');\n",
              "      quickchartButtonEl.disabled = true;  // To prevent multiple clicks.\n",
              "      quickchartButtonEl.classList.add('colab-df-spinner');\n",
              "      try {\n",
              "        const charts = await google.colab.kernel.invokeFunction(\n",
              "            'suggestCharts', [key], {});\n",
              "      } catch (error) {\n",
              "        console.error('Error during call to suggestCharts:', error);\n",
              "      }\n",
              "      quickchartButtonEl.classList.remove('colab-df-spinner');\n",
              "      quickchartButtonEl.classList.add('colab-df-quickchart-complete');\n",
              "    }\n",
              "    (() => {\n",
              "      let quickchartButtonEl =\n",
              "        document.querySelector('#df-4aadf4f4-8b09-4350-b908-979df9c07a86 button');\n",
              "      quickchartButtonEl.style.display =\n",
              "        google.colab.kernel.accessAllowed ? 'block' : 'none';\n",
              "    })();\n",
              "  </script>\n",
              "</div>\n",
              "    </div>\n",
              "  </div>\n"
            ],
            "text/plain": [
              "                       image_filename brand  \\\n",
              "0  ac-428-convertible-1966-7054_1.jpg    AC   \n",
              "0  ac-428-convertible-1966-7054_2.jpg    AC   \n",
              "0  ac-428-convertible-1966-7054_3.jpg    AC   \n",
              "0  ac-428-convertible-1966-7054_4.jpg    AC   \n",
              "0  ac-428-convertible-1966-7054_5.jpg    AC   \n",
              "\n",
              "                               image_link  \n",
              "0  images/AC/AC__428_Convertible/19661971  \n",
              "0  images/AC/AC__428_Convertible/19661971  \n",
              "0  images/AC/AC__428_Convertible/19661971  \n",
              "0  images/AC/AC__428_Convertible/19661971  \n",
              "0  images/AC/AC__428_Convertible/19661971  "
            ]
          },
          "execution_count": 18,
          "metadata": {},
          "output_type": "execute_result"
        }
      ],
      "source": [
        "data_new.head()"
      ]
    },
    {
      "cell_type": "markdown",
      "metadata": {
        "id": "0Ze6Jp3Qtyu7"
      },
      "source": [
        "I now have the Required Columns:\n",
        "- The image file name\n",
        "- The brand\n",
        "- The image url\n",
        "\n",
        "But the image url will not work, since the paths do not exist in the folder.\n",
        "\n",
        "So I will have to manually retrieve the image urls from the /contents/train/ folder"
      ]
    },
    {
      "cell_type": "markdown",
      "metadata": {
        "id": "Qt70WxpghrBN"
      },
      "source": [
        "## 2. Retrieving Data & Creating a DataFrame\n",
        "- I'll be getting the data from the /content/train/ folder\n",
        "- I will then create a DataFrame 'df' to store the data. The retrieved data will include the image url and the file name.\n",
        "- This way, I will be able to merge this dataframe with the previous one on 'image file name', and I'll end up with a dataframe containg the correct image url."
      ]
    },
    {
      "cell_type": "code",
      "execution_count": 19,
      "metadata": {
        "id": "0K8xEzq_JxVN"
      },
      "outputs": [],
      "source": [
        "import os\n",
        "# Setting the path to the directory containing subfolders\n",
        "base_path = '/content/train/'\n",
        "\n",
        "# Initialising the lists for storing the data\n",
        "image_paths = []\n",
        "image_urls = []\n",
        "image_filenames = []\n",
        "class_labels = []\n",
        "\n",
        "# Iterating through subfolders\n",
        "for class_label in os.listdir(base_path):\n",
        "    class_path = os.path.join(base_path, class_label)\n",
        "\n",
        "    # Skipping items not in the directory\n",
        "    if not os.path.isdir(class_path):\n",
        "        continue\n",
        "\n",
        "    # Iterating through images in the subfolder\n",
        "    for image_name in os.listdir(class_path):\n",
        "        if image_name.lower().endswith(('.jpg', '.jpeg', '.png')):\n",
        "            # Building the image path and URL\n",
        "            image_path = os.path.join(class_path, image_name)\n",
        "            image_url = f'/content/train/{class_label}/{image_name}'  # Modify this based on your actual URL structure\n",
        "\n",
        "            # Extract image filename\n",
        "            image_filename = image_name\n",
        "\n",
        "            # Append to lists\n",
        "            image_paths.append(image_path)\n",
        "            image_urls.append(image_url)\n",
        "            image_filenames.append(image_filename)\n",
        "            class_labels.append(class_label)\n",
        "\n",
        "# Creating a DataFrame with the retrieved data:\n",
        "df = pd.DataFrame({\n",
        "    'image_path': image_paths,\n",
        "    'image_url': image_urls,\n",
        "    'image_filename': image_filenames,  # Include image filenames in the DataFrame\n",
        "    'class_label': class_labels\n",
        "})\n",
        "\n"
      ]
    },
    {
      "cell_type": "markdown",
      "metadata": {
        "id": "gH2oVxBLvVlL"
      },
      "source": [
        "Viewing the Data:"
      ]
    },
    {
      "cell_type": "code",
      "execution_count": 20,
      "metadata": {
        "colab": {
          "base_uri": "https://localhost:8080/",
          "height": 293
        },
        "id": "CaB1fAcGJ-Au",
        "outputId": "ab980a00-5ca6-4cd7-fddb-76478999a103"
      },
      "outputs": [
        {
          "data": {
            "text/html": [
              "\n",
              "  <div id=\"df-3a5ba033-8a84-46c2-99e9-d5cf5323ec3f\" class=\"colab-df-container\">\n",
              "    <div>\n",
              "<style scoped>\n",
              "    .dataframe tbody tr th:only-of-type {\n",
              "        vertical-align: middle;\n",
              "    }\n",
              "\n",
              "    .dataframe tbody tr th {\n",
              "        vertical-align: top;\n",
              "    }\n",
              "\n",
              "    .dataframe thead th {\n",
              "        text-align: right;\n",
              "    }\n",
              "</style>\n",
              "<table border=\"1\" class=\"dataframe\">\n",
              "  <thead>\n",
              "    <tr style=\"text-align: right;\">\n",
              "      <th></th>\n",
              "      <th>image_path</th>\n",
              "      <th>image_url</th>\n",
              "      <th>image_filename</th>\n",
              "      <th>class_label</th>\n",
              "    </tr>\n",
              "  </thead>\n",
              "  <tbody>\n",
              "    <tr>\n",
              "      <th>0</th>\n",
              "      <td>/content/train/AUDI_S6_Avant_2019Present/AUDI-...</td>\n",
              "      <td>/content/train/AUDI_S6_Avant_2019Present/AUDI-...</td>\n",
              "      <td>AUDI-S6-Avant-6553_28.jpg</td>\n",
              "      <td>AUDI_S6_Avant_2019Present</td>\n",
              "    </tr>\n",
              "    <tr>\n",
              "      <th>1</th>\n",
              "      <td>/content/train/AUDI_S6_Avant_2019Present/AUDI-...</td>\n",
              "      <td>/content/train/AUDI_S6_Avant_2019Present/AUDI-...</td>\n",
              "      <td>AUDI-S6-Avant-6553_36.jpg</td>\n",
              "      <td>AUDI_S6_Avant_2019Present</td>\n",
              "    </tr>\n",
              "    <tr>\n",
              "      <th>2</th>\n",
              "      <td>/content/train/AUDI_S6_Avant_2019Present/AUDI-...</td>\n",
              "      <td>/content/train/AUDI_S6_Avant_2019Present/AUDI-...</td>\n",
              "      <td>AUDI-S6-Avant-6553_21.jpg</td>\n",
              "      <td>AUDI_S6_Avant_2019Present</td>\n",
              "    </tr>\n",
              "    <tr>\n",
              "      <th>3</th>\n",
              "      <td>/content/train/AUDI_S6_Avant_2019Present/AUDI-...</td>\n",
              "      <td>/content/train/AUDI_S6_Avant_2019Present/AUDI-...</td>\n",
              "      <td>AUDI-S6-Avant-6553_17.jpg</td>\n",
              "      <td>AUDI_S6_Avant_2019Present</td>\n",
              "    </tr>\n",
              "    <tr>\n",
              "      <th>4</th>\n",
              "      <td>/content/train/AUDI_S6_Avant_2019Present/AUDI-...</td>\n",
              "      <td>/content/train/AUDI_S6_Avant_2019Present/AUDI-...</td>\n",
              "      <td>AUDI-S6-Avant-6553_23.jpg</td>\n",
              "      <td>AUDI_S6_Avant_2019Present</td>\n",
              "    </tr>\n",
              "  </tbody>\n",
              "</table>\n",
              "</div>\n",
              "    <div class=\"colab-df-buttons\">\n",
              "\n",
              "  <div class=\"colab-df-container\">\n",
              "    <button class=\"colab-df-convert\" onclick=\"convertToInteractive('df-3a5ba033-8a84-46c2-99e9-d5cf5323ec3f')\"\n",
              "            title=\"Convert this dataframe to an interactive table.\"\n",
              "            style=\"display:none;\">\n",
              "\n",
              "  <svg xmlns=\"http://www.w3.org/2000/svg\" height=\"24px\" viewBox=\"0 -960 960 960\">\n",
              "    <path d=\"M120-120v-720h720v720H120Zm60-500h600v-160H180v160Zm220 220h160v-160H400v160Zm0 220h160v-160H400v160ZM180-400h160v-160H180v160Zm440 0h160v-160H620v160ZM180-180h160v-160H180v160Zm440 0h160v-160H620v160Z\"/>\n",
              "  </svg>\n",
              "    </button>\n",
              "\n",
              "  <style>\n",
              "    .colab-df-container {\n",
              "      display:flex;\n",
              "      gap: 12px;\n",
              "    }\n",
              "\n",
              "    .colab-df-convert {\n",
              "      background-color: #E8F0FE;\n",
              "      border: none;\n",
              "      border-radius: 50%;\n",
              "      cursor: pointer;\n",
              "      display: none;\n",
              "      fill: #1967D2;\n",
              "      height: 32px;\n",
              "      padding: 0 0 0 0;\n",
              "      width: 32px;\n",
              "    }\n",
              "\n",
              "    .colab-df-convert:hover {\n",
              "      background-color: #E2EBFA;\n",
              "      box-shadow: 0px 1px 2px rgba(60, 64, 67, 0.3), 0px 1px 3px 1px rgba(60, 64, 67, 0.15);\n",
              "      fill: #174EA6;\n",
              "    }\n",
              "\n",
              "    .colab-df-buttons div {\n",
              "      margin-bottom: 4px;\n",
              "    }\n",
              "\n",
              "    [theme=dark] .colab-df-convert {\n",
              "      background-color: #3B4455;\n",
              "      fill: #D2E3FC;\n",
              "    }\n",
              "\n",
              "    [theme=dark] .colab-df-convert:hover {\n",
              "      background-color: #434B5C;\n",
              "      box-shadow: 0px 1px 3px 1px rgba(0, 0, 0, 0.15);\n",
              "      filter: drop-shadow(0px 1px 2px rgba(0, 0, 0, 0.3));\n",
              "      fill: #FFFFFF;\n",
              "    }\n",
              "  </style>\n",
              "\n",
              "    <script>\n",
              "      const buttonEl =\n",
              "        document.querySelector('#df-3a5ba033-8a84-46c2-99e9-d5cf5323ec3f button.colab-df-convert');\n",
              "      buttonEl.style.display =\n",
              "        google.colab.kernel.accessAllowed ? 'block' : 'none';\n",
              "\n",
              "      async function convertToInteractive(key) {\n",
              "        const element = document.querySelector('#df-3a5ba033-8a84-46c2-99e9-d5cf5323ec3f');\n",
              "        const dataTable =\n",
              "          await google.colab.kernel.invokeFunction('convertToInteractive',\n",
              "                                                    [key], {});\n",
              "        if (!dataTable) return;\n",
              "\n",
              "        const docLinkHtml = 'Like what you see? Visit the ' +\n",
              "          '<a target=\"_blank\" href=https://colab.research.google.com/notebooks/data_table.ipynb>data table notebook</a>'\n",
              "          + ' to learn more about interactive tables.';\n",
              "        element.innerHTML = '';\n",
              "        dataTable['output_type'] = 'display_data';\n",
              "        await google.colab.output.renderOutput(dataTable, element);\n",
              "        const docLink = document.createElement('div');\n",
              "        docLink.innerHTML = docLinkHtml;\n",
              "        element.appendChild(docLink);\n",
              "      }\n",
              "    </script>\n",
              "  </div>\n",
              "\n",
              "\n",
              "<div id=\"df-aa1ced53-acf8-4f16-983c-8c42fb4e3fad\">\n",
              "  <button class=\"colab-df-quickchart\" onclick=\"quickchart('df-aa1ced53-acf8-4f16-983c-8c42fb4e3fad')\"\n",
              "            title=\"Suggest charts\"\n",
              "            style=\"display:none;\">\n",
              "\n",
              "<svg xmlns=\"http://www.w3.org/2000/svg\" height=\"24px\"viewBox=\"0 0 24 24\"\n",
              "     width=\"24px\">\n",
              "    <g>\n",
              "        <path d=\"M19 3H5c-1.1 0-2 .9-2 2v14c0 1.1.9 2 2 2h14c1.1 0 2-.9 2-2V5c0-1.1-.9-2-2-2zM9 17H7v-7h2v7zm4 0h-2V7h2v10zm4 0h-2v-4h2v4z\"/>\n",
              "    </g>\n",
              "</svg>\n",
              "  </button>\n",
              "\n",
              "<style>\n",
              "  .colab-df-quickchart {\n",
              "      --bg-color: #E8F0FE;\n",
              "      --fill-color: #1967D2;\n",
              "      --hover-bg-color: #E2EBFA;\n",
              "      --hover-fill-color: #174EA6;\n",
              "      --disabled-fill-color: #AAA;\n",
              "      --disabled-bg-color: #DDD;\n",
              "  }\n",
              "\n",
              "  [theme=dark] .colab-df-quickchart {\n",
              "      --bg-color: #3B4455;\n",
              "      --fill-color: #D2E3FC;\n",
              "      --hover-bg-color: #434B5C;\n",
              "      --hover-fill-color: #FFFFFF;\n",
              "      --disabled-bg-color: #3B4455;\n",
              "      --disabled-fill-color: #666;\n",
              "  }\n",
              "\n",
              "  .colab-df-quickchart {\n",
              "    background-color: var(--bg-color);\n",
              "    border: none;\n",
              "    border-radius: 50%;\n",
              "    cursor: pointer;\n",
              "    display: none;\n",
              "    fill: var(--fill-color);\n",
              "    height: 32px;\n",
              "    padding: 0;\n",
              "    width: 32px;\n",
              "  }\n",
              "\n",
              "  .colab-df-quickchart:hover {\n",
              "    background-color: var(--hover-bg-color);\n",
              "    box-shadow: 0 1px 2px rgba(60, 64, 67, 0.3), 0 1px 3px 1px rgba(60, 64, 67, 0.15);\n",
              "    fill: var(--button-hover-fill-color);\n",
              "  }\n",
              "\n",
              "  .colab-df-quickchart-complete:disabled,\n",
              "  .colab-df-quickchart-complete:disabled:hover {\n",
              "    background-color: var(--disabled-bg-color);\n",
              "    fill: var(--disabled-fill-color);\n",
              "    box-shadow: none;\n",
              "  }\n",
              "\n",
              "  .colab-df-spinner {\n",
              "    border: 2px solid var(--fill-color);\n",
              "    border-color: transparent;\n",
              "    border-bottom-color: var(--fill-color);\n",
              "    animation:\n",
              "      spin 1s steps(1) infinite;\n",
              "  }\n",
              "\n",
              "  @keyframes spin {\n",
              "    0% {\n",
              "      border-color: transparent;\n",
              "      border-bottom-color: var(--fill-color);\n",
              "      border-left-color: var(--fill-color);\n",
              "    }\n",
              "    20% {\n",
              "      border-color: transparent;\n",
              "      border-left-color: var(--fill-color);\n",
              "      border-top-color: var(--fill-color);\n",
              "    }\n",
              "    30% {\n",
              "      border-color: transparent;\n",
              "      border-left-color: var(--fill-color);\n",
              "      border-top-color: var(--fill-color);\n",
              "      border-right-color: var(--fill-color);\n",
              "    }\n",
              "    40% {\n",
              "      border-color: transparent;\n",
              "      border-right-color: var(--fill-color);\n",
              "      border-top-color: var(--fill-color);\n",
              "    }\n",
              "    60% {\n",
              "      border-color: transparent;\n",
              "      border-right-color: var(--fill-color);\n",
              "    }\n",
              "    80% {\n",
              "      border-color: transparent;\n",
              "      border-right-color: var(--fill-color);\n",
              "      border-bottom-color: var(--fill-color);\n",
              "    }\n",
              "    90% {\n",
              "      border-color: transparent;\n",
              "      border-bottom-color: var(--fill-color);\n",
              "    }\n",
              "  }\n",
              "</style>\n",
              "\n",
              "  <script>\n",
              "    async function quickchart(key) {\n",
              "      const quickchartButtonEl =\n",
              "        document.querySelector('#' + key + ' button');\n",
              "      quickchartButtonEl.disabled = true;  // To prevent multiple clicks.\n",
              "      quickchartButtonEl.classList.add('colab-df-spinner');\n",
              "      try {\n",
              "        const charts = await google.colab.kernel.invokeFunction(\n",
              "            'suggestCharts', [key], {});\n",
              "      } catch (error) {\n",
              "        console.error('Error during call to suggestCharts:', error);\n",
              "      }\n",
              "      quickchartButtonEl.classList.remove('colab-df-spinner');\n",
              "      quickchartButtonEl.classList.add('colab-df-quickchart-complete');\n",
              "    }\n",
              "    (() => {\n",
              "      let quickchartButtonEl =\n",
              "        document.querySelector('#df-aa1ced53-acf8-4f16-983c-8c42fb4e3fad button');\n",
              "      quickchartButtonEl.style.display =\n",
              "        google.colab.kernel.accessAllowed ? 'block' : 'none';\n",
              "    })();\n",
              "  </script>\n",
              "</div>\n",
              "    </div>\n",
              "  </div>\n"
            ],
            "text/plain": [
              "                                          image_path  \\\n",
              "0  /content/train/AUDI_S6_Avant_2019Present/AUDI-...   \n",
              "1  /content/train/AUDI_S6_Avant_2019Present/AUDI-...   \n",
              "2  /content/train/AUDI_S6_Avant_2019Present/AUDI-...   \n",
              "3  /content/train/AUDI_S6_Avant_2019Present/AUDI-...   \n",
              "4  /content/train/AUDI_S6_Avant_2019Present/AUDI-...   \n",
              "\n",
              "                                           image_url  \\\n",
              "0  /content/train/AUDI_S6_Avant_2019Present/AUDI-...   \n",
              "1  /content/train/AUDI_S6_Avant_2019Present/AUDI-...   \n",
              "2  /content/train/AUDI_S6_Avant_2019Present/AUDI-...   \n",
              "3  /content/train/AUDI_S6_Avant_2019Present/AUDI-...   \n",
              "4  /content/train/AUDI_S6_Avant_2019Present/AUDI-...   \n",
              "\n",
              "              image_filename                class_label  \n",
              "0  AUDI-S6-Avant-6553_28.jpg  AUDI_S6_Avant_2019Present  \n",
              "1  AUDI-S6-Avant-6553_36.jpg  AUDI_S6_Avant_2019Present  \n",
              "2  AUDI-S6-Avant-6553_21.jpg  AUDI_S6_Avant_2019Present  \n",
              "3  AUDI-S6-Avant-6553_17.jpg  AUDI_S6_Avant_2019Present  \n",
              "4  AUDI-S6-Avant-6553_23.jpg  AUDI_S6_Avant_2019Present  "
            ]
          },
          "execution_count": 20,
          "metadata": {},
          "output_type": "execute_result"
        }
      ],
      "source": [
        "df.head()"
      ]
    },
    {
      "cell_type": "markdown",
      "metadata": {
        "id": "k4VWZzUXBvjv"
      },
      "source": [
        "## 3. Merging the Dataframes\n",
        "- Both the dataframes 'df' and 'data' contain the column 'image_filename'\n",
        "- So I will use that column to perform an inner join on the two DataFrames"
      ]
    },
    {
      "cell_type": "code",
      "execution_count": 21,
      "metadata": {
        "id": "3X1XhkHrP2aL"
      },
      "outputs": [],
      "source": [
        "merged_df = pd.merge(df, data_new, on='image_filename', how='inner')"
      ]
    },
    {
      "cell_type": "markdown",
      "metadata": {
        "id": "hU61HHdWvx9l"
      },
      "source": [
        "Viewing the DataFrame"
      ]
    },
    {
      "cell_type": "code",
      "execution_count": 22,
      "metadata": {
        "colab": {
          "base_uri": "https://localhost:8080/",
          "height": 313
        },
        "id": "Z8TBzrCiQKnP",
        "outputId": "5da7d330-8a9c-4a8c-ebdd-e15f8e45e7b1"
      },
      "outputs": [
        {
          "data": {
            "text/html": [
              "\n",
              "  <div id=\"df-5a49a14f-3584-4af4-9c37-f2d4e01bab83\" class=\"colab-df-container\">\n",
              "    <div>\n",
              "<style scoped>\n",
              "    .dataframe tbody tr th:only-of-type {\n",
              "        vertical-align: middle;\n",
              "    }\n",
              "\n",
              "    .dataframe tbody tr th {\n",
              "        vertical-align: top;\n",
              "    }\n",
              "\n",
              "    .dataframe thead th {\n",
              "        text-align: right;\n",
              "    }\n",
              "</style>\n",
              "<table border=\"1\" class=\"dataframe\">\n",
              "  <thead>\n",
              "    <tr style=\"text-align: right;\">\n",
              "      <th></th>\n",
              "      <th>image_path</th>\n",
              "      <th>image_url</th>\n",
              "      <th>image_filename</th>\n",
              "      <th>class_label</th>\n",
              "      <th>brand</th>\n",
              "      <th>image_link</th>\n",
              "    </tr>\n",
              "  </thead>\n",
              "  <tbody>\n",
              "    <tr>\n",
              "      <th>0</th>\n",
              "      <td>/content/train/AUDI_S6_Avant_2019Present/AUDI-...</td>\n",
              "      <td>/content/train/AUDI_S6_Avant_2019Present/AUDI-...</td>\n",
              "      <td>AUDI-S6-Avant-6553_28.jpg</td>\n",
              "      <td>AUDI_S6_Avant_2019Present</td>\n",
              "      <td>AUDI</td>\n",
              "      <td>images/AUDI/AUDI_S6_Avant/2019Present</td>\n",
              "    </tr>\n",
              "    <tr>\n",
              "      <th>1</th>\n",
              "      <td>/content/train/AUDI_S6_Avant_2019Present/AUDI-...</td>\n",
              "      <td>/content/train/AUDI_S6_Avant_2019Present/AUDI-...</td>\n",
              "      <td>AUDI-S6-Avant-6553_36.jpg</td>\n",
              "      <td>AUDI_S6_Avant_2019Present</td>\n",
              "      <td>AUDI</td>\n",
              "      <td>images/AUDI/AUDI_S6_Avant/2019Present</td>\n",
              "    </tr>\n",
              "    <tr>\n",
              "      <th>2</th>\n",
              "      <td>/content/train/AUDI_S6_Avant_2019Present/AUDI-...</td>\n",
              "      <td>/content/train/AUDI_S6_Avant_2019Present/AUDI-...</td>\n",
              "      <td>AUDI-S6-Avant-6553_21.jpg</td>\n",
              "      <td>AUDI_S6_Avant_2019Present</td>\n",
              "      <td>AUDI</td>\n",
              "      <td>images/AUDI/AUDI_S6_Avant/2019Present</td>\n",
              "    </tr>\n",
              "    <tr>\n",
              "      <th>3</th>\n",
              "      <td>/content/train/AUDI_S6_Avant_2019Present/AUDI-...</td>\n",
              "      <td>/content/train/AUDI_S6_Avant_2019Present/AUDI-...</td>\n",
              "      <td>AUDI-S6-Avant-6553_17.jpg</td>\n",
              "      <td>AUDI_S6_Avant_2019Present</td>\n",
              "      <td>AUDI</td>\n",
              "      <td>images/AUDI/AUDI_S6_Avant/2019Present</td>\n",
              "    </tr>\n",
              "    <tr>\n",
              "      <th>4</th>\n",
              "      <td>/content/train/AUDI_S6_Avant_2019Present/AUDI-...</td>\n",
              "      <td>/content/train/AUDI_S6_Avant_2019Present/AUDI-...</td>\n",
              "      <td>AUDI-S6-Avant-6553_23.jpg</td>\n",
              "      <td>AUDI_S6_Avant_2019Present</td>\n",
              "      <td>AUDI</td>\n",
              "      <td>images/AUDI/AUDI_S6_Avant/2019Present</td>\n",
              "    </tr>\n",
              "  </tbody>\n",
              "</table>\n",
              "</div>\n",
              "    <div class=\"colab-df-buttons\">\n",
              "\n",
              "  <div class=\"colab-df-container\">\n",
              "    <button class=\"colab-df-convert\" onclick=\"convertToInteractive('df-5a49a14f-3584-4af4-9c37-f2d4e01bab83')\"\n",
              "            title=\"Convert this dataframe to an interactive table.\"\n",
              "            style=\"display:none;\">\n",
              "\n",
              "  <svg xmlns=\"http://www.w3.org/2000/svg\" height=\"24px\" viewBox=\"0 -960 960 960\">\n",
              "    <path d=\"M120-120v-720h720v720H120Zm60-500h600v-160H180v160Zm220 220h160v-160H400v160Zm0 220h160v-160H400v160ZM180-400h160v-160H180v160Zm440 0h160v-160H620v160ZM180-180h160v-160H180v160Zm440 0h160v-160H620v160Z\"/>\n",
              "  </svg>\n",
              "    </button>\n",
              "\n",
              "  <style>\n",
              "    .colab-df-container {\n",
              "      display:flex;\n",
              "      gap: 12px;\n",
              "    }\n",
              "\n",
              "    .colab-df-convert {\n",
              "      background-color: #E8F0FE;\n",
              "      border: none;\n",
              "      border-radius: 50%;\n",
              "      cursor: pointer;\n",
              "      display: none;\n",
              "      fill: #1967D2;\n",
              "      height: 32px;\n",
              "      padding: 0 0 0 0;\n",
              "      width: 32px;\n",
              "    }\n",
              "\n",
              "    .colab-df-convert:hover {\n",
              "      background-color: #E2EBFA;\n",
              "      box-shadow: 0px 1px 2px rgba(60, 64, 67, 0.3), 0px 1px 3px 1px rgba(60, 64, 67, 0.15);\n",
              "      fill: #174EA6;\n",
              "    }\n",
              "\n",
              "    .colab-df-buttons div {\n",
              "      margin-bottom: 4px;\n",
              "    }\n",
              "\n",
              "    [theme=dark] .colab-df-convert {\n",
              "      background-color: #3B4455;\n",
              "      fill: #D2E3FC;\n",
              "    }\n",
              "\n",
              "    [theme=dark] .colab-df-convert:hover {\n",
              "      background-color: #434B5C;\n",
              "      box-shadow: 0px 1px 3px 1px rgba(0, 0, 0, 0.15);\n",
              "      filter: drop-shadow(0px 1px 2px rgba(0, 0, 0, 0.3));\n",
              "      fill: #FFFFFF;\n",
              "    }\n",
              "  </style>\n",
              "\n",
              "    <script>\n",
              "      const buttonEl =\n",
              "        document.querySelector('#df-5a49a14f-3584-4af4-9c37-f2d4e01bab83 button.colab-df-convert');\n",
              "      buttonEl.style.display =\n",
              "        google.colab.kernel.accessAllowed ? 'block' : 'none';\n",
              "\n",
              "      async function convertToInteractive(key) {\n",
              "        const element = document.querySelector('#df-5a49a14f-3584-4af4-9c37-f2d4e01bab83');\n",
              "        const dataTable =\n",
              "          await google.colab.kernel.invokeFunction('convertToInteractive',\n",
              "                                                    [key], {});\n",
              "        if (!dataTable) return;\n",
              "\n",
              "        const docLinkHtml = 'Like what you see? Visit the ' +\n",
              "          '<a target=\"_blank\" href=https://colab.research.google.com/notebooks/data_table.ipynb>data table notebook</a>'\n",
              "          + ' to learn more about interactive tables.';\n",
              "        element.innerHTML = '';\n",
              "        dataTable['output_type'] = 'display_data';\n",
              "        await google.colab.output.renderOutput(dataTable, element);\n",
              "        const docLink = document.createElement('div');\n",
              "        docLink.innerHTML = docLinkHtml;\n",
              "        element.appendChild(docLink);\n",
              "      }\n",
              "    </script>\n",
              "  </div>\n",
              "\n",
              "\n",
              "<div id=\"df-6e6503cb-9dab-465a-a3b4-cbfc9a03f582\">\n",
              "  <button class=\"colab-df-quickchart\" onclick=\"quickchart('df-6e6503cb-9dab-465a-a3b4-cbfc9a03f582')\"\n",
              "            title=\"Suggest charts\"\n",
              "            style=\"display:none;\">\n",
              "\n",
              "<svg xmlns=\"http://www.w3.org/2000/svg\" height=\"24px\"viewBox=\"0 0 24 24\"\n",
              "     width=\"24px\">\n",
              "    <g>\n",
              "        <path d=\"M19 3H5c-1.1 0-2 .9-2 2v14c0 1.1.9 2 2 2h14c1.1 0 2-.9 2-2V5c0-1.1-.9-2-2-2zM9 17H7v-7h2v7zm4 0h-2V7h2v10zm4 0h-2v-4h2v4z\"/>\n",
              "    </g>\n",
              "</svg>\n",
              "  </button>\n",
              "\n",
              "<style>\n",
              "  .colab-df-quickchart {\n",
              "      --bg-color: #E8F0FE;\n",
              "      --fill-color: #1967D2;\n",
              "      --hover-bg-color: #E2EBFA;\n",
              "      --hover-fill-color: #174EA6;\n",
              "      --disabled-fill-color: #AAA;\n",
              "      --disabled-bg-color: #DDD;\n",
              "  }\n",
              "\n",
              "  [theme=dark] .colab-df-quickchart {\n",
              "      --bg-color: #3B4455;\n",
              "      --fill-color: #D2E3FC;\n",
              "      --hover-bg-color: #434B5C;\n",
              "      --hover-fill-color: #FFFFFF;\n",
              "      --disabled-bg-color: #3B4455;\n",
              "      --disabled-fill-color: #666;\n",
              "  }\n",
              "\n",
              "  .colab-df-quickchart {\n",
              "    background-color: var(--bg-color);\n",
              "    border: none;\n",
              "    border-radius: 50%;\n",
              "    cursor: pointer;\n",
              "    display: none;\n",
              "    fill: var(--fill-color);\n",
              "    height: 32px;\n",
              "    padding: 0;\n",
              "    width: 32px;\n",
              "  }\n",
              "\n",
              "  .colab-df-quickchart:hover {\n",
              "    background-color: var(--hover-bg-color);\n",
              "    box-shadow: 0 1px 2px rgba(60, 64, 67, 0.3), 0 1px 3px 1px rgba(60, 64, 67, 0.15);\n",
              "    fill: var(--button-hover-fill-color);\n",
              "  }\n",
              "\n",
              "  .colab-df-quickchart-complete:disabled,\n",
              "  .colab-df-quickchart-complete:disabled:hover {\n",
              "    background-color: var(--disabled-bg-color);\n",
              "    fill: var(--disabled-fill-color);\n",
              "    box-shadow: none;\n",
              "  }\n",
              "\n",
              "  .colab-df-spinner {\n",
              "    border: 2px solid var(--fill-color);\n",
              "    border-color: transparent;\n",
              "    border-bottom-color: var(--fill-color);\n",
              "    animation:\n",
              "      spin 1s steps(1) infinite;\n",
              "  }\n",
              "\n",
              "  @keyframes spin {\n",
              "    0% {\n",
              "      border-color: transparent;\n",
              "      border-bottom-color: var(--fill-color);\n",
              "      border-left-color: var(--fill-color);\n",
              "    }\n",
              "    20% {\n",
              "      border-color: transparent;\n",
              "      border-left-color: var(--fill-color);\n",
              "      border-top-color: var(--fill-color);\n",
              "    }\n",
              "    30% {\n",
              "      border-color: transparent;\n",
              "      border-left-color: var(--fill-color);\n",
              "      border-top-color: var(--fill-color);\n",
              "      border-right-color: var(--fill-color);\n",
              "    }\n",
              "    40% {\n",
              "      border-color: transparent;\n",
              "      border-right-color: var(--fill-color);\n",
              "      border-top-color: var(--fill-color);\n",
              "    }\n",
              "    60% {\n",
              "      border-color: transparent;\n",
              "      border-right-color: var(--fill-color);\n",
              "    }\n",
              "    80% {\n",
              "      border-color: transparent;\n",
              "      border-right-color: var(--fill-color);\n",
              "      border-bottom-color: var(--fill-color);\n",
              "    }\n",
              "    90% {\n",
              "      border-color: transparent;\n",
              "      border-bottom-color: var(--fill-color);\n",
              "    }\n",
              "  }\n",
              "</style>\n",
              "\n",
              "  <script>\n",
              "    async function quickchart(key) {\n",
              "      const quickchartButtonEl =\n",
              "        document.querySelector('#' + key + ' button');\n",
              "      quickchartButtonEl.disabled = true;  // To prevent multiple clicks.\n",
              "      quickchartButtonEl.classList.add('colab-df-spinner');\n",
              "      try {\n",
              "        const charts = await google.colab.kernel.invokeFunction(\n",
              "            'suggestCharts', [key], {});\n",
              "      } catch (error) {\n",
              "        console.error('Error during call to suggestCharts:', error);\n",
              "      }\n",
              "      quickchartButtonEl.classList.remove('colab-df-spinner');\n",
              "      quickchartButtonEl.classList.add('colab-df-quickchart-complete');\n",
              "    }\n",
              "    (() => {\n",
              "      let quickchartButtonEl =\n",
              "        document.querySelector('#df-6e6503cb-9dab-465a-a3b4-cbfc9a03f582 button');\n",
              "      quickchartButtonEl.style.display =\n",
              "        google.colab.kernel.accessAllowed ? 'block' : 'none';\n",
              "    })();\n",
              "  </script>\n",
              "</div>\n",
              "    </div>\n",
              "  </div>\n"
            ],
            "text/plain": [
              "                                          image_path  \\\n",
              "0  /content/train/AUDI_S6_Avant_2019Present/AUDI-...   \n",
              "1  /content/train/AUDI_S6_Avant_2019Present/AUDI-...   \n",
              "2  /content/train/AUDI_S6_Avant_2019Present/AUDI-...   \n",
              "3  /content/train/AUDI_S6_Avant_2019Present/AUDI-...   \n",
              "4  /content/train/AUDI_S6_Avant_2019Present/AUDI-...   \n",
              "\n",
              "                                           image_url  \\\n",
              "0  /content/train/AUDI_S6_Avant_2019Present/AUDI-...   \n",
              "1  /content/train/AUDI_S6_Avant_2019Present/AUDI-...   \n",
              "2  /content/train/AUDI_S6_Avant_2019Present/AUDI-...   \n",
              "3  /content/train/AUDI_S6_Avant_2019Present/AUDI-...   \n",
              "4  /content/train/AUDI_S6_Avant_2019Present/AUDI-...   \n",
              "\n",
              "              image_filename                class_label brand  \\\n",
              "0  AUDI-S6-Avant-6553_28.jpg  AUDI_S6_Avant_2019Present  AUDI   \n",
              "1  AUDI-S6-Avant-6553_36.jpg  AUDI_S6_Avant_2019Present  AUDI   \n",
              "2  AUDI-S6-Avant-6553_21.jpg  AUDI_S6_Avant_2019Present  AUDI   \n",
              "3  AUDI-S6-Avant-6553_17.jpg  AUDI_S6_Avant_2019Present  AUDI   \n",
              "4  AUDI-S6-Avant-6553_23.jpg  AUDI_S6_Avant_2019Present  AUDI   \n",
              "\n",
              "                              image_link  \n",
              "0  images/AUDI/AUDI_S6_Avant/2019Present  \n",
              "1  images/AUDI/AUDI_S6_Avant/2019Present  \n",
              "2  images/AUDI/AUDI_S6_Avant/2019Present  \n",
              "3  images/AUDI/AUDI_S6_Avant/2019Present  \n",
              "4  images/AUDI/AUDI_S6_Avant/2019Present  "
            ]
          },
          "execution_count": 22,
          "metadata": {},
          "output_type": "execute_result"
        }
      ],
      "source": [
        "merged_df.head()"
      ]
    },
    {
      "cell_type": "markdown",
      "metadata": {
        "id": "z1vA4_HFB6Y3"
      },
      "source": [
        "### Shape of Merged Dataframe"
      ]
    },
    {
      "cell_type": "code",
      "execution_count": 23,
      "metadata": {
        "colab": {
          "base_uri": "https://localhost:8080/"
        },
        "id": "YojTb1XUQhGJ",
        "outputId": "07030901-13dd-4a9b-91fe-7a47e2643a32"
      },
      "outputs": [
        {
          "data": {
            "text/plain": [
              "(152789, 6)"
            ]
          },
          "execution_count": 23,
          "metadata": {},
          "output_type": "execute_result"
        }
      ],
      "source": [
        "merged_df.shape"
      ]
    },
    {
      "cell_type": "markdown",
      "metadata": {
        "id": "sRoP7lY5CAMr"
      },
      "source": [
        "### Checking Null Values"
      ]
    },
    {
      "cell_type": "code",
      "execution_count": 24,
      "metadata": {
        "colab": {
          "base_uri": "https://localhost:8080/"
        },
        "id": "ox_yXWFaQjeo",
        "outputId": "d6fc430c-d4de-4931-d3b2-44dc1bc630dd"
      },
      "outputs": [
        {
          "data": {
            "text/plain": [
              "image_path        False\n",
              "image_url         False\n",
              "image_filename    False\n",
              "class_label       False\n",
              "brand             False\n",
              "image_link        False\n",
              "dtype: bool"
            ]
          },
          "execution_count": 24,
          "metadata": {},
          "output_type": "execute_result"
        }
      ],
      "source": [
        "merged_df.isnull().any()"
      ]
    },
    {
      "cell_type": "markdown",
      "metadata": {
        "id": "SSsMqJFNwIFl"
      },
      "source": [
        "### Dropping Unneeded Columns"
      ]
    },
    {
      "cell_type": "code",
      "execution_count": 25,
      "metadata": {
        "id": "GTkGkfFUQo4b"
      },
      "outputs": [],
      "source": [
        "merged_df.drop(['image_path', 'image_filename', 'class_label', 'image_link'], axis=1, inplace=True)"
      ]
    },
    {
      "cell_type": "code",
      "execution_count": 26,
      "metadata": {
        "colab": {
          "base_uri": "https://localhost:8080/",
          "height": 206
        },
        "id": "8kbc2ZN7RXcT",
        "outputId": "351543de-85ca-4849-ccd7-28537a813d12"
      },
      "outputs": [
        {
          "data": {
            "text/html": [
              "\n",
              "  <div id=\"df-87456af1-9d9e-425f-b129-e33b513ace00\" class=\"colab-df-container\">\n",
              "    <div>\n",
              "<style scoped>\n",
              "    .dataframe tbody tr th:only-of-type {\n",
              "        vertical-align: middle;\n",
              "    }\n",
              "\n",
              "    .dataframe tbody tr th {\n",
              "        vertical-align: top;\n",
              "    }\n",
              "\n",
              "    .dataframe thead th {\n",
              "        text-align: right;\n",
              "    }\n",
              "</style>\n",
              "<table border=\"1\" class=\"dataframe\">\n",
              "  <thead>\n",
              "    <tr style=\"text-align: right;\">\n",
              "      <th></th>\n",
              "      <th>image_url</th>\n",
              "      <th>brand</th>\n",
              "    </tr>\n",
              "  </thead>\n",
              "  <tbody>\n",
              "    <tr>\n",
              "      <th>0</th>\n",
              "      <td>/content/train/AUDI_S6_Avant_2019Present/AUDI-...</td>\n",
              "      <td>AUDI</td>\n",
              "    </tr>\n",
              "    <tr>\n",
              "      <th>1</th>\n",
              "      <td>/content/train/AUDI_S6_Avant_2019Present/AUDI-...</td>\n",
              "      <td>AUDI</td>\n",
              "    </tr>\n",
              "    <tr>\n",
              "      <th>2</th>\n",
              "      <td>/content/train/AUDI_S6_Avant_2019Present/AUDI-...</td>\n",
              "      <td>AUDI</td>\n",
              "    </tr>\n",
              "    <tr>\n",
              "      <th>3</th>\n",
              "      <td>/content/train/AUDI_S6_Avant_2019Present/AUDI-...</td>\n",
              "      <td>AUDI</td>\n",
              "    </tr>\n",
              "    <tr>\n",
              "      <th>4</th>\n",
              "      <td>/content/train/AUDI_S6_Avant_2019Present/AUDI-...</td>\n",
              "      <td>AUDI</td>\n",
              "    </tr>\n",
              "  </tbody>\n",
              "</table>\n",
              "</div>\n",
              "    <div class=\"colab-df-buttons\">\n",
              "\n",
              "  <div class=\"colab-df-container\">\n",
              "    <button class=\"colab-df-convert\" onclick=\"convertToInteractive('df-87456af1-9d9e-425f-b129-e33b513ace00')\"\n",
              "            title=\"Convert this dataframe to an interactive table.\"\n",
              "            style=\"display:none;\">\n",
              "\n",
              "  <svg xmlns=\"http://www.w3.org/2000/svg\" height=\"24px\" viewBox=\"0 -960 960 960\">\n",
              "    <path d=\"M120-120v-720h720v720H120Zm60-500h600v-160H180v160Zm220 220h160v-160H400v160Zm0 220h160v-160H400v160ZM180-400h160v-160H180v160Zm440 0h160v-160H620v160ZM180-180h160v-160H180v160Zm440 0h160v-160H620v160Z\"/>\n",
              "  </svg>\n",
              "    </button>\n",
              "\n",
              "  <style>\n",
              "    .colab-df-container {\n",
              "      display:flex;\n",
              "      gap: 12px;\n",
              "    }\n",
              "\n",
              "    .colab-df-convert {\n",
              "      background-color: #E8F0FE;\n",
              "      border: none;\n",
              "      border-radius: 50%;\n",
              "      cursor: pointer;\n",
              "      display: none;\n",
              "      fill: #1967D2;\n",
              "      height: 32px;\n",
              "      padding: 0 0 0 0;\n",
              "      width: 32px;\n",
              "    }\n",
              "\n",
              "    .colab-df-convert:hover {\n",
              "      background-color: #E2EBFA;\n",
              "      box-shadow: 0px 1px 2px rgba(60, 64, 67, 0.3), 0px 1px 3px 1px rgba(60, 64, 67, 0.15);\n",
              "      fill: #174EA6;\n",
              "    }\n",
              "\n",
              "    .colab-df-buttons div {\n",
              "      margin-bottom: 4px;\n",
              "    }\n",
              "\n",
              "    [theme=dark] .colab-df-convert {\n",
              "      background-color: #3B4455;\n",
              "      fill: #D2E3FC;\n",
              "    }\n",
              "\n",
              "    [theme=dark] .colab-df-convert:hover {\n",
              "      background-color: #434B5C;\n",
              "      box-shadow: 0px 1px 3px 1px rgba(0, 0, 0, 0.15);\n",
              "      filter: drop-shadow(0px 1px 2px rgba(0, 0, 0, 0.3));\n",
              "      fill: #FFFFFF;\n",
              "    }\n",
              "  </style>\n",
              "\n",
              "    <script>\n",
              "      const buttonEl =\n",
              "        document.querySelector('#df-87456af1-9d9e-425f-b129-e33b513ace00 button.colab-df-convert');\n",
              "      buttonEl.style.display =\n",
              "        google.colab.kernel.accessAllowed ? 'block' : 'none';\n",
              "\n",
              "      async function convertToInteractive(key) {\n",
              "        const element = document.querySelector('#df-87456af1-9d9e-425f-b129-e33b513ace00');\n",
              "        const dataTable =\n",
              "          await google.colab.kernel.invokeFunction('convertToInteractive',\n",
              "                                                    [key], {});\n",
              "        if (!dataTable) return;\n",
              "\n",
              "        const docLinkHtml = 'Like what you see? Visit the ' +\n",
              "          '<a target=\"_blank\" href=https://colab.research.google.com/notebooks/data_table.ipynb>data table notebook</a>'\n",
              "          + ' to learn more about interactive tables.';\n",
              "        element.innerHTML = '';\n",
              "        dataTable['output_type'] = 'display_data';\n",
              "        await google.colab.output.renderOutput(dataTable, element);\n",
              "        const docLink = document.createElement('div');\n",
              "        docLink.innerHTML = docLinkHtml;\n",
              "        element.appendChild(docLink);\n",
              "      }\n",
              "    </script>\n",
              "  </div>\n",
              "\n",
              "\n",
              "<div id=\"df-77dc77e5-1b56-4019-a591-47254be9238c\">\n",
              "  <button class=\"colab-df-quickchart\" onclick=\"quickchart('df-77dc77e5-1b56-4019-a591-47254be9238c')\"\n",
              "            title=\"Suggest charts\"\n",
              "            style=\"display:none;\">\n",
              "\n",
              "<svg xmlns=\"http://www.w3.org/2000/svg\" height=\"24px\"viewBox=\"0 0 24 24\"\n",
              "     width=\"24px\">\n",
              "    <g>\n",
              "        <path d=\"M19 3H5c-1.1 0-2 .9-2 2v14c0 1.1.9 2 2 2h14c1.1 0 2-.9 2-2V5c0-1.1-.9-2-2-2zM9 17H7v-7h2v7zm4 0h-2V7h2v10zm4 0h-2v-4h2v4z\"/>\n",
              "    </g>\n",
              "</svg>\n",
              "  </button>\n",
              "\n",
              "<style>\n",
              "  .colab-df-quickchart {\n",
              "      --bg-color: #E8F0FE;\n",
              "      --fill-color: #1967D2;\n",
              "      --hover-bg-color: #E2EBFA;\n",
              "      --hover-fill-color: #174EA6;\n",
              "      --disabled-fill-color: #AAA;\n",
              "      --disabled-bg-color: #DDD;\n",
              "  }\n",
              "\n",
              "  [theme=dark] .colab-df-quickchart {\n",
              "      --bg-color: #3B4455;\n",
              "      --fill-color: #D2E3FC;\n",
              "      --hover-bg-color: #434B5C;\n",
              "      --hover-fill-color: #FFFFFF;\n",
              "      --disabled-bg-color: #3B4455;\n",
              "      --disabled-fill-color: #666;\n",
              "  }\n",
              "\n",
              "  .colab-df-quickchart {\n",
              "    background-color: var(--bg-color);\n",
              "    border: none;\n",
              "    border-radius: 50%;\n",
              "    cursor: pointer;\n",
              "    display: none;\n",
              "    fill: var(--fill-color);\n",
              "    height: 32px;\n",
              "    padding: 0;\n",
              "    width: 32px;\n",
              "  }\n",
              "\n",
              "  .colab-df-quickchart:hover {\n",
              "    background-color: var(--hover-bg-color);\n",
              "    box-shadow: 0 1px 2px rgba(60, 64, 67, 0.3), 0 1px 3px 1px rgba(60, 64, 67, 0.15);\n",
              "    fill: var(--button-hover-fill-color);\n",
              "  }\n",
              "\n",
              "  .colab-df-quickchart-complete:disabled,\n",
              "  .colab-df-quickchart-complete:disabled:hover {\n",
              "    background-color: var(--disabled-bg-color);\n",
              "    fill: var(--disabled-fill-color);\n",
              "    box-shadow: none;\n",
              "  }\n",
              "\n",
              "  .colab-df-spinner {\n",
              "    border: 2px solid var(--fill-color);\n",
              "    border-color: transparent;\n",
              "    border-bottom-color: var(--fill-color);\n",
              "    animation:\n",
              "      spin 1s steps(1) infinite;\n",
              "  }\n",
              "\n",
              "  @keyframes spin {\n",
              "    0% {\n",
              "      border-color: transparent;\n",
              "      border-bottom-color: var(--fill-color);\n",
              "      border-left-color: var(--fill-color);\n",
              "    }\n",
              "    20% {\n",
              "      border-color: transparent;\n",
              "      border-left-color: var(--fill-color);\n",
              "      border-top-color: var(--fill-color);\n",
              "    }\n",
              "    30% {\n",
              "      border-color: transparent;\n",
              "      border-left-color: var(--fill-color);\n",
              "      border-top-color: var(--fill-color);\n",
              "      border-right-color: var(--fill-color);\n",
              "    }\n",
              "    40% {\n",
              "      border-color: transparent;\n",
              "      border-right-color: var(--fill-color);\n",
              "      border-top-color: var(--fill-color);\n",
              "    }\n",
              "    60% {\n",
              "      border-color: transparent;\n",
              "      border-right-color: var(--fill-color);\n",
              "    }\n",
              "    80% {\n",
              "      border-color: transparent;\n",
              "      border-right-color: var(--fill-color);\n",
              "      border-bottom-color: var(--fill-color);\n",
              "    }\n",
              "    90% {\n",
              "      border-color: transparent;\n",
              "      border-bottom-color: var(--fill-color);\n",
              "    }\n",
              "  }\n",
              "</style>\n",
              "\n",
              "  <script>\n",
              "    async function quickchart(key) {\n",
              "      const quickchartButtonEl =\n",
              "        document.querySelector('#' + key + ' button');\n",
              "      quickchartButtonEl.disabled = true;  // To prevent multiple clicks.\n",
              "      quickchartButtonEl.classList.add('colab-df-spinner');\n",
              "      try {\n",
              "        const charts = await google.colab.kernel.invokeFunction(\n",
              "            'suggestCharts', [key], {});\n",
              "      } catch (error) {\n",
              "        console.error('Error during call to suggestCharts:', error);\n",
              "      }\n",
              "      quickchartButtonEl.classList.remove('colab-df-spinner');\n",
              "      quickchartButtonEl.classList.add('colab-df-quickchart-complete');\n",
              "    }\n",
              "    (() => {\n",
              "      let quickchartButtonEl =\n",
              "        document.querySelector('#df-77dc77e5-1b56-4019-a591-47254be9238c button');\n",
              "      quickchartButtonEl.style.display =\n",
              "        google.colab.kernel.accessAllowed ? 'block' : 'none';\n",
              "    })();\n",
              "  </script>\n",
              "</div>\n",
              "    </div>\n",
              "  </div>\n"
            ],
            "text/plain": [
              "                                           image_url brand\n",
              "0  /content/train/AUDI_S6_Avant_2019Present/AUDI-...  AUDI\n",
              "1  /content/train/AUDI_S6_Avant_2019Present/AUDI-...  AUDI\n",
              "2  /content/train/AUDI_S6_Avant_2019Present/AUDI-...  AUDI\n",
              "3  /content/train/AUDI_S6_Avant_2019Present/AUDI-...  AUDI\n",
              "4  /content/train/AUDI_S6_Avant_2019Present/AUDI-...  AUDI"
            ]
          },
          "execution_count": 26,
          "metadata": {},
          "output_type": "execute_result"
        }
      ],
      "source": [
        "merged_df.head()"
      ]
    },
    {
      "cell_type": "markdown",
      "metadata": {
        "id": "VDCG-I3AwP-o"
      },
      "source": [
        "Now I have all the columns required:\n",
        "- The brand name\n",
        "- The correct image url"
      ]
    },
    {
      "cell_type": "markdown",
      "metadata": {
        "id": "pkXbP6cmYqTY"
      },
      "source": [
        "# EDA and Data preprocessing"
      ]
    },
    {
      "cell_type": "markdown",
      "metadata": {
        "id": "q9sce4KjCJwP"
      },
      "source": [
        "## Checking Unique Brands"
      ]
    },
    {
      "cell_type": "markdown",
      "metadata": {
        "id": "JLkhPIZTx6Lw"
      },
      "source": [
        "I'll be checking which brands are unique"
      ]
    },
    {
      "cell_type": "code",
      "execution_count": 27,
      "metadata": {
        "colab": {
          "base_uri": "https://localhost:8080/"
        },
        "id": "OLNhnsEi7tib",
        "outputId": "ecb75257-f5c1-4e0c-bbfe-8eabac054425"
      },
      "outputs": [
        {
          "data": {
            "text/plain": [
              "array(['AUDI', 'DACIA', 'PORSCHE', 'MERCEDESBENZ', 'CHEVROLET', 'NISSAN',\n",
              "       'TOYOTA', 'MASERATI', 'ASTONMARTIN', 'VAUXHALL', 'ALFAROMEO',\n",
              "       'VOLVO', 'FORD', 'RENAULT', 'JEEP', 'BMW', 'FERRARI', 'ACURA',\n",
              "       'PAGANI', 'PEUGEOT', 'SAAB', 'MERCURY', 'HONDA', 'VOLKSWAGEN',\n",
              "       'LINCOLN', 'CITROEN', 'FIAT', 'HYUNDAI', 'OPEL', 'MAZDA', 'SUBARU',\n",
              "       'SUZUKI', 'BUICK', 'LAMBORGHINI', 'KIA', 'LANDROVER', 'DODGE',\n",
              "       'MITSUBISHI', 'LEXUS', 'DAEWOO', 'SEAT', 'LOTUS', 'ROLLSROYCE',\n",
              "       'MCLAREN', 'MercedesAMG', 'CHRYSLER', 'CADILLAC', 'SKODA',\n",
              "       'SSANGYONG', 'PROTON', 'BENTLEY', 'GENESIS', 'JAGUAR', 'INFINITI',\n",
              "       'SATURN', 'NIO', 'GMC', 'MAYBACH', 'SMART', 'BUGATTI', 'ISUZU',\n",
              "       'HOLDEN', 'DAIHATSU', 'LANCIA', 'KTM', 'TATAMOTORS', 'MINI',\n",
              "       'KOENIGSEGG', 'BRISTOL', 'WIESMANN', 'SPYKER', 'LIGHTYEAR',\n",
              "       'DSAUTOMOBILES', 'MORGAN', 'SCION', 'FISKER', 'PERODUA', 'MG',\n",
              "       'TESLA', 'RIMAC', 'DeLorean', 'RAMTrucks', 'CUPRA', 'PONTIAC',\n",
              "       'LADA', 'Zenvo', 'Pininfarina', 'MARUTISUZUKI', 'DATSUN',\n",
              "       'Polestar', 'RIVIAN', 'OLDSMOBILE', 'QOROS', 'ALPINE', 'AURUS',\n",
              "       'BUFORI', 'AC', 'CATERHAM'], dtype=object)"
            ]
          },
          "execution_count": 27,
          "metadata": {},
          "output_type": "execute_result"
        }
      ],
      "source": [
        "merged_df['brand'].unique()"
      ]
    },
    {
      "cell_type": "markdown",
      "metadata": {
        "id": "MwJds1rNCRf5"
      },
      "source": [
        "#### Merging Similar Columns"
      ]
    },
    {
      "cell_type": "markdown",
      "metadata": {
        "id": "MOz6nubzyAAD"
      },
      "source": [
        "- The brands MercedesAMG and MERCEDESBENZ will be merged into MERCEDESSBENZ\n",
        "- MAURITUSUZUKI will be merged into SUZUKI"
      ]
    },
    {
      "cell_type": "code",
      "execution_count": 28,
      "metadata": {
        "id": "X4lxAk4Z8-JG"
      },
      "outputs": [],
      "source": [
        "merged_df['brand'] = merged_df['brand'].replace(['MercedesAMG'], 'MERCEDESBENZ')\n",
        "merged_df['brand'] = merged_df['brand'].replace(['MARUTISUZUKI'], 'SUZUKI')"
      ]
    },
    {
      "cell_type": "markdown",
      "metadata": {
        "id": "WDXhrv8YCi6y"
      },
      "source": [
        "### Checking Distribution of Each Brand\n",
        "I'll be doing this by creating a horizontal countplot to visualize each brand."
      ]
    },
    {
      "cell_type": "code",
      "execution_count": 29,
      "metadata": {
        "colab": {
          "base_uri": "https://localhost:8080/",
          "height": 1000
        },
        "id": "LMD167h_Fkdj",
        "outputId": "8e437f6f-860c-4d73-de6d-370c60001d13"
      },
      "outputs": [
        {
          "data": {
            "image/png": "[encoded data removed]",
            "text/plain": [
              "<Figure size 1500x2000 with 1 Axes>"
            ]
          },
          "metadata": {},
          "output_type": "display_data"
        }
      ],
      "source": [
        "import seaborn as sns\n",
        "import matplotlib.pyplot as plt\n",
        "\n",
        "plt.figure(figsize=(15, 20))\n",
        "\n",
        "# Creating a horizontal countplot\n",
        "ax = sns.countplot(y='brand', data=merged_df, palette='viridis', order=merged_df['brand'].value_counts().index)\n",
        "\n",
        "plt.xlabel('Count')\n",
        "plt.ylabel('brand')\n",
        "plt.title('Horizontal Countplot of Brands')\n",
        "\n",
        "# Displayong the count on each bar\n",
        "for p in ax.patches:\n",
        "    ax.annotate(f'{p.get_width()}', (p.get_width(), p.get_y() + p.get_height() / 2), ha='left', va='center')\n",
        "\n",
        "plt.show()\n"
      ]
    },
    {
      "cell_type": "markdown",
      "metadata": {
        "id": "WiiPJFN_CsNx"
      },
      "source": [
        "### Sorting Brands by Class\n",
        "- There are a large number of categories.\n",
        "So, I'll be using domain Knowledge for reducing the number of categories into two.\n",
        "- I will do this by dividing the car brands into LUXURY and MASS MARKET categories"
      ]
    },
    {
      "cell_type": "code",
      "execution_count": 30,
      "metadata": {
        "id": "VMb6sZ21aCZo"
      },
      "outputs": [],
      "source": [
        "# Creating a new column 'class' in merged_df\n",
        "merged_df['class'] = merged_df['brand']\n",
        "\n",
        "luxury_class = ['BUGATTI', 'ASTONMARTIN', 'FERRARI', 'MAYBACH', 'LAMBORGHINI',\n",
        "                'MASERATI', 'BENTLEY', 'PORSCHE', 'MCLAREN', 'ROLLSROYCE', 'WIESMANN', 'Zenvo',\n",
        "                'KOENIGSEGG', 'BMW', 'ALFAROMEO', 'AUDI', 'ACURA', 'MERCEDESBENZ', 'LEXUS',\n",
        "                'LINCOLN', 'INFINITI', 'JAGUAR', 'LANDROVER',\n",
        "                'CADILLAC', 'GENESIS', 'Polestar', 'DSAUTOMOBILES', 'FISKER', 'LOTUS', 'TESLA', 'AURUS', 'BUFORI',\n",
        "                'PAGANI', 'SPYKER', 'ALPINE', 'RIMAC', 'RIVIAN', 'KTM']\n",
        "\n",
        "# Using loc to update the 'class' column for luxury_class\n",
        "merged_df.loc[merged_df['class'].isin(luxury_class), 'class'] = 'LUXURY'\n",
        "\n",
        "mass_market_class = ['FIAT', 'SEAT', 'SUZUKI', 'CITROEN', 'KIA',\n",
        "                     'HONDA', 'NISSAN', 'HYUNDAI', 'SSANGYONG',\n",
        "                     'MAZDA', 'TATAMOTORS', 'CHEVROLET', 'SKODA',\n",
        "                     'MITSUBISHI', 'GMC', 'FORD', 'TOYOTA', 'CHRYSLER', 'RENAULT',\n",
        "                     'DAEWOO', 'DAIHATSU', 'DATSUN', 'OPEL', 'VAUXHALL', 'PROTON', 'ISUZU',\n",
        "                     'SMART', 'SAAB', 'PERODUA', 'HOLDEN', 'DACIA', 'NIO', 'QOROS',\n",
        "                     'SCION', 'VOLKSWAGEN', 'BUICK', 'SUBARU', 'VOLVO',\n",
        "                     'CUPRA', 'MINI', 'PEUGEOT', 'JEEP', 'DODGE']\n",
        "\n",
        "# Using loc to update the 'class' column for mass_market_class\n",
        "merged_df.loc[merged_df['class'].isin(mass_market_class), 'class'] = 'MASS MARKET'\n",
        "\n",
        "other_class = ['CATERHAM', 'DeLorean', 'OLDSMOBILE', 'SATURN', 'PONTIAC',\n",
        "               'LANCIA', 'AC', 'BRISTOL', 'LADA',\n",
        "               'MERCURY', 'MG', 'MORGAN', 'RAMTrucks']\n",
        "\n",
        "# Using ~ to filter out rows in the 'other' class\n",
        "merged_df = merged_df[~merged_df['class'].isin(other_class)]\n"
      ]
    },
    {
      "cell_type": "markdown",
      "metadata": {
        "id": "efZriR4Wy9C_"
      },
      "source": [
        "The 'other' category was removed"
      ]
    },
    {
      "cell_type": "code",
      "execution_count": 31,
      "metadata": {
        "colab": {
          "base_uri": "https://localhost:8080/"
        },
        "id": "pdsEKx6oTNyd",
        "outputId": "7bb10e80-1b6f-4ee1-e678-07372d1d3111"
      },
      "outputs": [
        {
          "data": {
            "text/plain": [
              "(150963, 3)"
            ]
          },
          "execution_count": 31,
          "metadata": {},
          "output_type": "execute_result"
        }
      ],
      "source": [
        "merged_df.shape"
      ]
    },
    {
      "cell_type": "code",
      "execution_count": 32,
      "metadata": {
        "colab": {
          "base_uri": "https://localhost:8080/",
          "height": 423
        },
        "id": "K2GJu6K1dzNd",
        "outputId": "4c886c41-523c-4444-e7f8-25d9a1a31932"
      },
      "outputs": [
        {
          "data": {
            "text/html": [
              "\n",
              "  <div id=\"df-6b048b6d-0308-47a8-8e8f-898b70516e7e\" class=\"colab-df-container\">\n",
              "    <div>\n",
              "<style scoped>\n",
              "    .dataframe tbody tr th:only-of-type {\n",
              "        vertical-align: middle;\n",
              "    }\n",
              "\n",
              "    .dataframe tbody tr th {\n",
              "        vertical-align: top;\n",
              "    }\n",
              "\n",
              "    .dataframe thead th {\n",
              "        text-align: right;\n",
              "    }\n",
              "</style>\n",
              "<table border=\"1\" class=\"dataframe\">\n",
              "  <thead>\n",
              "    <tr style=\"text-align: right;\">\n",
              "      <th></th>\n",
              "      <th>image_url</th>\n",
              "      <th>brand</th>\n",
              "      <th>class</th>\n",
              "    </tr>\n",
              "  </thead>\n",
              "  <tbody>\n",
              "    <tr>\n",
              "      <th>0</th>\n",
              "      <td>/content/train/AUDI_S6_Avant_2019Present/AUDI-...</td>\n",
              "      <td>AUDI</td>\n",
              "      <td>LUXURY</td>\n",
              "    </tr>\n",
              "    <tr>\n",
              "      <th>1</th>\n",
              "      <td>/content/train/AUDI_S6_Avant_2019Present/AUDI-...</td>\n",
              "      <td>AUDI</td>\n",
              "      <td>LUXURY</td>\n",
              "    </tr>\n",
              "    <tr>\n",
              "      <th>2</th>\n",
              "      <td>/content/train/AUDI_S6_Avant_2019Present/AUDI-...</td>\n",
              "      <td>AUDI</td>\n",
              "      <td>LUXURY</td>\n",
              "    </tr>\n",
              "    <tr>\n",
              "      <th>3</th>\n",
              "      <td>/content/train/AUDI_S6_Avant_2019Present/AUDI-...</td>\n",
              "      <td>AUDI</td>\n",
              "      <td>LUXURY</td>\n",
              "    </tr>\n",
              "    <tr>\n",
              "      <th>4</th>\n",
              "      <td>/content/train/AUDI_S6_Avant_2019Present/AUDI-...</td>\n",
              "      <td>AUDI</td>\n",
              "      <td>LUXURY</td>\n",
              "    </tr>\n",
              "    <tr>\n",
              "      <th>...</th>\n",
              "      <td>...</td>\n",
              "      <td>...</td>\n",
              "      <td>...</td>\n",
              "    </tr>\n",
              "    <tr>\n",
              "      <th>152784</th>\n",
              "      <td>/content/train/VOLVO_XC70_V70XC_20002004/VOLVO...</td>\n",
              "      <td>VOLVO</td>\n",
              "      <td>MASS MARKET</td>\n",
              "    </tr>\n",
              "    <tr>\n",
              "      <th>152785</th>\n",
              "      <td>/content/train/VOLVO_XC70_V70XC_20002004/VOLVO...</td>\n",
              "      <td>VOLVO</td>\n",
              "      <td>MASS MARKET</td>\n",
              "    </tr>\n",
              "    <tr>\n",
              "      <th>152786</th>\n",
              "      <td>/content/train/VOLVO_XC70_V70XC_20002004/VOLVO...</td>\n",
              "      <td>VOLVO</td>\n",
              "      <td>MASS MARKET</td>\n",
              "    </tr>\n",
              "    <tr>\n",
              "      <th>152787</th>\n",
              "      <td>/content/train/VOLVO_XC70_V70XC_20002004/VOLVO...</td>\n",
              "      <td>VOLVO</td>\n",
              "      <td>MASS MARKET</td>\n",
              "    </tr>\n",
              "    <tr>\n",
              "      <th>152788</th>\n",
              "      <td>/content/train/VOLVO_XC70_V70XC_20002004/VOLVO...</td>\n",
              "      <td>VOLVO</td>\n",
              "      <td>MASS MARKET</td>\n",
              "    </tr>\n",
              "  </tbody>\n",
              "</table>\n",
              "<p>150963 rows × 3 columns</p>\n",
              "</div>\n",
              "    <div class=\"colab-df-buttons\">\n",
              "\n",
              "  <div class=\"colab-df-container\">\n",
              "    <button class=\"colab-df-convert\" onclick=\"convertToInteractive('df-6b048b6d-0308-47a8-8e8f-898b70516e7e')\"\n",
              "            title=\"Convert this dataframe to an interactive table.\"\n",
              "            style=\"display:none;\">\n",
              "\n",
              "  <svg xmlns=\"http://www.w3.org/2000/svg\" height=\"24px\" viewBox=\"0 -960 960 960\">\n",
              "    <path d=\"M120-120v-720h720v720H120Zm60-500h600v-160H180v160Zm220 220h160v-160H400v160Zm0 220h160v-160H400v160ZM180-400h160v-160H180v160Zm440 0h160v-160H620v160ZM180-180h160v-160H180v160Zm440 0h160v-160H620v160Z\"/>\n",
              "  </svg>\n",
              "    </button>\n",
              "\n",
              "  <style>\n",
              "    .colab-df-container {\n",
              "      display:flex;\n",
              "      gap: 12px;\n",
              "    }\n",
              "\n",
              "    .colab-df-convert {\n",
              "      background-color: #E8F0FE;\n",
              "      border: none;\n",
              "      border-radius: 50%;\n",
              "      cursor: pointer;\n",
              "      display: none;\n",
              "      fill: #1967D2;\n",
              "      height: 32px;\n",
              "      padding: 0 0 0 0;\n",
              "      width: 32px;\n",
              "    }\n",
              "\n",
              "    .colab-df-convert:hover {\n",
              "      background-color: #E2EBFA;\n",
              "      box-shadow: 0px 1px 2px rgba(60, 64, 67, 0.3), 0px 1px 3px 1px rgba(60, 64, 67, 0.15);\n",
              "      fill: #174EA6;\n",
              "    }\n",
              "\n",
              "    .colab-df-buttons div {\n",
              "      margin-bottom: 4px;\n",
              "    }\n",
              "\n",
              "    [theme=dark] .colab-df-convert {\n",
              "      background-color: #3B4455;\n",
              "      fill: #D2E3FC;\n",
              "    }\n",
              "\n",
              "    [theme=dark] .colab-df-convert:hover {\n",
              "      background-color: #434B5C;\n",
              "      box-shadow: 0px 1px 3px 1px rgba(0, 0, 0, 0.15);\n",
              "      filter: drop-shadow(0px 1px 2px rgba(0, 0, 0, 0.3));\n",
              "      fill: #FFFFFF;\n",
              "    }\n",
              "  </style>\n",
              "\n",
              "    <script>\n",
              "      const buttonEl =\n",
              "        document.querySelector('#df-6b048b6d-0308-47a8-8e8f-898b70516e7e button.colab-df-convert');\n",
              "      buttonEl.style.display =\n",
              "        google.colab.kernel.accessAllowed ? 'block' : 'none';\n",
              "\n",
              "      async function convertToInteractive(key) {\n",
              "        const element = document.querySelector('#df-6b048b6d-0308-47a8-8e8f-898b70516e7e');\n",
              "        const dataTable =\n",
              "          await google.colab.kernel.invokeFunction('convertToInteractive',\n",
              "                                                    [key], {});\n",
              "        if (!dataTable) return;\n",
              "\n",
              "        const docLinkHtml = 'Like what you see? Visit the ' +\n",
              "          '<a target=\"_blank\" href=https://colab.research.google.com/notebooks/data_table.ipynb>data table notebook</a>'\n",
              "          + ' to learn more about interactive tables.';\n",
              "        element.innerHTML = '';\n",
              "        dataTable['output_type'] = 'display_data';\n",
              "        await google.colab.output.renderOutput(dataTable, element);\n",
              "        const docLink = document.createElement('div');\n",
              "        docLink.innerHTML = docLinkHtml;\n",
              "        element.appendChild(docLink);\n",
              "      }\n",
              "    </script>\n",
              "  </div>\n",
              "\n",
              "\n",
              "<div id=\"df-cc564d47-5007-44da-beea-6901675ed3de\">\n",
              "  <button class=\"colab-df-quickchart\" onclick=\"quickchart('df-cc564d47-5007-44da-beea-6901675ed3de')\"\n",
              "            title=\"Suggest charts\"\n",
              "            style=\"display:none;\">\n",
              "\n",
              "<svg xmlns=\"http://www.w3.org/2000/svg\" height=\"24px\"viewBox=\"0 0 24 24\"\n",
              "     width=\"24px\">\n",
              "    <g>\n",
              "        <path d=\"M19 3H5c-1.1 0-2 .9-2 2v14c0 1.1.9 2 2 2h14c1.1 0 2-.9 2-2V5c0-1.1-.9-2-2-2zM9 17H7v-7h2v7zm4 0h-2V7h2v10zm4 0h-2v-4h2v4z\"/>\n",
              "    </g>\n",
              "</svg>\n",
              "  </button>\n",
              "\n",
              "<style>\n",
              "  .colab-df-quickchart {\n",
              "      --bg-color: #E8F0FE;\n",
              "      --fill-color: #1967D2;\n",
              "      --hover-bg-color: #E2EBFA;\n",
              "      --hover-fill-color: #174EA6;\n",
              "      --disabled-fill-color: #AAA;\n",
              "      --disabled-bg-color: #DDD;\n",
              "  }\n",
              "\n",
              "  [theme=dark] .colab-df-quickchart {\n",
              "      --bg-color: #3B4455;\n",
              "      --fill-color: #D2E3FC;\n",
              "      --hover-bg-color: #434B5C;\n",
              "      --hover-fill-color: #FFFFFF;\n",
              "      --disabled-bg-color: #3B4455;\n",
              "      --disabled-fill-color: #666;\n",
              "  }\n",
              "\n",
              "  .colab-df-quickchart {\n",
              "    background-color: var(--bg-color);\n",
              "    border: none;\n",
              "    border-radius: 50%;\n",
              "    cursor: pointer;\n",
              "    display: none;\n",
              "    fill: var(--fill-color);\n",
              "    height: 32px;\n",
              "    padding: 0;\n",
              "    width: 32px;\n",
              "  }\n",
              "\n",
              "  .colab-df-quickchart:hover {\n",
              "    background-color: var(--hover-bg-color);\n",
              "    box-shadow: 0 1px 2px rgba(60, 64, 67, 0.3), 0 1px 3px 1px rgba(60, 64, 67, 0.15);\n",
              "    fill: var(--button-hover-fill-color);\n",
              "  }\n",
              "\n",
              "  .colab-df-quickchart-complete:disabled,\n",
              "  .colab-df-quickchart-complete:disabled:hover {\n",
              "    background-color: var(--disabled-bg-color);\n",
              "    fill: var(--disabled-fill-color);\n",
              "    box-shadow: none;\n",
              "  }\n",
              "\n",
              "  .colab-df-spinner {\n",
              "    border: 2px solid var(--fill-color);\n",
              "    border-color: transparent;\n",
              "    border-bottom-color: var(--fill-color);\n",
              "    animation:\n",
              "      spin 1s steps(1) infinite;\n",
              "  }\n",
              "\n",
              "  @keyframes spin {\n",
              "    0% {\n",
              "      border-color: transparent;\n",
              "      border-bottom-color: var(--fill-color);\n",
              "      border-left-color: var(--fill-color);\n",
              "    }\n",
              "    20% {\n",
              "      border-color: transparent;\n",
              "      border-left-color: var(--fill-color);\n",
              "      border-top-color: var(--fill-color);\n",
              "    }\n",
              "    30% {\n",
              "      border-color: transparent;\n",
              "      border-left-color: var(--fill-color);\n",
              "      border-top-color: var(--fill-color);\n",
              "      border-right-color: var(--fill-color);\n",
              "    }\n",
              "    40% {\n",
              "      border-color: transparent;\n",
              "      border-right-color: var(--fill-color);\n",
              "      border-top-color: var(--fill-color);\n",
              "    }\n",
              "    60% {\n",
              "      border-color: transparent;\n",
              "      border-right-color: var(--fill-color);\n",
              "    }\n",
              "    80% {\n",
              "      border-color: transparent;\n",
              "      border-right-color: var(--fill-color);\n",
              "      border-bottom-color: var(--fill-color);\n",
              "    }\n",
              "    90% {\n",
              "      border-color: transparent;\n",
              "      border-bottom-color: var(--fill-color);\n",
              "    }\n",
              "  }\n",
              "</style>\n",
              "\n",
              "  <script>\n",
              "    async function quickchart(key) {\n",
              "      const quickchartButtonEl =\n",
              "        document.querySelector('#' + key + ' button');\n",
              "      quickchartButtonEl.disabled = true;  // To prevent multiple clicks.\n",
              "      quickchartButtonEl.classList.add('colab-df-spinner');\n",
              "      try {\n",
              "        const charts = await google.colab.kernel.invokeFunction(\n",
              "            'suggestCharts', [key], {});\n",
              "      } catch (error) {\n",
              "        console.error('Error during call to suggestCharts:', error);\n",
              "      }\n",
              "      quickchartButtonEl.classList.remove('colab-df-spinner');\n",
              "      quickchartButtonEl.classList.add('colab-df-quickchart-complete');\n",
              "    }\n",
              "    (() => {\n",
              "      let quickchartButtonEl =\n",
              "        document.querySelector('#df-cc564d47-5007-44da-beea-6901675ed3de button');\n",
              "      quickchartButtonEl.style.display =\n",
              "        google.colab.kernel.accessAllowed ? 'block' : 'none';\n",
              "    })();\n",
              "  </script>\n",
              "</div>\n",
              "    </div>\n",
              "  </div>\n"
            ],
            "text/plain": [
              "                                                image_url  brand        class\n",
              "0       /content/train/AUDI_S6_Avant_2019Present/AUDI-...   AUDI       LUXURY\n",
              "1       /content/train/AUDI_S6_Avant_2019Present/AUDI-...   AUDI       LUXURY\n",
              "2       /content/train/AUDI_S6_Avant_2019Present/AUDI-...   AUDI       LUXURY\n",
              "3       /content/train/AUDI_S6_Avant_2019Present/AUDI-...   AUDI       LUXURY\n",
              "4       /content/train/AUDI_S6_Avant_2019Present/AUDI-...   AUDI       LUXURY\n",
              "...                                                   ...    ...          ...\n",
              "152784  /content/train/VOLVO_XC70_V70XC_20002004/VOLVO...  VOLVO  MASS MARKET\n",
              "152785  /content/train/VOLVO_XC70_V70XC_20002004/VOLVO...  VOLVO  MASS MARKET\n",
              "152786  /content/train/VOLVO_XC70_V70XC_20002004/VOLVO...  VOLVO  MASS MARKET\n",
              "152787  /content/train/VOLVO_XC70_V70XC_20002004/VOLVO...  VOLVO  MASS MARKET\n",
              "152788  /content/train/VOLVO_XC70_V70XC_20002004/VOLVO...  VOLVO  MASS MARKET\n",
              "\n",
              "[150963 rows x 3 columns]"
            ]
          },
          "execution_count": 32,
          "metadata": {},
          "output_type": "execute_result"
        }
      ],
      "source": [
        "merged_df"
      ]
    },
    {
      "cell_type": "markdown",
      "metadata": {
        "id": "PTa4SLuqXczF"
      },
      "source": [
        "The dataframe now has the LUXURY and MASSMARKET classes"
      ]
    },
    {
      "cell_type": "markdown",
      "metadata": {
        "id": "KahA-9IrC_wq"
      },
      "source": [
        "### Encoding Target Column\n",
        "I'll be manually encoding the target column"
      ]
    },
    {
      "cell_type": "code",
      "execution_count": 33,
      "metadata": {
        "colab": {
          "base_uri": "https://localhost:8080/"
        },
        "id": "L9IkZg300Tqy",
        "outputId": "cde035af-c92e-4e96-f1db-3cab3f0ce6d6"
      },
      "outputs": [
        {
          "name": "stderr",
          "output_type": "stream",
          "text": [
            "<ipython-input-33-b369e714dcc2>:3: SettingWithCopyWarning: \n",
            "A value is trying to be set on a copy of a slice from a DataFrame.\n",
            "Try using .loc[row_indexer,col_indexer] = value instead\n",
            "\n",
            "See the caveats in the documentation: https://pandas.pydata.org/pandas-docs/stable/user_guide/indexing.html#returning-a-view-versus-a-copy\n",
            "  merged_df['class_encoded'] = merged_df['class'].map(class_mapping)\n"
          ]
        }
      ],
      "source": [
        "# Manually encoding\n",
        "class_mapping = {'LUXURY': 1, 'MASS MARKET': 0}\n",
        "merged_df['class_encoded'] = merged_df['class'].map(class_mapping)"
      ]
    },
    {
      "cell_type": "code",
      "execution_count": 34,
      "metadata": {
        "colab": {
          "base_uri": "https://localhost:8080/",
          "height": 206
        },
        "id": "1csIJ3Kb0WmG",
        "outputId": "18471866-854c-48b3-e487-20cc4e94f88e"
      },
      "outputs": [
        {
          "data": {
            "text/html": [
              "\n",
              "  <div id=\"df-9425de67-e50c-4ca3-bd16-43ef370bf23f\" class=\"colab-df-container\">\n",
              "    <div>\n",
              "<style scoped>\n",
              "    .dataframe tbody tr th:only-of-type {\n",
              "        vertical-align: middle;\n",
              "    }\n",
              "\n",
              "    .dataframe tbody tr th {\n",
              "        vertical-align: top;\n",
              "    }\n",
              "\n",
              "    .dataframe thead th {\n",
              "        text-align: right;\n",
              "    }\n",
              "</style>\n",
              "<table border=\"1\" class=\"dataframe\">\n",
              "  <thead>\n",
              "    <tr style=\"text-align: right;\">\n",
              "      <th></th>\n",
              "      <th>image_url</th>\n",
              "      <th>brand</th>\n",
              "      <th>class</th>\n",
              "      <th>class_encoded</th>\n",
              "    </tr>\n",
              "  </thead>\n",
              "  <tbody>\n",
              "    <tr>\n",
              "      <th>0</th>\n",
              "      <td>/content/train/AUDI_S6_Avant_2019Present/AUDI-...</td>\n",
              "      <td>AUDI</td>\n",
              "      <td>LUXURY</td>\n",
              "      <td>1.0</td>\n",
              "    </tr>\n",
              "    <tr>\n",
              "      <th>1</th>\n",
              "      <td>/content/train/AUDI_S6_Avant_2019Present/AUDI-...</td>\n",
              "      <td>AUDI</td>\n",
              "      <td>LUXURY</td>\n",
              "      <td>1.0</td>\n",
              "    </tr>\n",
              "    <tr>\n",
              "      <th>2</th>\n",
              "      <td>/content/train/AUDI_S6_Avant_2019Present/AUDI-...</td>\n",
              "      <td>AUDI</td>\n",
              "      <td>LUXURY</td>\n",
              "      <td>1.0</td>\n",
              "    </tr>\n",
              "    <tr>\n",
              "      <th>3</th>\n",
              "      <td>/content/train/AUDI_S6_Avant_2019Present/AUDI-...</td>\n",
              "      <td>AUDI</td>\n",
              "      <td>LUXURY</td>\n",
              "      <td>1.0</td>\n",
              "    </tr>\n",
              "    <tr>\n",
              "      <th>4</th>\n",
              "      <td>/content/train/AUDI_S6_Avant_2019Present/AUDI-...</td>\n",
              "      <td>AUDI</td>\n",
              "      <td>LUXURY</td>\n",
              "      <td>1.0</td>\n",
              "    </tr>\n",
              "  </tbody>\n",
              "</table>\n",
              "</div>\n",
              "    <div class=\"colab-df-buttons\">\n",
              "\n",
              "  <div class=\"colab-df-container\">\n",
              "    <button class=\"colab-df-convert\" onclick=\"convertToInteractive('df-9425de67-e50c-4ca3-bd16-43ef370bf23f')\"\n",
              "            title=\"Convert this dataframe to an interactive table.\"\n",
              "            style=\"display:none;\">\n",
              "\n",
              "  <svg xmlns=\"http://www.w3.org/2000/svg\" height=\"24px\" viewBox=\"0 -960 960 960\">\n",
              "    <path d=\"M120-120v-720h720v720H120Zm60-500h600v-160H180v160Zm220 220h160v-160H400v160Zm0 220h160v-160H400v160ZM180-400h160v-160H180v160Zm440 0h160v-160H620v160ZM180-180h160v-160H180v160Zm440 0h160v-160H620v160Z\"/>\n",
              "  </svg>\n",
              "    </button>\n",
              "\n",
              "  <style>\n",
              "    .colab-df-container {\n",
              "      display:flex;\n",
              "      gap: 12px;\n",
              "    }\n",
              "\n",
              "    .colab-df-convert {\n",
              "      background-color: #E8F0FE;\n",
              "      border: none;\n",
              "      border-radius: 50%;\n",
              "      cursor: pointer;\n",
              "      display: none;\n",
              "      fill: #1967D2;\n",
              "      height: 32px;\n",
              "      padding: 0 0 0 0;\n",
              "      width: 32px;\n",
              "    }\n",
              "\n",
              "    .colab-df-convert:hover {\n",
              "      background-color: #E2EBFA;\n",
              "      box-shadow: 0px 1px 2px rgba(60, 64, 67, 0.3), 0px 1px 3px 1px rgba(60, 64, 67, 0.15);\n",
              "      fill: #174EA6;\n",
              "    }\n",
              "\n",
              "    .colab-df-buttons div {\n",
              "      margin-bottom: 4px;\n",
              "    }\n",
              "\n",
              "    [theme=dark] .colab-df-convert {\n",
              "      background-color: #3B4455;\n",
              "      fill: #D2E3FC;\n",
              "    }\n",
              "\n",
              "    [theme=dark] .colab-df-convert:hover {\n",
              "      background-color: #434B5C;\n",
              "      box-shadow: 0px 1px 3px 1px rgba(0, 0, 0, 0.15);\n",
              "      filter: drop-shadow(0px 1px 2px rgba(0, 0, 0, 0.3));\n",
              "      fill: #FFFFFF;\n",
              "    }\n",
              "  </style>\n",
              "\n",
              "    <script>\n",
              "      const buttonEl =\n",
              "        document.querySelector('#df-9425de67-e50c-4ca3-bd16-43ef370bf23f button.colab-df-convert');\n",
              "      buttonEl.style.display =\n",
              "        google.colab.kernel.accessAllowed ? 'block' : 'none';\n",
              "\n",
              "      async function convertToInteractive(key) {\n",
              "        const element = document.querySelector('#df-9425de67-e50c-4ca3-bd16-43ef370bf23f');\n",
              "        const dataTable =\n",
              "          await google.colab.kernel.invokeFunction('convertToInteractive',\n",
              "                                                    [key], {});\n",
              "        if (!dataTable) return;\n",
              "\n",
              "        const docLinkHtml = 'Like what you see? Visit the ' +\n",
              "          '<a target=\"_blank\" href=https://colab.research.google.com/notebooks/data_table.ipynb>data table notebook</a>'\n",
              "          + ' to learn more about interactive tables.';\n",
              "        element.innerHTML = '';\n",
              "        dataTable['output_type'] = 'display_data';\n",
              "        await google.colab.output.renderOutput(dataTable, element);\n",
              "        const docLink = document.createElement('div');\n",
              "        docLink.innerHTML = docLinkHtml;\n",
              "        element.appendChild(docLink);\n",
              "      }\n",
              "    </script>\n",
              "  </div>\n",
              "\n",
              "\n",
              "<div id=\"df-4fc3c1cc-e11f-431b-ba37-01b0e9b4b680\">\n",
              "  <button class=\"colab-df-quickchart\" onclick=\"quickchart('df-4fc3c1cc-e11f-431b-ba37-01b0e9b4b680')\"\n",
              "            title=\"Suggest charts\"\n",
              "            style=\"display:none;\">\n",
              "\n",
              "<svg xmlns=\"http://www.w3.org/2000/svg\" height=\"24px\"viewBox=\"0 0 24 24\"\n",
              "     width=\"24px\">\n",
              "    <g>\n",
              "        <path d=\"M19 3H5c-1.1 0-2 .9-2 2v14c0 1.1.9 2 2 2h14c1.1 0 2-.9 2-2V5c0-1.1-.9-2-2-2zM9 17H7v-7h2v7zm4 0h-2V7h2v10zm4 0h-2v-4h2v4z\"/>\n",
              "    </g>\n",
              "</svg>\n",
              "  </button>\n",
              "\n",
              "<style>\n",
              "  .colab-df-quickchart {\n",
              "      --bg-color: #E8F0FE;\n",
              "      --fill-color: #1967D2;\n",
              "      --hover-bg-color: #E2EBFA;\n",
              "      --hover-fill-color: #174EA6;\n",
              "      --disabled-fill-color: #AAA;\n",
              "      --disabled-bg-color: #DDD;\n",
              "  }\n",
              "\n",
              "  [theme=dark] .colab-df-quickchart {\n",
              "      --bg-color: #3B4455;\n",
              "      --fill-color: #D2E3FC;\n",
              "      --hover-bg-color: #434B5C;\n",
              "      --hover-fill-color: #FFFFFF;\n",
              "      --disabled-bg-color: #3B4455;\n",
              "      --disabled-fill-color: #666;\n",
              "  }\n",
              "\n",
              "  .colab-df-quickchart {\n",
              "    background-color: var(--bg-color);\n",
              "    border: none;\n",
              "    border-radius: 50%;\n",
              "    cursor: pointer;\n",
              "    display: none;\n",
              "    fill: var(--fill-color);\n",
              "    height: 32px;\n",
              "    padding: 0;\n",
              "    width: 32px;\n",
              "  }\n",
              "\n",
              "  .colab-df-quickchart:hover {\n",
              "    background-color: var(--hover-bg-color);\n",
              "    box-shadow: 0 1px 2px rgba(60, 64, 67, 0.3), 0 1px 3px 1px rgba(60, 64, 67, 0.15);\n",
              "    fill: var(--button-hover-fill-color);\n",
              "  }\n",
              "\n",
              "  .colab-df-quickchart-complete:disabled,\n",
              "  .colab-df-quickchart-complete:disabled:hover {\n",
              "    background-color: var(--disabled-bg-color);\n",
              "    fill: var(--disabled-fill-color);\n",
              "    box-shadow: none;\n",
              "  }\n",
              "\n",
              "  .colab-df-spinner {\n",
              "    border: 2px solid var(--fill-color);\n",
              "    border-color: transparent;\n",
              "    border-bottom-color: var(--fill-color);\n",
              "    animation:\n",
              "      spin 1s steps(1) infinite;\n",
              "  }\n",
              "\n",
              "  @keyframes spin {\n",
              "    0% {\n",
              "      border-color: transparent;\n",
              "      border-bottom-color: var(--fill-color);\n",
              "      border-left-color: var(--fill-color);\n",
              "    }\n",
              "    20% {\n",
              "      border-color: transparent;\n",
              "      border-left-color: var(--fill-color);\n",
              "      border-top-color: var(--fill-color);\n",
              "    }\n",
              "    30% {\n",
              "      border-color: transparent;\n",
              "      border-left-color: var(--fill-color);\n",
              "      border-top-color: var(--fill-color);\n",
              "      border-right-color: var(--fill-color);\n",
              "    }\n",
              "    40% {\n",
              "      border-color: transparent;\n",
              "      border-right-color: var(--fill-color);\n",
              "      border-top-color: var(--fill-color);\n",
              "    }\n",
              "    60% {\n",
              "      border-color: transparent;\n",
              "      border-right-color: var(--fill-color);\n",
              "    }\n",
              "    80% {\n",
              "      border-color: transparent;\n",
              "      border-right-color: var(--fill-color);\n",
              "      border-bottom-color: var(--fill-color);\n",
              "    }\n",
              "    90% {\n",
              "      border-color: transparent;\n",
              "      border-bottom-color: var(--fill-color);\n",
              "    }\n",
              "  }\n",
              "</style>\n",
              "\n",
              "  <script>\n",
              "    async function quickchart(key) {\n",
              "      const quickchartButtonEl =\n",
              "        document.querySelector('#' + key + ' button');\n",
              "      quickchartButtonEl.disabled = true;  // To prevent multiple clicks.\n",
              "      quickchartButtonEl.classList.add('colab-df-spinner');\n",
              "      try {\n",
              "        const charts = await google.colab.kernel.invokeFunction(\n",
              "            'suggestCharts', [key], {});\n",
              "      } catch (error) {\n",
              "        console.error('Error during call to suggestCharts:', error);\n",
              "      }\n",
              "      quickchartButtonEl.classList.remove('colab-df-spinner');\n",
              "      quickchartButtonEl.classList.add('colab-df-quickchart-complete');\n",
              "    }\n",
              "    (() => {\n",
              "      let quickchartButtonEl =\n",
              "        document.querySelector('#df-4fc3c1cc-e11f-431b-ba37-01b0e9b4b680 button');\n",
              "      quickchartButtonEl.style.display =\n",
              "        google.colab.kernel.accessAllowed ? 'block' : 'none';\n",
              "    })();\n",
              "  </script>\n",
              "</div>\n",
              "    </div>\n",
              "  </div>\n"
            ],
            "text/plain": [
              "                                           image_url brand   class  \\\n",
              "0  /content/train/AUDI_S6_Avant_2019Present/AUDI-...  AUDI  LUXURY   \n",
              "1  /content/train/AUDI_S6_Avant_2019Present/AUDI-...  AUDI  LUXURY   \n",
              "2  /content/train/AUDI_S6_Avant_2019Present/AUDI-...  AUDI  LUXURY   \n",
              "3  /content/train/AUDI_S6_Avant_2019Present/AUDI-...  AUDI  LUXURY   \n",
              "4  /content/train/AUDI_S6_Avant_2019Present/AUDI-...  AUDI  LUXURY   \n",
              "\n",
              "   class_encoded  \n",
              "0            1.0  \n",
              "1            1.0  \n",
              "2            1.0  \n",
              "3            1.0  \n",
              "4            1.0  "
            ]
          },
          "execution_count": 34,
          "metadata": {},
          "output_type": "execute_result"
        }
      ],
      "source": [
        "merged_df.head()"
      ]
    },
    {
      "cell_type": "markdown",
      "metadata": {
        "id": "VifkGgARDEWf"
      },
      "source": [
        "### Dropping NaNs"
      ]
    },
    {
      "cell_type": "code",
      "execution_count": 35,
      "metadata": {
        "id": "fcSX1hroU7fp"
      },
      "outputs": [],
      "source": [
        "# Drop rows with NaN values in the 'class_encoded' column\n",
        "merged_df = merged_df.dropna()\n"
      ]
    },
    {
      "cell_type": "code",
      "execution_count": 36,
      "metadata": {
        "colab": {
          "base_uri": "https://localhost:8080/"
        },
        "id": "w5-Y2UQsVEdP",
        "outputId": "db38f2ee-b62f-41fa-a1f9-024f8560682e"
      },
      "outputs": [
        {
          "data": {
            "text/plain": [
              "(150912, 4)"
            ]
          },
          "execution_count": 36,
          "metadata": {},
          "output_type": "execute_result"
        }
      ],
      "source": [
        "merged_df.shape"
      ]
    },
    {
      "cell_type": "markdown",
      "metadata": {
        "id": "dsF8V3zfX2PR"
      },
      "source": [
        "### Converting Encoded Column to Int"
      ]
    },
    {
      "cell_type": "code",
      "execution_count": 37,
      "metadata": {
        "colab": {
          "base_uri": "https://localhost:8080/"
        },
        "id": "fdUSxJgGUEOP",
        "outputId": "6c97f7f2-8541-4f35-ca2b-5204d34d470d"
      },
      "outputs": [
        {
          "name": "stderr",
          "output_type": "stream",
          "text": [
            "<ipython-input-37-2cf2a90e58c1>:1: SettingWithCopyWarning: \n",
            "A value is trying to be set on a copy of a slice from a DataFrame.\n",
            "Try using .loc[row_indexer,col_indexer] = value instead\n",
            "\n",
            "See the caveats in the documentation: https://pandas.pydata.org/pandas-docs/stable/user_guide/indexing.html#returning-a-view-versus-a-copy\n",
            "  merged_df['class_encoded'] = merged_df['class_encoded'].astype(int)\n"
          ]
        }
      ],
      "source": [
        "merged_df['class_encoded'] = merged_df['class_encoded'].astype(int)\n"
      ]
    },
    {
      "cell_type": "markdown",
      "metadata": {
        "id": "-Rf1EOZUDMOI"
      },
      "source": [
        "### Viewing Class Distributions\n",
        "I'll be doing this using a bar chart of percentages"
      ]
    },
    {
      "cell_type": "code",
      "execution_count": 38,
      "metadata": {
        "colab": {
          "base_uri": "https://localhost:8080/",
          "height": 558
        },
        "id": "qYc-I7bfJpjd",
        "outputId": "f308f3ad-d5a1-437d-8fd7-9b4ed655a83a"
      },
      "outputs": [
        {
          "data": {
            "image/png": "[encoded data removed]",
            "text/plain": [
              "<Figure size 640x480 with 1 Axes>"
            ]
          },
          "metadata": {},
          "output_type": "display_data"
        }
      ],
      "source": [
        "import pandas as pd\n",
        "import matplotlib.pyplot as plt\n",
        "\n",
        "# Getting the class percentages\n",
        "class_percentages = merged_df['class'].value_counts(normalize=True) * 100\n",
        "\n",
        "# Plotting\n",
        "class_percentages.plot(kind='bar', color='skyblue', edgecolor='black')\n",
        "\n",
        "plt.xlabel('Class')\n",
        "plt.ylabel('Percentage')\n",
        "plt.title('Class Percentages')\n",
        "\n",
        "# Displaying the percentage values on top of the bars\n",
        "for i, v in enumerate(class_percentages):\n",
        "    plt.text(i, v + 1, f'{v:.2f}%', ha='center', va='bottom')\n",
        "\n",
        "# Show the plot\n",
        "plt.show()\n"
      ]
    },
    {
      "cell_type": "markdown",
      "metadata": {
        "id": "vHO0MOM9nk-i"
      },
      "source": [
        "The classes exibhit a 45 -55% distribution ratio. The data is slightly imbalanced. However, there is no need to use over-/under-sampling , since the difference is not that significant (Shaw, 2021).\n",
        "\n",
        "Shaw, Sayan. (2021). Re: What is the exact data sample ratio of every classes to declare a dataset suffering from a slight/severe class imbalance problem?. Retrieved from: https://www.researchgate.net/post/What_is_the_exact_data_sample_ratio_of_every_classes_to_declare_a_dataset_suffering_from_a_slight_severe_class_imbalance_problem/6107f144e7e50b12cc213ce3/citation/download."
      ]
    },
    {
      "cell_type": "markdown",
      "metadata": {
        "id": "3pnIwZ0HDR6n"
      },
      "source": [
        "# Subsetting the Data\n",
        "The dataset is quite large and tends to cause RAM to crash. Thus, I will be subsetting the data by 90%. to 10% of its original size"
      ]
    },
    {
      "cell_type": "code",
      "execution_count": 39,
      "metadata": {
        "colab": {
          "base_uri": "https://localhost:8080/",
          "height": 206
        },
        "id": "ixmwDrgtx7l7",
        "outputId": "6f8da060-065a-4bd0-fabc-25c11075a7f1"
      },
      "outputs": [
        {
          "data": {
            "text/html": [
              "\n",
              "  <div id=\"df-81f202ea-362f-401d-ba6b-ac23786517d9\" class=\"colab-df-container\">\n",
              "    <div>\n",
              "<style scoped>\n",
              "    .dataframe tbody tr th:only-of-type {\n",
              "        vertical-align: middle;\n",
              "    }\n",
              "\n",
              "    .dataframe tbody tr th {\n",
              "        vertical-align: top;\n",
              "    }\n",
              "\n",
              "    .dataframe thead th {\n",
              "        text-align: right;\n",
              "    }\n",
              "</style>\n",
              "<table border=\"1\" class=\"dataframe\">\n",
              "  <thead>\n",
              "    <tr style=\"text-align: right;\">\n",
              "      <th></th>\n",
              "      <th>image_url</th>\n",
              "      <th>brand</th>\n",
              "      <th>class</th>\n",
              "      <th>class_encoded</th>\n",
              "    </tr>\n",
              "  </thead>\n",
              "  <tbody>\n",
              "    <tr>\n",
              "      <th>50974</th>\n",
              "      <td>/content/train/KIA_Sportage_HEV__2022Present/k...</td>\n",
              "      <td>KIA</td>\n",
              "      <td>MASS MARKET</td>\n",
              "      <td>0</td>\n",
              "    </tr>\n",
              "    <tr>\n",
              "      <th>33149</th>\n",
              "      <td>/content/train/LEXUS_GS_20002005/LEXUS-GS-3394...</td>\n",
              "      <td>LEXUS</td>\n",
              "      <td>LUXURY</td>\n",
              "      <td>1</td>\n",
              "    </tr>\n",
              "    <tr>\n",
              "      <th>20884</th>\n",
              "      <td>/content/train/MITSUBISHI_Outlander_2021Presen...</td>\n",
              "      <td>MITSUBISHI</td>\n",
              "      <td>MASS MARKET</td>\n",
              "      <td>0</td>\n",
              "    </tr>\n",
              "    <tr>\n",
              "      <th>21511</th>\n",
              "      <td>/content/train/KIA_Optima_Sportswagon_20162018...</td>\n",
              "      <td>KIA</td>\n",
              "      <td>MASS MARKET</td>\n",
              "      <td>0</td>\n",
              "    </tr>\n",
              "    <tr>\n",
              "      <th>80445</th>\n",
              "      <td>/content/train/SKODA_Karoq_2021Present/skoda-k...</td>\n",
              "      <td>SKODA</td>\n",
              "      <td>MASS MARKET</td>\n",
              "      <td>0</td>\n",
              "    </tr>\n",
              "  </tbody>\n",
              "</table>\n",
              "</div>\n",
              "    <div class=\"colab-df-buttons\">\n",
              "\n",
              "  <div class=\"colab-df-container\">\n",
              "    <button class=\"colab-df-convert\" onclick=\"convertToInteractive('df-81f202ea-362f-401d-ba6b-ac23786517d9')\"\n",
              "            title=\"Convert this dataframe to an interactive table.\"\n",
              "            style=\"display:none;\">\n",
              "\n",
              "  <svg xmlns=\"http://www.w3.org/2000/svg\" height=\"24px\" viewBox=\"0 -960 960 960\">\n",
              "    <path d=\"M120-120v-720h720v720H120Zm60-500h600v-160H180v160Zm220 220h160v-160H400v160Zm0 220h160v-160H400v160ZM180-400h160v-160H180v160Zm440 0h160v-160H620v160ZM180-180h160v-160H180v160Zm440 0h160v-160H620v160Z\"/>\n",
              "  </svg>\n",
              "    </button>\n",
              "\n",
              "  <style>\n",
              "    .colab-df-container {\n",
              "      display:flex;\n",
              "      gap: 12px;\n",
              "    }\n",
              "\n",
              "    .colab-df-convert {\n",
              "      background-color: #E8F0FE;\n",
              "      border: none;\n",
              "      border-radius: 50%;\n",
              "      cursor: pointer;\n",
              "      display: none;\n",
              "      fill: #1967D2;\n",
              "      height: 32px;\n",
              "      padding: 0 0 0 0;\n",
              "      width: 32px;\n",
              "    }\n",
              "\n",
              "    .colab-df-convert:hover {\n",
              "      background-color: #E2EBFA;\n",
              "      box-shadow: 0px 1px 2px rgba(60, 64, 67, 0.3), 0px 1px 3px 1px rgba(60, 64, 67, 0.15);\n",
              "      fill: #174EA6;\n",
              "    }\n",
              "\n",
              "    .colab-df-buttons div {\n",
              "      margin-bottom: 4px;\n",
              "    }\n",
              "\n",
              "    [theme=dark] .colab-df-convert {\n",
              "      background-color: #3B4455;\n",
              "      fill: #D2E3FC;\n",
              "    }\n",
              "\n",
              "    [theme=dark] .colab-df-convert:hover {\n",
              "      background-color: #434B5C;\n",
              "      box-shadow: 0px 1px 3px 1px rgba(0, 0, 0, 0.15);\n",
              "      filter: drop-shadow(0px 1px 2px rgba(0, 0, 0, 0.3));\n",
              "      fill: #FFFFFF;\n",
              "    }\n",
              "  </style>\n",
              "\n",
              "    <script>\n",
              "      const buttonEl =\n",
              "        document.querySelector('#df-81f202ea-362f-401d-ba6b-ac23786517d9 button.colab-df-convert');\n",
              "      buttonEl.style.display =\n",
              "        google.colab.kernel.accessAllowed ? 'block' : 'none';\n",
              "\n",
              "      async function convertToInteractive(key) {\n",
              "        const element = document.querySelector('#df-81f202ea-362f-401d-ba6b-ac23786517d9');\n",
              "        const dataTable =\n",
              "          await google.colab.kernel.invokeFunction('convertToInteractive',\n",
              "                                                    [key], {});\n",
              "        if (!dataTable) return;\n",
              "\n",
              "        const docLinkHtml = 'Like what you see? Visit the ' +\n",
              "          '<a target=\"_blank\" href=https://colab.research.google.com/notebooks/data_table.ipynb>data table notebook</a>'\n",
              "          + ' to learn more about interactive tables.';\n",
              "        element.innerHTML = '';\n",
              "        dataTable['output_type'] = 'display_data';\n",
              "        await google.colab.output.renderOutput(dataTable, element);\n",
              "        const docLink = document.createElement('div');\n",
              "        docLink.innerHTML = docLinkHtml;\n",
              "        element.appendChild(docLink);\n",
              "      }\n",
              "    </script>\n",
              "  </div>\n",
              "\n",
              "\n",
              "<div id=\"df-cf6b03e7-c4d6-498d-80ec-e8544c70ee43\">\n",
              "  <button class=\"colab-df-quickchart\" onclick=\"quickchart('df-cf6b03e7-c4d6-498d-80ec-e8544c70ee43')\"\n",
              "            title=\"Suggest charts\"\n",
              "            style=\"display:none;\">\n",
              "\n",
              "<svg xmlns=\"http://www.w3.org/2000/svg\" height=\"24px\"viewBox=\"0 0 24 24\"\n",
              "     width=\"24px\">\n",
              "    <g>\n",
              "        <path d=\"M19 3H5c-1.1 0-2 .9-2 2v14c0 1.1.9 2 2 2h14c1.1 0 2-.9 2-2V5c0-1.1-.9-2-2-2zM9 17H7v-7h2v7zm4 0h-2V7h2v10zm4 0h-2v-4h2v4z\"/>\n",
              "    </g>\n",
              "</svg>\n",
              "  </button>\n",
              "\n",
              "<style>\n",
              "  .colab-df-quickchart {\n",
              "      --bg-color: #E8F0FE;\n",
              "      --fill-color: #1967D2;\n",
              "      --hover-bg-color: #E2EBFA;\n",
              "      --hover-fill-color: #174EA6;\n",
              "      --disabled-fill-color: #AAA;\n",
              "      --disabled-bg-color: #DDD;\n",
              "  }\n",
              "\n",
              "  [theme=dark] .colab-df-quickchart {\n",
              "      --bg-color: #3B4455;\n",
              "      --fill-color: #D2E3FC;\n",
              "      --hover-bg-color: #434B5C;\n",
              "      --hover-fill-color: #FFFFFF;\n",
              "      --disabled-bg-color: #3B4455;\n",
              "      --disabled-fill-color: #666;\n",
              "  }\n",
              "\n",
              "  .colab-df-quickchart {\n",
              "    background-color: var(--bg-color);\n",
              "    border: none;\n",
              "    border-radius: 50%;\n",
              "    cursor: pointer;\n",
              "    display: none;\n",
              "    fill: var(--fill-color);\n",
              "    height: 32px;\n",
              "    padding: 0;\n",
              "    width: 32px;\n",
              "  }\n",
              "\n",
              "  .colab-df-quickchart:hover {\n",
              "    background-color: var(--hover-bg-color);\n",
              "    box-shadow: 0 1px 2px rgba(60, 64, 67, 0.3), 0 1px 3px 1px rgba(60, 64, 67, 0.15);\n",
              "    fill: var(--button-hover-fill-color);\n",
              "  }\n",
              "\n",
              "  .colab-df-quickchart-complete:disabled,\n",
              "  .colab-df-quickchart-complete:disabled:hover {\n",
              "    background-color: var(--disabled-bg-color);\n",
              "    fill: var(--disabled-fill-color);\n",
              "    box-shadow: none;\n",
              "  }\n",
              "\n",
              "  .colab-df-spinner {\n",
              "    border: 2px solid var(--fill-color);\n",
              "    border-color: transparent;\n",
              "    border-bottom-color: var(--fill-color);\n",
              "    animation:\n",
              "      spin 1s steps(1) infinite;\n",
              "  }\n",
              "\n",
              "  @keyframes spin {\n",
              "    0% {\n",
              "      border-color: transparent;\n",
              "      border-bottom-color: var(--fill-color);\n",
              "      border-left-color: var(--fill-color);\n",
              "    }\n",
              "    20% {\n",
              "      border-color: transparent;\n",
              "      border-left-color: var(--fill-color);\n",
              "      border-top-color: var(--fill-color);\n",
              "    }\n",
              "    30% {\n",
              "      border-color: transparent;\n",
              "      border-left-color: var(--fill-color);\n",
              "      border-top-color: var(--fill-color);\n",
              "      border-right-color: var(--fill-color);\n",
              "    }\n",
              "    40% {\n",
              "      border-color: transparent;\n",
              "      border-right-color: var(--fill-color);\n",
              "      border-top-color: var(--fill-color);\n",
              "    }\n",
              "    60% {\n",
              "      border-color: transparent;\n",
              "      border-right-color: var(--fill-color);\n",
              "    }\n",
              "    80% {\n",
              "      border-color: transparent;\n",
              "      border-right-color: var(--fill-color);\n",
              "      border-bottom-color: var(--fill-color);\n",
              "    }\n",
              "    90% {\n",
              "      border-color: transparent;\n",
              "      border-bottom-color: var(--fill-color);\n",
              "    }\n",
              "  }\n",
              "</style>\n",
              "\n",
              "  <script>\n",
              "    async function quickchart(key) {\n",
              "      const quickchartButtonEl =\n",
              "        document.querySelector('#' + key + ' button');\n",
              "      quickchartButtonEl.disabled = true;  // To prevent multiple clicks.\n",
              "      quickchartButtonEl.classList.add('colab-df-spinner');\n",
              "      try {\n",
              "        const charts = await google.colab.kernel.invokeFunction(\n",
              "            'suggestCharts', [key], {});\n",
              "      } catch (error) {\n",
              "        console.error('Error during call to suggestCharts:', error);\n",
              "      }\n",
              "      quickchartButtonEl.classList.remove('colab-df-spinner');\n",
              "      quickchartButtonEl.classList.add('colab-df-quickchart-complete');\n",
              "    }\n",
              "    (() => {\n",
              "      let quickchartButtonEl =\n",
              "        document.querySelector('#df-cf6b03e7-c4d6-498d-80ec-e8544c70ee43 button');\n",
              "      quickchartButtonEl.style.display =\n",
              "        google.colab.kernel.accessAllowed ? 'block' : 'none';\n",
              "    })();\n",
              "  </script>\n",
              "</div>\n",
              "    </div>\n",
              "  </div>\n"
            ],
            "text/plain": [
              "                                               image_url       brand  \\\n",
              "50974  /content/train/KIA_Sportage_HEV__2022Present/k...         KIA   \n",
              "33149  /content/train/LEXUS_GS_20002005/LEXUS-GS-3394...       LEXUS   \n",
              "20884  /content/train/MITSUBISHI_Outlander_2021Presen...  MITSUBISHI   \n",
              "21511  /content/train/KIA_Optima_Sportswagon_20162018...         KIA   \n",
              "80445  /content/train/SKODA_Karoq_2021Present/skoda-k...       SKODA   \n",
              "\n",
              "             class  class_encoded  \n",
              "50974  MASS MARKET              0  \n",
              "33149       LUXURY              1  \n",
              "20884  MASS MARKET              0  \n",
              "21511  MASS MARKET              0  \n",
              "80445  MASS MARKET              0  "
            ]
          },
          "execution_count": 39,
          "metadata": {},
          "output_type": "execute_result"
        }
      ],
      "source": [
        "df_subset = merged_df.sample(frac=0.1, random_state=42)\n",
        "df_subset.head()"
      ]
    },
    {
      "cell_type": "markdown",
      "metadata": {
        "id": "zbN0Ho94DftZ"
      },
      "source": [
        "Viewing Distribution"
      ]
    },
    {
      "cell_type": "code",
      "execution_count": 40,
      "metadata": {
        "colab": {
          "base_uri": "https://localhost:8080/",
          "height": 558
        },
        "id": "RVp_qEvKyYDs",
        "outputId": "02384b07-de16-4165-9d3c-13bb37056524"
      },
      "outputs": [
        {
          "data": {
            "image/png": "[encoded data removed]",
            "text/plain": [
              "<Figure size 640x480 with 1 Axes>"
            ]
          },
          "metadata": {},
          "output_type": "display_data"
        }
      ],
      "source": [
        "import pandas as pd\n",
        "import matplotlib.pyplot as plt\n",
        "\n",
        "class_percentages = df_subset['class'].value_counts(normalize=True) * 100\n",
        "\n",
        "class_percentages.plot(kind='bar', color='skyblue', edgecolor='black')\n",
        "\n",
        "plt.xlabel('Class')\n",
        "plt.ylabel('Percentage')\n",
        "plt.title('Class Percentages')\n",
        "\n",
        "# Displaying the percentage values on top of the bars\n",
        "for i, v in enumerate(class_percentages):\n",
        "    plt.text(i, v + 1, f'{v:.2f}%', ha='center', va='bottom')\n",
        "\n",
        "plt.show()\n"
      ]
    },
    {
      "cell_type": "markdown",
      "metadata": {
        "id": "6lTCWQcd09qv"
      },
      "source": [
        "The distribution of the target class is still the same at 45-55% ratio.\n",
        "- Thus, there's no need to apply over- or under- sampling."
      ]
    },
    {
      "cell_type": "markdown",
      "metadata": {
        "id": "91pmbZdU1QT5"
      },
      "source": [
        "# Image Data Preprocessing"
      ]
    },
    {
      "cell_type": "markdown",
      "metadata": {
        "id": "uFy9F51B1fcA"
      },
      "source": [
        "I'll be preprocessing the image data\n",
        "- The input size is set to (64,64)\n",
        "- The images are resized to a target size of (64, 64), converted to numpy arrays, and normalized so that pixel values are between 0 and 1. - The resulting images are stored in the array X."
      ]
    },
    {
      "cell_type": "code",
      "execution_count": 41,
      "metadata": {
        "colab": {
          "base_uri": "https://localhost:8080/"
        },
        "id": "Unq1Gk2sudAJ",
        "outputId": "709f2438-a863-4eeb-fe6c-b95b034c827b"
      },
      "outputs": [
        {
          "name": "stdout",
          "output_type": "stream",
          "text": [
            "X_train shape: (15091, 64, 64, 3)\n",
            "y_train_one_hot shape: (15091,)\n"
          ]
        }
      ],
      "source": [
        "import numpy as np\n",
        "from tensorflow.keras.utils import to_categorical\n",
        "from sklearn.model_selection import train_test_split\n",
        "import os\n",
        "\n",
        "X_paths = df_subset['image_url'].values\n",
        "y_labels = df_subset['class_encoded'].values\n",
        "\n",
        "# Loading and preprocessing the images\n",
        "X = []\n",
        "for path in X_paths:\n",
        "    # try:\n",
        "        img = tf.keras.preprocessing.image.load_img(path, target_size=(64, 64))\n",
        "        img_array = tf.keras.preprocessing.image.img_to_array(img)\n",
        "        img_array /= 255.0  # Normalizing pixel values to be between 0 and 1\n",
        "        X.append(img_array)\n",
        "\n",
        "X = np.array(X)\n",
        "\n",
        "# Checking shapes\n",
        "print(\"X_train shape:\", X.shape)\n",
        "print(\"y_train_one_hot shape:\", y_labels.shape)\n"
      ]
    },
    {
      "cell_type": "markdown",
      "metadata": {
        "id": "HaA-0J848x5W"
      },
      "source": [
        "There are 15091 images, with a size of (64 X 64) and a staandard RGB, represented by the 3."
      ]
    },
    {
      "cell_type": "markdown",
      "metadata": {
        "id": "AqVNuBA3-Hzr"
      },
      "source": [
        "# Splitting\n",
        "I'll be splitting the dataset into 4 parts:\n",
        "- test images\n",
        "- training images\n",
        "- test labels\n",
        "- train labels"
      ]
    },
    {
      "cell_type": "code",
      "execution_count": 42,
      "metadata": {
        "id": "8D2bBveU_pki"
      },
      "outputs": [],
      "source": [
        "from sklearn.model_selection import train_test_split\n",
        "X_train, X_test, y_train, y_test = train_test_split(X, y_labels, test_size=0.2, random_state=42)"
      ]
    },
    {
      "cell_type": "markdown",
      "metadata": {
        "id": "seFrwqju-YWw"
      },
      "source": [
        "# Modelling\n",
        "- I've created a cnn_model function which takes in learning rate and dropout rate as parameters.\n",
        "- The model is created using the Sequential API.\n",
        "- Convolutional layers with 32, 64, and 128 filters, each followed by max-pooling layers, are defined to extract features from the input images.\n",
        "- The Flatten layer is used to flatten the output from the convolutional layers.\n",
        "- Two fully connected/ dense layers follow, with 256 units and ReLU activation in the first layer and a dropout layer with the specified dropout rate.\n",
        "- The final Dense layer has a single unit with sigmoid activation function, which is suitable for binary classification.\n",
        "- I've also compiled the model using an Adam optimizer is used with a clip value of 1.0.\n",
        "- Binary cross-entropy was also chosen as the cost function, being suitable for binary classification tasks."
      ]
    },
    {
      "cell_type": "code",
      "execution_count": 43,
      "metadata": {
        "id": "0_awRfD_AIoT"
      },
      "outputs": [],
      "source": [
        "from tensorflow import keras\n",
        "from tensorflow.keras import layers\n",
        "import cv2\n",
        "#from tensorflow.keras.constraints import ClipNorm\n",
        "from keras.optimizers import Adam\n",
        "from tensorflow.keras.models import Sequential\n",
        "from tensorflow.keras.layers import Conv2D, MaxPooling2D, Flatten, Dense, Dropout\n",
        "\n",
        "\n",
        "lr=0.001\n",
        "dr=0.5\n",
        "\n",
        "def cnn_model(learning_rate, dropout_rate):\n",
        "    model = keras.Sequential([\n",
        "    layers.Conv2D(32, (3, 3), activation='relu', input_shape=(64, 64, 3)),\n",
        "    layers.MaxPooling2D((2, 2)),\n",
        "    layers.Conv2D(64, (3, 3), activation='relu'),\n",
        "    layers.MaxPooling2D((2, 2)),\n",
        "    layers.Conv2D(128, (3, 3), activation='relu'),\n",
        "    layers.MaxPooling2D((2, 2)),\n",
        "    layers.Flatten(),\n",
        "    layers.Dense(256, activation='relu'),\n",
        "    layers.Dropout(dropout_rate),\n",
        "    layers.Dense(1, activation='sigmoid')])\n",
        "\n",
        "    # Compiling the model\n",
        "    opt = keras.optimizers.Adam(clipvalue=1.0)\n",
        "    model.compile(optimizer= opt,\n",
        "              loss='binary_crossentropy',  # Binary cross-entropy for binary classification\n",
        "              metrics=['accuracy'])\n",
        "\n",
        "    return model"
      ]
    },
    {
      "cell_type": "markdown",
      "metadata": {
        "id": "0f3pTDbA-5_j"
      },
      "source": [
        "# Creating a Pipeline\n",
        "I've created a pipeline, consistng of a single step named 'model', which is an instance of KerasClassifier\n",
        "- KerasClassifier is a wrapper for using Keras models in scikit-learn workflows.\n",
        "- The build_fn parameter in the KerasClassifier is set to a lambda function, which returns an instance of the cnn_model with specific hyperparameters (learning_rate and dropout_rate)."
      ]
    },
    {
      "cell_type": "code",
      "execution_count": 44,
      "metadata": {
        "colab": {
          "base_uri": "https://localhost:8080/"
        },
        "id": "zMkzsXTs_3n0",
        "outputId": "7128de6b-79cd-448a-a68b-f60c6e4b35a5"
      },
      "outputs": [
        {
          "name": "stderr",
          "output_type": "stream",
          "text": [
            "<ipython-input-44-262b06a414ec>:4: DeprecationWarning: KerasClassifier is deprecated, use Sci-Keras (https://github.com/adriangb/scikeras) instead. See https://www.adriangb.com/scikeras/stable/migration.html for help migrating.\n",
            "  ('model', KerasClassifier(build_fn=lambda:cnn_model(learning_rate=lr, dropout_rate=dr)))\n"
          ]
        }
      ],
      "source": [
        "from sklearn.pipeline import Pipeline\n",
        "from sklearn.preprocessing import StandardScaler\n",
        "pipeline = Pipeline([\n",
        "    ('model', KerasClassifier(build_fn=lambda:cnn_model(learning_rate=lr, dropout_rate=dr)))\n",
        "])"
      ]
    },
    {
      "cell_type": "markdown",
      "metadata": {
        "id": "yepgubiJ_t9r"
      },
      "source": [
        "# Fitting\n",
        "Fitting the pipeline to the data.\n",
        "- Since pipeline does not accept 'epochs' parameter, I passed the parameters using the .named_steps method\n",
        "- I've also used a callback with a patience of 7"
      ]
    },
    {
      "cell_type": "code",
      "execution_count": 45,
      "metadata": {
        "colab": {
          "base_uri": "https://localhost:8080/"
        },
        "id": "uYAzNs0B1uq0",
        "outputId": "f154526f-01da-457c-afc1-ee9d6f099622"
      },
      "outputs": [
        {
          "name": "stdout",
          "output_type": "stream",
          "text": [
            "Epoch 1/30\n",
            "302/302 [==============================] - 102s 330ms/step - loss: 0.6873 - accuracy: 0.5573 - val_loss: 0.6905 - val_accuracy: 0.5491\n",
            "Epoch 2/30\n",
            "302/302 [==============================] - 91s 302ms/step - loss: 0.6873 - accuracy: 0.5572 - val_loss: 0.6879 - val_accuracy: 0.5474\n",
            "Epoch 3/30\n",
            "302/302 [==============================] - 101s 334ms/step - loss: 0.6830 - accuracy: 0.5651 - val_loss: 0.6921 - val_accuracy: 0.5474\n",
            "Epoch 4/30\n",
            "302/302 [==============================] - 94s 311ms/step - loss: 0.6800 - accuracy: 0.5709 - val_loss: 0.6836 - val_accuracy: 0.5433\n",
            "Epoch 5/30\n",
            "302/302 [==============================] - 92s 304ms/step - loss: 0.6705 - accuracy: 0.5807 - val_loss: 0.6846 - val_accuracy: 0.5573\n",
            "Epoch 6/30\n",
            "302/302 [==============================] - 98s 324ms/step - loss: 0.6585 - accuracy: 0.6002 - val_loss: 0.6861 - val_accuracy: 0.5665\n",
            "Epoch 7/30\n",
            "302/302 [==============================] - 91s 303ms/step - loss: 0.6435 - accuracy: 0.6164 - val_loss: 0.6760 - val_accuracy: 0.5756\n",
            "Epoch 8/30\n",
            "302/302 [==============================] - 96s 319ms/step - loss: 0.6272 - accuracy: 0.6371 - val_loss: 0.7178 - val_accuracy: 0.5573\n",
            "Epoch 9/30\n",
            "302/302 [==============================] - 94s 311ms/step - loss: 0.5954 - accuracy: 0.6687 - val_loss: 0.6887 - val_accuracy: 0.5872\n",
            "Epoch 10/30\n",
            "302/302 [==============================] - 97s 321ms/step - loss: 0.5579 - accuracy: 0.7060 - val_loss: 0.7158 - val_accuracy: 0.5702\n",
            "Epoch 11/30\n",
            "302/302 [==============================] - 95s 316ms/step - loss: 0.5053 - accuracy: 0.7459 - val_loss: 0.7488 - val_accuracy: 0.5747\n",
            "Epoch 12/30\n",
            "302/302 [==============================] - 94s 310ms/step - loss: 0.4232 - accuracy: 0.7986 - val_loss: 0.8265 - val_accuracy: 0.5735\n",
            "Epoch 13/30\n",
            "302/302 [==============================] - 93s 309ms/step - loss: 0.3495 - accuracy: 0.8372 - val_loss: 0.8875 - val_accuracy: 0.5727\n",
            "Epoch 14/30\n",
            "302/302 [==============================] - 96s 316ms/step - loss: 0.2725 - accuracy: 0.8841 - val_loss: 1.0649 - val_accuracy: 0.5702\n"
          ]
        }
      ],
      "source": [
        "from tensorflow.keras.callbacks import EarlyStopping\n",
        "early_stopping = EarlyStopping(monitor='val_loss', patience=7)\n",
        "history= pipeline.named_steps['model'].fit(X_train, y_train, epochs=30, batch_size=32, validation_split=0.2, callbacks=early_stopping)\n"
      ]
    },
    {
      "cell_type": "markdown",
      "metadata": {
        "id": "IhdohwD2_PEB"
      },
      "source": [
        "# Predictions"
      ]
    },
    {
      "cell_type": "markdown",
      "metadata": {
        "id": "WS5e38Yc_SJB"
      },
      "source": [
        "## Test Predictions\n",
        "Predictions on the test dataset"
      ]
    },
    {
      "cell_type": "code",
      "execution_count": 47,
      "metadata": {
        "colab": {
          "base_uri": "https://localhost:8080/"
        },
        "id": "vLWFROEYPb0j",
        "outputId": "6a369c21-0c4b-4fba-c857-bafa0f64c87f"
      },
      "outputs": [
        {
          "name": "stdout",
          "output_type": "stream",
          "text": [
            "95/95 [==============================] - 6s 62ms/step\n"
          ]
        }
      ],
      "source": [
        "test_pred = pipeline.predict(X_test)"
      ]
    },
    {
      "cell_type": "markdown",
      "metadata": {
        "id": "5EC_CNUZaE8P"
      },
      "source": [
        "Converting probabilities into labels (1 or 0)"
      ]
    },
    {
      "cell_type": "code",
      "execution_count": 48,
      "metadata": {
        "colab": {
          "base_uri": "https://localhost:8080/"
        },
        "id": "RdA_4xM8xGqc",
        "outputId": "202500bf-c982-4866-bcc2-ec028392b637"
      },
      "outputs": [
        {
          "name": "stdout",
          "output_type": "stream",
          "text": [
            "[[1]\n",
            " [1]\n",
            " [1]\n",
            " ...\n",
            " [0]\n",
            " [1]\n",
            " [1]]\n"
          ]
        }
      ],
      "source": [
        "thresholded_array = (test_pred >= 0.5).astype(int)\n",
        "\n",
        "print(thresholded_array)\n"
      ]
    },
    {
      "cell_type": "markdown",
      "metadata": {
        "id": "1yoZXpRh_Wxq"
      },
      "source": [
        "## Train Predicting\n",
        "Predictions on the train dataset"
      ]
    },
    {
      "cell_type": "code",
      "execution_count": 49,
      "metadata": {
        "colab": {
          "base_uri": "https://localhost:8080/"
        },
        "id": "1qeIvOGtPbxt",
        "outputId": "4661a80f-1c77-4664-a9d3-de09c2e2c5e2"
      },
      "outputs": [
        {
          "name": "stdout",
          "output_type": "stream",
          "text": [
            "378/378 [==============================] - 32s 84ms/step\n"
          ]
        }
      ],
      "source": [
        "train_pred = pipeline.predict(X_train)"
      ]
    },
    {
      "cell_type": "code",
      "execution_count": 50,
      "metadata": {
        "colab": {
          "base_uri": "https://localhost:8080/"
        },
        "id": "_Zls3K51Pbuj",
        "outputId": "19dff413-7036-431d-dfbc-3255295bb84f"
      },
      "outputs": [
        {
          "name": "stdout",
          "output_type": "stream",
          "text": [
            "[[1]\n",
            " [1]\n",
            " [0]\n",
            " ...\n",
            " [0]\n",
            " [0]\n",
            " [0]]\n"
          ]
        }
      ],
      "source": [
        "thresholded_array_2 = (train_pred >= 0.5).astype(int)\n",
        "\n",
        "print(thresholded_array_2)"
      ]
    },
    {
      "cell_type": "markdown",
      "metadata": {
        "id": "0eRTfLLX_j5J"
      },
      "source": [
        "# Evaluate"
      ]
    },
    {
      "cell_type": "markdown",
      "metadata": {
        "id": "8krP4IiAAFK8"
      },
      "source": [
        "## Accuracy Score"
      ]
    },
    {
      "cell_type": "markdown",
      "metadata": {
        "id": "Jitdy3aUALEy"
      },
      "source": [
        "### Test Accuracy\n",
        "Calculating accuracy on the test set"
      ]
    },
    {
      "cell_type": "code",
      "execution_count": 51,
      "metadata": {
        "id": "k3LZAJl-Pbrb"
      },
      "outputs": [],
      "source": [
        "#loss, accuracy = pipeline.evaluate(X_test, y_test)\n",
        "from sklearn.metrics import accuracy_score\n",
        "test_acc = accuracy_score(y_test, (thresholded_array))  # Assuming binary classification\n"
      ]
    },
    {
      "cell_type": "markdown",
      "metadata": {
        "id": "dcmpo16lAPYS"
      },
      "source": [
        "### Train Accuracy\n",
        "Calculating accuracy on the train set"
      ]
    },
    {
      "cell_type": "code",
      "execution_count": 52,
      "metadata": {
        "id": "5B8XV6MTPboV"
      },
      "outputs": [],
      "source": [
        "#loss_train, acc_train = pipeline.evaluate(X_train, y_train)\n",
        "from sklearn.metrics import accuracy_score\n",
        "train_acc = accuracy_score(y_train, (thresholded_array_2))  # Assuming binary classification"
      ]
    },
    {
      "cell_type": "markdown",
      "metadata": {
        "id": "lQNhM3joevRM"
      },
      "source": [
        "Comparing Test and train accuracies"
      ]
    },
    {
      "cell_type": "code",
      "execution_count": 53,
      "metadata": {
        "colab": {
          "base_uri": "https://localhost:8080/"
        },
        "id": "VhOkU5xYPblL",
        "outputId": "273a1d90-70dd-4c41-e46a-72d4854c0556"
      },
      "outputs": [
        {
          "name": "stdout",
          "output_type": "stream",
          "text": [
            "Test accuracy: 0.5833057303742961\n",
            "Training accuracy: 0.8730947647448641\n"
          ]
        }
      ],
      "source": [
        "print(\"Test accuracy:\", test_acc)\n",
        "print(\"Training accuracy:\", train_acc)"
      ]
    },
    {
      "cell_type": "markdown",
      "metadata": {
        "id": "iyxgE_WdZuwd"
      },
      "source": [
        "The test accuracy of 0.58 indicates that the model correctly predicted the class  for approximately 58% of the test data. On the other hand, the training accuracy of 0.87 suggests that during the training phase, the model achieved a high accuracy of about 87% on the training data.\n",
        "\n",
        "The model performed well on the training data, its accuracy is low on the test set. This suggests that the model might be overfitting the training data,"
      ]
    },
    {
      "cell_type": "markdown",
      "metadata": {
        "id": "h2Y6s6hsa44u"
      },
      "source": [
        "## Cross validation"
      ]
    },
    {
      "cell_type": "markdown",
      "metadata": {
        "id": "Q0iNl8ukAV0p"
      },
      "source": [
        "## Training & Validation Curves\n",
        "I will be creating loss and validation curves. Validation and Training Loss & Accuracy Graphs will help me analyze the performance and progress of a model during training. The graph typically displays two key metrics: loss and accuracy.\n",
        "\n",
        "- The loss shows the difference between the predicted values and actual values\n",
        "- The accuracy tells us about the overall accuracy of predictions.\n",
        "\n",
        "- Training Loss: Shows us how well the model fits on the training data (Baeldung, 2023).\n",
        "\n",
        "- Validation Loss: Shows us how well the model is generalizing.\n",
        "\n",
        "- Training Accuracy: Shows the accuracy on the training data.\n",
        "\n",
        "- Validation Accuracy: Shows the accuracy on the test dataset.\n",
        "\n"
      ]
    },
    {
      "cell_type": "code",
      "execution_count": 54,
      "metadata": {
        "colab": {
          "base_uri": "https://localhost:8080/",
          "height": 994
        },
        "id": "yuZO9BFvxpXT",
        "outputId": "2ca15539-672b-4f48-8b25-35d9afba18d0"
      },
      "outputs": [
        {
          "name": "stderr",
          "output_type": "stream",
          "text": [
            "<ipython-input-54-159113e29c83>:10: UserWarning: color is redundantly defined by the 'color' keyword argument and the fmt string \"b\" (-> color=(0.0, 0.0, 1.0, 1)). The keyword argument will take precedence.\n",
            "  plt.plot(epochs, acc, 'b', label='Training acc',c='r')\n",
            "<ipython-input-54-159113e29c83>:17: UserWarning: color is redundantly defined by the 'color' keyword argument and the fmt string \"b\" (-> color=(0.0, 0.0, 1.0, 1)). The keyword argument will take precedence.\n",
            "  plt.plot(epochs, loss, 'b', label='Training loss', c='r')\n"
          ]
        },
        {
          "data": {
            "text/plain": [
              "<matplotlib.legend.Legend at 0x790fae920be0>"
            ]
          },
          "execution_count": 54,
          "metadata": {},
          "output_type": "execute_result"
        },
        {
          "data": {
            "image/png": "[encoded data removed]",
            "text/plain": [
              "<Figure size 640x480 with 1 Axes>"
            ]
          },
          "metadata": {},
          "output_type": "display_data"
        },
        {
          "data": {
            "image/png": "[encoded data removed]",
            "text/plain": [
              "<Figure size 640x480 with 1 Axes>"
            ]
          },
          "metadata": {},
          "output_type": "display_data"
        }
      ],
      "source": [
        "import matplotlib.pyplot as plt\n",
        "\n",
        "acc = history.history['accuracy']\n",
        "val_acc = history.history['val_accuracy']\n",
        "loss = history.history['loss']\n",
        "val_loss = history.history['val_loss']\n",
        "\n",
        "epochs = range(1, len(acc) + 1)\n",
        "\n",
        "plt.plot(epochs, acc, 'b', label='Training acc',c='r')\n",
        "plt.plot(epochs, val_acc, 'b', label='Validation acc')\n",
        "plt.title('Training and validation accuracy')\n",
        "plt.legend()\n",
        "\n",
        "plt.figure()\n",
        "\n",
        "plt.plot(epochs, loss, 'b', label='Training loss', c='r')\n",
        "plt.plot(epochs, val_loss, 'b', label='Validation loss')\n",
        "plt.title('Training and validation loss')\n",
        "plt.legend()\n",
        "#Code adapted from: https://www.kaggle.com/code/ngyptr/multi-class-classification-with-lstm"
      ]
    },
    {
      "cell_type": "markdown",
      "metadata": {
        "id": "5mh0gjb-cw62"
      },
      "source": [
        "**Accuracy Curves**\n",
        "\n",
        "The training accuracy increases with the number of epochs, while the validation accuracy remains relatively constant. This suggests that the model is overfitting the training data and is not generalizing well to the validation data .\n",
        "\n",
        "**Loss Curves**\n",
        "\n",
        "The training loss is decreasing while the validation loss is increasing. This suggests that the model is overfitting and is not generalizing well to new data."
      ]
    },
    {
      "cell_type": "markdown",
      "metadata": {
        "id": "gLb5KTNvAm-v"
      },
      "source": [
        "## ROC Curves\n",
        "I will be creating an ROC curve to analyze the data.\n",
        "\n",
        "The Receiver Operating Characteristic (ROC) curve is used for evaluating the performance of a classification model.\n",
        "\n",
        "The plot shows the relationship between the true positive rate (TPR) and the false positive rate (FPR).\n",
        "\n",
        "- A high TPR indicates that the model is good at identifying true positives.\n",
        "\n",
        "- A low FPR indicates that the model is good at not falsely labeling negatives as positives.\n",
        "\n",
        "The ROC curve is plotted with TPR on the y-axis and FPR on the x-axis. An ideal ROC curve is one that hugs the top-left corner of the plot, because this would indicate high TPR and low FPR.\n",
        "\n",
        "Along with the ROC curve, the area under the ROC curve (AUC) is a  metric used to determine the model's performance. AUC outputs a single numerical value, which represents the model's ability to discriminate between positive and negative samples. The AUC is measured between 0 and 1. A higher AUC (closer to 1) indicates better performance.\n",
        "\n",
        "The ROC is typically used for evaluating the performance of a binary classification model."
      ]
    },
    {
      "cell_type": "code",
      "execution_count": 56,
      "metadata": {
        "colab": {
          "base_uri": "https://localhost:8080/",
          "height": 735
        },
        "id": "Hbda7QBCC28N",
        "outputId": "b6db63f9-95b3-4fa4-ae25-25fc82ce004a"
      },
      "outputs": [
        {
          "name": "stdout",
          "output_type": "stream",
          "text": [
            "95/95 [==============================] - 6s 67ms/step\n"
          ]
        },
        {
          "data": {
            "image/png": "[encoded data removed]",
            "text/plain": [
              "<Figure size 800x800 with 1 Axes>"
            ]
          },
          "metadata": {},
          "output_type": "display_data"
        }
      ],
      "source": [
        "from sklearn.metrics import roc_curve, auc\n",
        "import matplotlib.pyplot as plt\n",
        "\n",
        "y_probs = pipeline.predict(X_test).flatten()\n",
        "\n",
        "# Calculating ROC curve for class 0\n",
        "fpr_class_0, tpr_class_0, _ = roc_curve(y_test, y_probs, pos_label=0)\n",
        "roc_auc_class_0 = auc(fpr_class_0, tpr_class_0)\n",
        "\n",
        "# Calculating ROC curve for class 1\n",
        "fpr_class_1, tpr_class_1, _ = roc_curve(y_test, y_probs, pos_label=1)\n",
        "roc_auc_class_1 = auc(fpr_class_1, tpr_class_1)\n",
        "\n",
        "# Plot ROC curves for both classes\n",
        "plt.figure(figsize=(8, 8))\n",
        "plt.plot(fpr_class_0, tpr_class_0, color='darkorange', lw=2, label=f'Class 0 (AUC = {roc_auc_class_0:.2f})')\n",
        "plt.plot(fpr_class_1, tpr_class_1, color='green', lw=2, label=f'Class 1 (AUC = {roc_auc_class_1:.2f})')\n",
        "plt.plot([0, 1], [0, 1], color='navy', lw=2, linestyle='--')\n",
        "plt.xlabel('False Positive Rate')\n",
        "plt.ylabel('True Positive Rate')\n",
        "plt.title('Receiver Operating Characteristic (ROC) Curve for each class')\n",
        "plt.legend(loc='lower right')\n",
        "plt.show()\n",
        "# Code adapted from: https://www.statology.org/plot-multiple-roc-curves-python/;\n",
        "# https://stackoverflow.com/a/70002535;\n",
        "# https://www.geeksforgeeks.org/multiclass-receiver-operating-characteristic-roc-in-scikit-learn/"
      ]
    },
    {
      "cell_type": "markdown",
      "metadata": {
        "id": "bRiF2yq3kUbL"
      },
      "source": [
        "In this case, the AUC for class 0 is 0.43 and for class 0 is 0.57. The AUC for class 1 is quite low, which suggests that the classifier is not performing well for that class. However, the AUC for class 0 is higher, which suggests that the classifier is performing better for that class. The closer the ROC curve hugs the top left corner of the plot, the better the model does at classifying the data into categories"
      ]
    },
    {
      "cell_type": "markdown",
      "metadata": {
        "id": "eLtLtujMArBn"
      },
      "source": [
        "## Confusion Matrix\n",
        "I will be creating a confusion matrix to understand my predictions better. While the accuracy and loss gave us information about the overall prediction ability of the model, the confusion matrix gives us more insight than just using the accuracy score. The confusion matrix shows us the proportion of correct or incorrect classifications as follows:\n",
        "\n",
        "1. The number of True Positives (TP)\n",
        "2. The number of False Positives (FP)\n",
        "3. The number of False Negatives (FN)\n",
        "4. The number of True Negatives (TN)\n",
        "\n",
        "- TP: The model correctly predicted an image as belonging to a certain class\n",
        "- FP: The model incorrectly predicted an image as belonging to a certain class when it does not\n",
        "- FN: The model incorrectly predicted an image as not belonging to a certain class when it does\n",
        "- TN: The model correctly predicted an image as not belonging to a certain class"
      ]
    },
    {
      "cell_type": "code",
      "execution_count": 57,
      "metadata": {
        "colab": {
          "base_uri": "https://localhost:8080/",
          "height": 465
        },
        "id": "0pBvBJOGPX1F",
        "outputId": "35a2fc52-cd0e-40bf-b908-ed6f1665d488"
      },
      "outputs": [
        {
          "data": {
            "text/plain": [
              "array([[1150,  530],\n",
              "       [ 728,  611]])"
            ]
          },
          "execution_count": 57,
          "metadata": {},
          "output_type": "execute_result"
        },
        {
          "data": {
            "image/png": "[encoded data removed]",
            "text/plain": [
              "<Figure size 640x480 with 2 Axes>"
            ]
          },
          "metadata": {},
          "output_type": "display_data"
        }
      ],
      "source": [
        "import seaborn as sns\n",
        "from sklearn.metrics import confusion_matrix\n",
        "cm=confusion_matrix(y_test, thresholded_array, labels=range(2))\n",
        "sns.heatmap(cm, annot=True)\n",
        "cm"
      ]
    },
    {
      "cell_type": "markdown",
      "metadata": {
        "id": "4UU2iJRnlpC3"
      },
      "source": [
        "- A True Negative of 1150 means that the model correctly predicted 1150 images of mass-market cars as mass-market.\n",
        "- A False Positive of 530 means that 530 instances where the model predicted images of luxury cars as mass-market.\n",
        "- A False Negative of 728 means that the model predicted 728 images of mass-market cars as luxury.\n",
        "- True Positive of 611 means that the model correctly predicted 611 images of luxury cars as luxury.\n",
        "- Class 0 has higher true positives than class 1, meaning that it has performed better than class 1."
      ]
    },
    {
      "cell_type": "markdown",
      "metadata": {
        "id": "c5IXMheVAu1U"
      },
      "source": [
        "## Classification Report"
      ]
    },
    {
      "cell_type": "markdown",
      "metadata": {
        "id": "ZsXlDr2AnJ3-"
      },
      "source": [
        "I will calculate the Classification report. The advantage of the classification report is that it provides a summary of the model's performance across different classes, according to the metrics of precision, recall, and F1-score.\n",
        "\n",
        "The classification report uses the results of the confusion matrix.\n",
        "- Precision is the ratio of the number of samples actually belonging to the positive class and all the samples that were predicted to be of the positive class.\n",
        "Precision= True Positives/(False Positives+True Positives)\n",
        "\n",
        "- Recall is the ratio of the number of samples predicted correctly to be belonging to the positive class and all the samples that actually belong to the positive class.\n",
        "Recall = True Positives/(False Negatives+True Positives)\n",
        "- f1 Score is the harmonic mean of the recall and precision scores from the positive class. The f1-score takes into account both the precision and recall, and a high f1-score (closer to 1) implies that both the precision and recall are high."
      ]
    },
    {
      "cell_type": "code",
      "execution_count": 58,
      "metadata": {
        "colab": {
          "base_uri": "https://localhost:8080/"
        },
        "id": "FMNldAlSxzil",
        "outputId": "207cb6ff-7cde-404a-e78d-597cdeef8c53"
      },
      "outputs": [
        {
          "name": "stdout",
          "output_type": "stream",
          "text": [
            "              precision    recall  f1-score   support\n",
            "\n",
            "           0       0.61      0.68      0.65      1680\n",
            "           1       0.54      0.46      0.49      1339\n",
            "\n",
            "    accuracy                           0.58      3019\n",
            "   macro avg       0.57      0.57      0.57      3019\n",
            "weighted avg       0.58      0.58      0.58      3019\n",
            "\n"
          ]
        }
      ],
      "source": [
        "from sklearn.metrics import classification_report\n",
        "cr = classification_report(y_test, thresholded_array)\n",
        "print(cr)"
      ]
    },
    {
      "cell_type": "markdown",
      "metadata": {
        "id": "Iody-pG5nDZO"
      },
      "source": [
        "- Class 0 appears to be performing better than class 1\n",
        "- **Precision:**\n",
        "  - For Class 0 (Mass-Market), the precision is 0.61, indicating that when the model predicts an image as a mass-mrket car, it is correct about 61% of the time.\n",
        "  - For Class 1 (Luxury), the precision is 0.54, indicating that when the model predicts an image as a luxury car, it is correct about 54% of the time.\n",
        "\n",
        "- **Recall (Sensitivity):**\n",
        "  - For Class 0 (Mass-Market), the recall is 0.68, indicating that the model is able to correctly identify about 68% of the actual mass-market cars.\n",
        "  - For Class 1 (Luxury), the recall is 0.46, indicating that the model is able to correctly identify about 46% of the actual luxury cars.\n",
        "\n",
        "- **F1-Score:**\n",
        "  - For Class 0 (Mass-market), the F1-score is 0.65, representing a balance between precision and recall for mass-market cars.\n",
        "  - For Class 1 (Luxury), the F1-score is 0.49, representing a balance between precision and recall for luxury cars.\n",
        "\n",
        "- **Accuracy:**\n",
        "  - The overall accuracy of the model is 0.58, indicating that about 58% of the predictions are correct."
      ]
    },
    {
      "cell_type": "markdown",
      "metadata": {
        "id": "fCfXJEUjSyxu"
      },
      "source": [
        "# Hyperparameter Tuning"
      ]
    },
    {
      "cell_type": "markdown",
      "metadata": {
        "id": "Z9fRBL-sny1s"
      },
      "source": [
        "Hyperparameter tuning is the process of finding the optimal set of hyperparameters for a machine learning model. I will be performing hyperparameter tuning in order to improve my model from overfitting. Specifically, I will be focusing on adjusting batch size, learning rate, and dropout rate. This is because:\n",
        "  - the model has been found to be overfitting\n",
        "  - thus, applying regularization, such as adjusting the dropout rate can improve overfitting\n",
        "  - decreasing the learning rate has the potential of improving overfitting\n",
        "  - decreasing batch size also has the potential of improving overfitting"
      ]
    },
    {
      "cell_type": "code",
      "execution_count": 59,
      "metadata": {
        "colab": {
          "base_uri": "https://localhost:8080/"
        },
        "id": "tAoYx8ZNU1oe",
        "outputId": "af411e22-34b3-4a07-f0b9-adc015aa8490"
      },
      "outputs": [
        {
          "name": "stderr",
          "output_type": "stream",
          "text": [
            "<ipython-input-59-7ba2466d1275>:11: DeprecationWarning: KerasClassifier is deprecated, use Sci-Keras (https://github.com/adriangb/scikeras) instead. See https://www.adriangb.com/scikeras/stable/migration.html for help migrating.\n",
            "  ('model', KerasClassifier(build_fn=cnn_model, epochs=1))\n"
          ]
        },
        {
          "name": "stdout",
          "output_type": "stream",
          "text": [
            "378/378 [==============================] - 61s 153ms/step - loss: 0.6902 - accuracy: 0.5507\n",
            "189/189 [==============================] - 21s 112ms/step\n",
            "378/378 [==============================] - 63s 163ms/step - loss: 0.6894 - accuracy: 0.5582\n",
            "189/189 [==============================] - 17s 89ms/step\n",
            "378/378 [==============================] - 63s 162ms/step - loss: 0.6911 - accuracy: 0.5492\n",
            "189/189 [==============================] - 17s 92ms/step\n",
            "378/378 [==============================] - 62s 162ms/step - loss: 0.6884 - accuracy: 0.5603\n",
            "189/189 [==============================] - 17s 89ms/step\n",
            "378/378 [==============================] - 62s 161ms/step - loss: 0.6905 - accuracy: 0.5547\n",
            "189/189 [==============================] - 17s 89ms/step\n",
            "378/378 [==============================] - 62s 161ms/step - loss: 0.6916 - accuracy: 0.5540\n",
            "189/189 [==============================] - 17s 88ms/step\n",
            "378/378 [==============================] - 63s 164ms/step - loss: 0.6897 - accuracy: 0.5489\n",
            "189/189 [==============================] - 17s 89ms/step\n",
            "378/378 [==============================] - 62s 161ms/step - loss: 0.6872 - accuracy: 0.5557\n",
            "189/189 [==============================] - 17s 89ms/step\n",
            "189/189 [==============================] - 58s 298ms/step - loss: 0.6888 - accuracy: 0.5500\n",
            "189/189 [==============================] - 17s 89ms/step\n",
            "189/189 [==============================] - 64s 304ms/step - loss: 0.6889 - accuracy: 0.5565\n",
            "189/189 [==============================] - 15s 77ms/step\n",
            "189/189 [==============================] - 56s 285ms/step - loss: 0.6895 - accuracy: 0.5538\n",
            "189/189 [==============================] - 17s 90ms/step\n",
            "189/189 [==============================] - 56s 289ms/step - loss: 0.6900 - accuracy: 0.5585\n",
            "189/189 [==============================] - 17s 89ms/step\n",
            "189/189 [==============================] - 57s 295ms/step - loss: 0.6910 - accuracy: 0.5509\n",
            "189/189 [==============================] - 13s 70ms/step\n",
            "189/189 [==============================] - 58s 294ms/step - loss: 0.6890 - accuracy: 0.5545\n",
            "189/189 [==============================] - 13s 70ms/step\n",
            "189/189 [==============================] - 56s 291ms/step - loss: 0.6888 - accuracy: 0.5545\n",
            "189/189 [==============================] - 15s 76ms/step\n",
            "189/189 [==============================] - 59s 303ms/step - loss: 0.6931 - accuracy: 0.5528\n",
            "189/189 [==============================] - 17s 87ms/step\n",
            "12/12 [==============================] - 60s 5s/step - loss: 0.7095 - accuracy: 0.5260\n",
            "189/189 [==============================] - 15s 79ms/step\n",
            "12/12 [==============================] - 60s 5s/step - loss: 0.7221 - accuracy: 0.5207\n",
            "189/189 [==============================] - 13s 70ms/step\n",
            "12/12 [==============================] - 60s 5s/step - loss: 0.7454 - accuracy: 0.4990\n",
            "189/189 [==============================] - 17s 89ms/step\n",
            "12/12 [==============================] - 61s 5s/step - loss: 0.7211 - accuracy: 0.5075\n",
            "189/189 [==============================] - 17s 88ms/step\n",
            "12/12 [==============================] - 60s 5s/step - loss: 0.7164 - accuracy: 0.5191\n",
            "189/189 [==============================] - 13s 69ms/step\n",
            "12/12 [==============================] - 59s 5s/step - loss: 0.7050 - accuracy: 0.5215\n",
            "189/189 [==============================] - 17s 88ms/step\n",
            "12/12 [==============================] - 65s 5s/step - loss: 0.7115 - accuracy: 0.5106\n",
            "189/189 [==============================] - 17s 88ms/step\n",
            "12/12 [==============================] - 58s 5s/step - loss: 0.7205 - accuracy: 0.4959\n",
            "189/189 [==============================] - 17s 88ms/step\n",
            "755/755 [==============================] - 122s 159ms/step - loss: 0.6888 - accuracy: 0.5533\n",
            "Best Parameters:  {'model__batch_size': 16, 'model__dropout_rate': 0.1, 'model__learning_rate': 0.001}\n",
            "Best Accuracy:  0.5571570576540755\n"
          ]
        }
      ],
      "source": [
        "import numpy as np\n",
        "from sklearn.model_selection import train_test_split, GridSearchCV\n",
        "from tensorflow.keras.models import Sequential\n",
        "from tensorflow.keras.layers import Conv2D, MaxPooling2D, Flatten, Dense, Dropout\n",
        "from tensorflow.keras.optimizers import Adam\n",
        "from sklearn.metrics import accuracy_score\n",
        "from sklearn.pipeline import Pipeline\n",
        "\n",
        "# Pipeline\n",
        "pipeline_ht = Pipeline([\n",
        "    ('model', KerasClassifier(build_fn=cnn_model, epochs=1))\n",
        "])\n",
        "\n",
        "# Hyperparameter tuning\n",
        "param_grid = {\n",
        "    'model__batch_size': [16, 32, 512],\n",
        "    'model__learning_rate': [0.001, 0.01],\n",
        "    'model__dropout_rate': [0.1, 0.3],\n",
        "}\n",
        "# Grid Search\n",
        "grid = GridSearchCV(pipeline_ht, param_grid=param_grid, cv=2, scoring='accuracy')\n",
        "grid_result = grid.fit(X_train, y_train)\n",
        "\n",
        "best_batch_size = grid_result.best_params_['model__batch_size']\n",
        "best_dropout_rate = grid_result.best_params_['model__dropout_rate']\n",
        "best_learning_rate = grid_result.best_params_['model__learning_rate']\n",
        "\n",
        "# Printing the best parameters and score\n",
        "print(\"Best Parameters: \", grid_result.best_params_)\n",
        "print(\"Best Accuracy: \", grid_result.best_score_)\n",
        "\n",
        "#Code adapted from: https://www.youtube.com/watch?v=HdlDYng8g9s&t=413s\n",
        "# https://stats.stackexchange.com/questions/509950/implementing-automated-hyperparameter-tuning-within-a-manual-cross-validation-lo"
      ]
    },
    {
      "cell_type": "markdown",
      "metadata": {
        "id": "mhxVhWhAScc8"
      },
      "source": [
        "Displaying the best parameters according to hyperparameter tuning:"
      ]
    },
    {
      "cell_type": "code",
      "execution_count": 60,
      "metadata": {
        "colab": {
          "base_uri": "https://localhost:8080/"
        },
        "id": "f_F2B3_aYWc3",
        "outputId": "0fde6a6b-ad3a-45a1-b59b-a8ac08aa2bca"
      },
      "outputs": [
        {
          "name": "stdout",
          "output_type": "stream",
          "text": [
            "Best batch Size: 16\n",
            "Best Learning Rate: 0.001\n",
            "Best Dropout_rate 0.1\n"
          ]
        }
      ],
      "source": [
        "print(\"Best batch Size:\", best_batch_size)\n",
        "print(\"Best Learning Rate:\", best_learning_rate)\n",
        "print(\"Best Dropout_rate\", best_dropout_rate)"
      ]
    },
    {
      "cell_type": "markdown",
      "metadata": {
        "id": "FOmzvaavTv4O"
      },
      "source": [
        "# Retraining"
      ]
    },
    {
      "cell_type": "markdown",
      "metadata": {
        "id": "tQ_JxzxkpaTt"
      },
      "source": [
        "I will now retrain the model with the new values. I will do this by creating a new pipeline containing the updated values."
      ]
    },
    {
      "cell_type": "code",
      "execution_count": 61,
      "metadata": {
        "colab": {
          "base_uri": "https://localhost:8080/"
        },
        "id": "3P4z5W0dTZY0",
        "outputId": "4ca96764-aa9e-42b7-a0b0-acee51e4205b"
      },
      "outputs": [
        {
          "name": "stderr",
          "output_type": "stream",
          "text": [
            "<ipython-input-61-c6f2a79d41ef>:1: DeprecationWarning: KerasClassifier is deprecated, use Sci-Keras (https://github.com/adriangb/scikeras) instead. See https://www.adriangb.com/scikeras/stable/migration.html for help migrating.\n",
            "  pipeline_retrained = Pipeline([ ('model_retrained', KerasClassifier(build_fn=lambda:cnn_model(learning_rate=best_learning_rate, dropout_rate=best_dropout_rate)))\n"
          ]
        }
      ],
      "source": [
        "pipeline_retrained = Pipeline([ ('model_retrained', KerasClassifier(build_fn=lambda:cnn_model(learning_rate=best_learning_rate, dropout_rate=best_dropout_rate)))\n",
        "])"
      ]
    },
    {
      "cell_type": "code",
      "execution_count": 62,
      "metadata": {
        "colab": {
          "base_uri": "https://localhost:8080/"
        },
        "id": "8rP_6LuZpTfb",
        "outputId": "e17903d1-0380-41bf-fef0-e15f55172cf6"
      },
      "outputs": [
        {
          "name": "stdout",
          "output_type": "stream",
          "text": [
            "Epoch 1/30\n",
            "604/604 [==============================] - 107s 175ms/step - loss: 0.6885 - accuracy: 0.5582 - val_loss: 0.6873 - val_accuracy: 0.5474\n",
            "Epoch 2/30\n",
            "604/604 [==============================] - 102s 169ms/step - loss: 0.6851 - accuracy: 0.5584 - val_loss: 0.6849 - val_accuracy: 0.5553\n",
            "Epoch 3/30\n",
            "604/604 [==============================] - 104s 172ms/step - loss: 0.6776 - accuracy: 0.5712 - val_loss: 0.6927 - val_accuracy: 0.5627\n",
            "Epoch 4/30\n",
            "604/604 [==============================] - 103s 171ms/step - loss: 0.6704 - accuracy: 0.5847 - val_loss: 0.6811 - val_accuracy: 0.5536\n",
            "Epoch 5/30\n",
            "604/604 [==============================] - 102s 169ms/step - loss: 0.6550 - accuracy: 0.6061 - val_loss: 0.6796 - val_accuracy: 0.5640\n",
            "Epoch 6/30\n",
            "604/604 [==============================] - 104s 172ms/step - loss: 0.6343 - accuracy: 0.6375 - val_loss: 0.6875 - val_accuracy: 0.5652\n",
            "Epoch 7/30\n",
            "604/604 [==============================] - 107s 177ms/step - loss: 0.5978 - accuracy: 0.6696 - val_loss: 0.6953 - val_accuracy: 0.5793\n",
            "Epoch 8/30\n",
            "604/604 [==============================] - 101s 168ms/step - loss: 0.5435 - accuracy: 0.7179 - val_loss: 0.7565 - val_accuracy: 0.5640\n",
            "Epoch 9/30\n",
            "604/604 [==============================] - 102s 168ms/step - loss: 0.4636 - accuracy: 0.7778 - val_loss: 0.8062 - val_accuracy: 0.5731\n",
            "Epoch 10/30\n",
            "604/604 [==============================] - 103s 170ms/step - loss: 0.3601 - accuracy: 0.8328 - val_loss: 0.9882 - val_accuracy: 0.5507\n",
            "Epoch 11/30\n",
            "604/604 [==============================] - 105s 174ms/step - loss: 0.2568 - accuracy: 0.8901 - val_loss: 1.2717 - val_accuracy: 0.5648\n",
            "Epoch 12/30\n",
            "604/604 [==============================] - 101s 167ms/step - loss: 0.1716 - accuracy: 0.9329 - val_loss: 1.3329 - val_accuracy: 0.5545\n"
          ]
        }
      ],
      "source": [
        "history_retrained= pipeline_retrained.named_steps['model_retrained'].fit(X_train, y_train, epochs=30, batch_size=best_batch_size,validation_split=0.2, callbacks=early_stopping)\n"
      ]
    },
    {
      "cell_type": "markdown",
      "metadata": {
        "id": "OAAQtGSFFZ0m"
      },
      "source": [
        "## Accuracy"
      ]
    },
    {
      "cell_type": "code",
      "execution_count": 63,
      "metadata": {
        "colab": {
          "base_uri": "https://localhost:8080/"
        },
        "id": "XEtucydXThug",
        "outputId": "087b370b-d08b-4191-d6b8-4dc70c7705d6"
      },
      "outputs": [
        {
          "name": "stdout",
          "output_type": "stream",
          "text": [
            "95/95 [==============================] - 7s 74ms/step\n",
            "[[1]\n",
            " [1]\n",
            " [1]\n",
            " ...\n",
            " [0]\n",
            " [0]\n",
            " [0]]\n"
          ]
        }
      ],
      "source": [
        "test_pred_retrained = pipeline_retrained.predict(X_test)\n",
        "\n",
        "thresholded_array_retrained= (test_pred_retrained >= 0.5).astype(int)\n",
        "print(thresholded_array_retrained)\n",
        "\n",
        "from sklearn.metrics import accuracy_score\n",
        "test_acc_retrained = accuracy_score(y_test, (thresholded_array_retrained))  # Assuming binary classification\n"
      ]
    },
    {
      "cell_type": "code",
      "execution_count": 64,
      "metadata": {
        "colab": {
          "base_uri": "https://localhost:8080/"
        },
        "id": "GlsdA7uHTo2N",
        "outputId": "9c1bd468-9403-4822-b173-fb5c45b4eb76"
      },
      "outputs": [
        {
          "data": {
            "text/plain": [
              "0.5776747267307055"
            ]
          },
          "execution_count": 64,
          "metadata": {},
          "output_type": "execute_result"
        }
      ],
      "source": [
        "test_acc_retrained\n"
      ]
    },
    {
      "cell_type": "code",
      "execution_count": 65,
      "metadata": {
        "colab": {
          "base_uri": "https://localhost:8080/"
        },
        "id": "G1dwVQUf0d70",
        "outputId": "8c8f4f32-4cb6-49d6-8f09-21f7fd67ec7c"
      },
      "outputs": [
        {
          "name": "stdout",
          "output_type": "stream",
          "text": [
            "378/378 [==============================] - 32s 85ms/step\n",
            "[[1]\n",
            " [1]\n",
            " [0]\n",
            " ...\n",
            " [0]\n",
            " [1]\n",
            " [0]]\n"
          ]
        }
      ],
      "source": [
        "train_pred_retrained = pipeline_retrained.predict(X_train)\n",
        "\n",
        "thresholded_train_retrained= (train_pred_retrained >= 0.5).astype(int)\n",
        "print(thresholded_train_retrained)\n",
        "\n",
        "train_acc_retrained = accuracy_score(y_train, (thresholded_train_retrained))  # Assuming binary classification"
      ]
    },
    {
      "cell_type": "code",
      "execution_count": 66,
      "metadata": {
        "colab": {
          "base_uri": "https://localhost:8080/"
        },
        "id": "Uk7PPlYs0wcN",
        "outputId": "88c7dfe6-e59c-4702-bce8-ae6de464e89a"
      },
      "outputs": [
        {
          "data": {
            "text/plain": [
              "0.888585155732273"
            ]
          },
          "execution_count": 66,
          "metadata": {},
          "output_type": "execute_result"
        }
      ],
      "source": [
        "train_acc_retrained"
      ]
    },
    {
      "cell_type": "markdown",
      "metadata": {
        "id": "kjuEesKNdh0P"
      },
      "source": [
        "The train accuracy is 88% and the test accuracy is 57%, suggesting that the model is overfitting"
      ]
    },
    {
      "cell_type": "markdown",
      "metadata": {
        "id": "8X6rFNSAFePh"
      },
      "source": [
        "## Loss/Accuracy Curves"
      ]
    },
    {
      "cell_type": "code",
      "execution_count": 67,
      "metadata": {
        "colab": {
          "base_uri": "https://localhost:8080/",
          "height": 994
        },
        "id": "IdAy1mPdtcD9",
        "outputId": "8f939c8a-3483-40f0-92cd-8091a12a0227"
      },
      "outputs": [
        {
          "name": "stderr",
          "output_type": "stream",
          "text": [
            "<ipython-input-67-5420b84e6f07>:10: UserWarning: color is redundantly defined by the 'color' keyword argument and the fmt string \"b\" (-> color=(0.0, 0.0, 1.0, 1)). The keyword argument will take precedence.\n",
            "  plt.plot(epochs2_rt, acc2_rt, 'b', label='Training acc',c='r')\n",
            "<ipython-input-67-5420b84e6f07>:17: UserWarning: color is redundantly defined by the 'color' keyword argument and the fmt string \"b\" (-> color=(0.0, 0.0, 1.0, 1)). The keyword argument will take precedence.\n",
            "  plt.plot(epochs2_rt, loss2_rt, 'b', label='Training loss', c='r')\n"
          ]
        },
        {
          "data": {
            "text/plain": [
              "<matplotlib.legend.Legend at 0x790fb619ce80>"
            ]
          },
          "execution_count": 67,
          "metadata": {},
          "output_type": "execute_result"
        },
        {
          "data": {
            "image/png": "[encoded data removed]",
            "text/plain": [
              "<Figure size 640x480 with 1 Axes>"
            ]
          },
          "metadata": {},
          "output_type": "display_data"
        },
        {
          "data": {
            "image/png": "[encoded data removed]",
            "text/plain": [
              "<Figure size 640x480 with 1 Axes>"
            ]
          },
          "metadata": {},
          "output_type": "display_data"
        }
      ],
      "source": [
        "import matplotlib.pyplot as plt\n",
        "\n",
        "acc2_rt = history_retrained.history['accuracy']\n",
        "val_acc2_rt= history_retrained.history['val_accuracy']\n",
        "loss2_rt = history_retrained.history['loss']\n",
        "val_loss2_rt = history_retrained.history['val_loss']\n",
        "\n",
        "epochs2_rt = range(1, len(acc2_rt) + 1)\n",
        "\n",
        "plt.plot(epochs2_rt, acc2_rt, 'b', label='Training acc',c='r')\n",
        "plt.plot(epochs2_rt, val_acc2_rt, 'b', label='Validation acc')\n",
        "plt.title('Training and validation accuracy')\n",
        "plt.legend()\n",
        "\n",
        "plt.figure()\n",
        "\n",
        "plt.plot(epochs2_rt, loss2_rt, 'b', label='Training loss', c='r')\n",
        "plt.plot(epochs2_rt, val_loss2_rt, 'b', label='Validation loss')\n",
        "plt.title('Training and validation loss')\n",
        "plt.legend()\n",
        "#Code adapted from: https://www.kaggle.com/code/ngyptr/multi-class-classification-with-lstm"
      ]
    },
    {
      "cell_type": "markdown",
      "metadata": {
        "id": "aJztxDkSQ2qz"
      },
      "source": [
        "**Accuracy Curves**\n",
        "The training accuracy increases with the number of epochs, while the validation accuracy remains relatively constant. This suggests that the model is still overfitting and there has not been any improvement in the model.\n",
        "\n",
        "**Loss Curves**\n",
        "The training loss is decreasing while the validation loss is increasing. This suggests that the model is overfitting."
      ]
    },
    {
      "cell_type": "markdown",
      "metadata": {
        "id": "jnGw_IHFFikE"
      },
      "source": [
        "## ROC Curves"
      ]
    },
    {
      "cell_type": "code",
      "execution_count": 68,
      "metadata": {
        "colab": {
          "base_uri": "https://localhost:8080/",
          "height": 735
        },
        "id": "OnON79d1uEH3",
        "outputId": "f643499a-1ab2-4c73-eb0e-072b871df2ca"
      },
      "outputs": [
        {
          "name": "stdout",
          "output_type": "stream",
          "text": [
            "95/95 [==============================] - 9s 90ms/step\n"
          ]
        },
        {
          "data": {
            "image/png": "[encoded data removed]",
            "text/plain": [
              "<Figure size 800x800 with 1 Axes>"
            ]
          },
          "metadata": {},
          "output_type": "display_data"
        }
      ],
      "source": [
        "from sklearn.metrics import roc_curve, auc\n",
        "import matplotlib.pyplot as plt\n",
        "miy_probs = pipeline_retrained.predict(X_test).flatten()\n",
        "\n",
        "# Calculate ROC curve for class 0\n",
        "mifpr_class_0, mitpr_class_0, _ = roc_curve(y_test, miy_probs, pos_label=0)\n",
        "miroc_auc_class_0 = auc(mifpr_class_0, mitpr_class_0)\n",
        "\n",
        "# Calculate ROC curve for class 1\n",
        "mifpr_class_1, mitpr_class_1, _ = roc_curve(y_test, miy_probs, pos_label=1)\n",
        "miroc_auc_class_1 = auc(mifpr_class_1, mitpr_class_1)\n",
        "\n",
        "# Plot ROC curves for both classes\n",
        "plt.figure(figsize=(8, 8))\n",
        "plt.plot(mifpr_class_0, mitpr_class_0, color='darkorange', lw=2, label=f'Class 0 (AUC = {miroc_auc_class_0:.2f})')\n",
        "plt.plot(mifpr_class_1, mitpr_class_1, color='green', lw=2, label=f'Class 1 (AUC = {miroc_auc_class_1:.2f})')\n",
        "plt.plot([0, 1], [0, 1], color='navy', lw=2, linestyle='--')\n",
        "plt.xlabel('False Positive Rate')\n",
        "plt.ylabel('True Positive Rate')\n",
        "plt.title('Receiver Operating Characteristic (ROC) Curve for each class')\n",
        "plt.legend(loc='lower right')\n",
        "plt.show()\n",
        "\n",
        "# Code adapted from: https://www.statology.org/plot-multiple-roc-curves-python/;\n",
        "# https://stackoverflow.com/a/70002535;\n",
        "# https://www.geeksforgeeks.org/multiclass-receiver-operating-characteristic-roc-in-scikit-learn/\n"
      ]
    },
    {
      "cell_type": "markdown",
      "metadata": {
        "id": "tiRGvSJGReux"
      },
      "source": [
        "The AUC for class 1 is 0.58 and for class 1 is 0.43. The AUC for class 1 is quite low, which suggests that the classifier is not performing well for that class. However, the AUC for class 0 is higher, which suggests that the classifier is performing better for that class. The closer the ROC curve hugs the top left corner of the plot, the better the model does at classifying the data into categories."
      ]
    },
    {
      "cell_type": "markdown",
      "metadata": {
        "id": "YPBBUwqeFoDy"
      },
      "source": [
        "## Classification Report"
      ]
    },
    {
      "cell_type": "code",
      "execution_count": 69,
      "metadata": {
        "colab": {
          "base_uri": "https://localhost:8080/"
        },
        "id": "utnoQVOeuXj2",
        "outputId": "3827a958-840e-4f57-b8ab-8016efb85386"
      },
      "outputs": [
        {
          "name": "stdout",
          "output_type": "stream",
          "text": [
            "              precision    recall  f1-score   support\n",
            "\n",
            "           0       0.63      0.60      0.61      1680\n",
            "           1       0.52      0.55      0.54      1339\n",
            "\n",
            "    accuracy                           0.58      3019\n",
            "   macro avg       0.57      0.58      0.57      3019\n",
            "weighted avg       0.58      0.58      0.58      3019\n",
            "\n"
          ]
        }
      ],
      "source": [
        "from sklearn.metrics import classification_report\n",
        "cr_retrained = classification_report(y_test, thresholded_array_retrained)\n",
        "print(cr_retrained)"
      ]
    },
    {
      "cell_type": "markdown",
      "metadata": {
        "id": "F1tpc1qq6wBP"
      },
      "source": [
        "- Class 0 still appears to be performing better than class 1\n",
        "- **Precision:**\n",
        "  - For Class 0 (Mass-Market), the precision is 0.63, indicating that when the model predicts an image as a mass-mrket car, it is correct about 63% of the time.\n",
        "  - For Class 1 (Luxury), the precision is 0.52, indicating that when the model predicts an image as a luxury car, it is correct about 52% of the time.\n",
        "\n",
        "- **Recall (Sensitivity):**\n",
        "  - For Class 0 (Mass-Market), the recall is 0.60, indicating that the model is able to correctly identify about 60% of the actual mass-market cars.\n",
        "  - For Class 1 (Luxury), the recall is 0.55, indicating that the model is able to correctly identify about 55% of the actual luxury cars.\n",
        "\n",
        "- **F1-Score:**\n",
        "  - For Class 0 (Mass-market), the F1-score is 0.61, representing a balance between precision and recall for mass-market cars.\n",
        "  - For Class 1 (Luxury), the F1-score is 0.54, representing a balance between precision and recall for luxury cars.\n",
        "\n",
        "- **Accuracy:**\n",
        "  - The overall accuracy of the model is 0.58, indicating that about 58% of the predictions are correct. This has decreased slightly from the previous model."
      ]
    },
    {
      "cell_type": "markdown",
      "metadata": {
        "id": "1y6scwMaFskH"
      },
      "source": [
        "## Confusion Matrix"
      ]
    },
    {
      "cell_type": "code",
      "execution_count": 70,
      "metadata": {
        "colab": {
          "base_uri": "https://localhost:8080/",
          "height": 468
        },
        "id": "-UhnBXuyutcG",
        "outputId": "fbb2b99d-2913-4468-8eca-6b415f45ba9a"
      },
      "outputs": [
        {
          "data": {
            "text/plain": [
              "array([[1002,  678],\n",
              "       [ 597,  742]])"
            ]
          },
          "execution_count": 70,
          "metadata": {},
          "output_type": "execute_result"
        },
        {
          "data": {
            "image/png": "[encoded data removed]",
            "text/plain": [
              "<Figure size 640x480 with 2 Axes>"
            ]
          },
          "metadata": {},
          "output_type": "display_data"
        }
      ],
      "source": [
        "import seaborn as sns\n",
        "from sklearn.metrics import confusion_matrix\n",
        "cm_retrained=confusion_matrix(y_test, thresholded_array_retrained, labels=range(2))\n",
        "sns.heatmap(cm_retrained, annot=True)\n",
        "cm_retrained"
      ]
    },
    {
      "cell_type": "markdown",
      "metadata": {
        "id": "v3Y_8YLjRwkB"
      },
      "source": [
        "- Class 0 has a higher number of true positives than class 1, meaning that class 0 has more elements that been correctly classified, and is thus performing better than class 1.\n",
        "\n",
        "- A True Positive of 1002 represents the number of luxury car images that were correctly classified as luxury.\n",
        "\n",
        "- A True Negative of 742 represents the number of mass-market car images that were correctly classified as mass-market.\n",
        "\n",
        "- A False Positive of 678 indicates the number of mass-market car images that were incorrectly classified as luxury.\n",
        "\n",
        "- A False Negative of 597 indicates the number of luxury car images that were incorrectly classified as mass-market"
      ]
    }
  ],
  "metadata": {
    "accelerator": "TPU",
    "colab": {
      "provenance": [],
      "toc_visible": true
    },
    "kernelspec": {
      "display_name": "Python 3",
      "name": "python3"
    },
    "language_info": {
      "name": "python"
    }
  },
  "nbformat": 4,
  "nbformat_minor": 0
}
